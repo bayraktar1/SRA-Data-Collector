{
 "cells": [
  {
   "cell_type": "code",
   "id": "initial_id",
   "metadata": {
    "collapsed": true
   },
   "source": [
    "import pandas as pd\n",
    "from workflow.wrangling_funcs import clean_string"
   ],
   "outputs": [],
   "execution_count": null
  },
  {
   "metadata": {},
   "cell_type": "code",
   "source": [
    "df = pd.read_csv(\"new-model_results.csv\",sep=\",\")\n",
    "df"
   ],
   "id": "e66ca2e9e3c6b540",
   "outputs": [],
   "execution_count": null
  },
  {
   "metadata": {},
   "cell_type": "code",
   "source": [
    "df[\"run_accession\"] = df[\"Sample_Name\"].str.split(\"_\").str[0]\n",
    "df"
   ],
   "id": "35a348e39c1afc41",
   "outputs": [],
   "execution_count": null
  },
  {
   "metadata": {},
   "cell_type": "code",
   "source": [
    "metadata_df = pd.read_csv(\"/home/bayraktar/PycharmProjects/reconstruct_plasmids_snakemake/metadata.csv\",sep=\",\")\n",
    "metadata_df['inferred_country'] = metadata_df['inferred_country'].apply(clean_string)\n",
    "metadata_df"
   ],
   "id": "1641f57aa7451bdc",
   "outputs": [],
   "execution_count": null
  },
  {
   "metadata": {},
   "cell_type": "code",
   "source": "metadata_selection = metadata_df[[\"run_accession\",\"scientific_name\",\"strain\",\"inferred_collection_year\",\"inferred_source\",\"inferred_country\",\"inferred_city\", \"study_accession\",\"platform_parameters\"]]",
   "id": "e4e5d9bd2903177c",
   "outputs": [],
   "execution_count": null
  },
  {
   "metadata": {},
   "cell_type": "code",
   "source": "merged = pd.merge(df, metadata_selection, on=\"run_accession\", how=\"inner\")",
   "id": "d1defb979ae54dcc",
   "outputs": [],
   "execution_count": null
  },
  {
   "metadata": {},
   "cell_type": "code",
   "source": "merged",
   "id": "87088cfd26060bea",
   "outputs": [],
   "execution_count": null
  },
  {
   "metadata": {},
   "cell_type": "code",
   "source": [
    "from bokeh.plotting import figure, show\n",
    "from bokeh.io import output_notebook\n",
    "from bokeh.models import ColumnDataSource\n",
    "\n",
    "output_notebook()\n",
    "\n",
    "source = ColumnDataSource(merged)\n",
    "tooltips = [(column, f\"@{column}\") for column in merged.columns]\n",
    "\n",
    "fig = figure(title='MGE-cluser clusters',x_axis_label='tsne1D', y_axis_label='tsne2D', height=700, width=700, tooltips=tooltips)\n",
    "\n",
    "fig.circle(x=\"tsne1D\", y=\"tsne2D\", color='green', size=10, alpha=0.5, source=source)\n",
    "    \n",
    "\n",
    "show(fig)"
   ],
   "id": "31bc349cd535b710",
   "outputs": [],
   "execution_count": null
  }
 ],
 "metadata": {
  "kernelspec": {
   "display_name": "Python 3",
   "language": "python",
   "name": "python3"
  },
  "language_info": {
   "codemirror_mode": {
    "name": "ipython",
    "version": 2
   },
   "file_extension": ".py",
   "mimetype": "text/x-python",
   "name": "python",
   "nbconvert_exporter": "python",
   "pygments_lexer": "ipython2",
   "version": "2.7.6"
  }
 },
 "nbformat": 4,
 "nbformat_minor": 5
}
