{
 "cells": [
  {
   "cell_type": "code",
   "outputs": [],
   "source": [
    "import pandas as pd"
   ],
   "metadata": {
    "collapsed": false
   },
   "id": "13ae4a7e15d3b2d6"
  },
  {
   "cell_type": "code",
   "outputs": [],
   "source": [
    "file_path = snakemake.input[0]\n",
    "df = pd.read_csv(file_path)\n",
    "df = df.convert_dtypes()"
   ],
   "metadata": {
    "collapsed": false
   },
   "id": "3983cd0bbed85ba0"
  },
  {
   "cell_type": "markdown",
   "source": [
    "### Split data on platform"
   ],
   "metadata": {
    "collapsed": false
   },
   "id": "70e1591afbc10a0d"
  },
  {
   "cell_type": "code",
   "outputs": [],
   "source": [
    "platforms = [platform for _, platform in df.groupby(['platform'])]\n",
    "\n",
    "illumina_df = platforms[0]\n",
    "nanopore_df = platforms[1]\n",
    "pacbio_df = platforms[2]"
   ],
   "metadata": {
    "collapsed": false
   },
   "id": "874dc01e52ef3cf6",
   "execution_count": null
  },
  {
   "cell_type": "markdown",
   "source": [
    "## ILLUMINA"
   ],
   "metadata": {
    "collapsed": false
   },
   "id": "9f69345684bc8d45"
  },
  {
   "cell_type": "code",
   "outputs": [],
   "source": [
    "print(f'---Number of rows: {illumina_df.shape[0]}, Number of columns: {illumina_df.shape[1]}---')\n",
    "illumina_df.head()"
   ],
   "metadata": {
    "collapsed": false
   },
   "id": "212fffa7a4372872",
   "execution_count": null
  },
  {
   "cell_type": "code",
   "outputs": [],
   "source": [
    "illumina_df[['spots', 'bases', 'inferred_collection_year']].describe()"
   ],
   "metadata": {
    "collapsed": false
   },
   "id": "f150d9e793c96431",
   "execution_count": null
  },
  {
   "cell_type": "code",
   "outputs": [],
   "source": [
    "illumina_df['scientific_name'].value_counts()"
   ],
   "metadata": {
    "collapsed": false
   },
   "id": "48d77823f3bbf749",
   "execution_count": null
  },
  {
   "cell_type": "code",
   "outputs": [],
   "source": [
    "illumina_df['inferred_collection_year'].value_counts()"
   ],
   "metadata": {
    "collapsed": false
   },
   "id": "376c2330cdfec1fd",
   "execution_count": null
  },
  {
   "cell_type": "markdown",
   "source": [
    "## OXFORD_NANOPORE "
   ],
   "metadata": {
    "collapsed": false
   },
   "id": "60ec079b630bb24"
  },
  {
   "cell_type": "code",
   "outputs": [],
   "source": [
    "print(f'---Number of rows: {nanopore_df.shape[0]}, Number of columns: {nanopore_df.shape[1]}---')\n",
    "nanopore_df.head()"
   ],
   "metadata": {
    "collapsed": false
   },
   "id": "a93b8115bcbddccd",
   "execution_count": null
  },
  {
   "cell_type": "code",
   "outputs": [],
   "source": [
    "nanopore_df[['spots', 'bases', 'inferred_collection_year']].describe()"
   ],
   "metadata": {
    "collapsed": false
   },
   "id": "1148e1a21cd9bc5b",
   "execution_count": null
  },
  {
   "cell_type": "code",
   "outputs": [],
   "source": [
    "nanopore_df['scientific_name'].value_counts()"
   ],
   "metadata": {
    "collapsed": false
   },
   "id": "5d9e8622bd2b6e86",
   "execution_count": null
  },
  {
   "cell_type": "code",
   "outputs": [],
   "source": [
    "nanopore_df['inferred_collection_year'].value_counts()"
   ],
   "metadata": {
    "collapsed": false
   },
   "id": "20abcee6159303a5",
   "execution_count": null
  },
  {
   "cell_type": "markdown",
   "source": [
    "## PACBIO_SMRT"
   ],
   "metadata": {
    "collapsed": false
   },
   "id": "eba49a9d47db331b"
  },
  {
   "cell_type": "code",
   "outputs": [],
   "source": [
    "print(f'---Number of rows: {pacbio_df.shape[0]}, Number of columns: {pacbio_df.shape[1]}---')\n",
    "pacbio_df.head()"
   ],
   "metadata": {
    "collapsed": false
   },
   "id": "c6476316169e94d4",
   "execution_count": null
  },
  {
   "cell_type": "code",
   "outputs": [],
   "source": [
    "pacbio_df[['spots', 'bases', 'inferred_collection_year']].describe()"
   ],
   "metadata": {
    "collapsed": false
   },
   "id": "7d9ba2b650780d09",
   "execution_count": null
  },
  {
   "cell_type": "code",
   "outputs": [],
   "source": [
    "pacbio_df['scientific_name'].value_counts()"
   ],
   "metadata": {
    "collapsed": false
   },
   "id": "b825d8a1a200777e",
   "execution_count": null
  },
  {
   "cell_type": "code",
   "outputs": [],
   "source": [
    "pacbio_df['inferred_collection_year'].value_counts()"
   ],
   "metadata": {
    "collapsed": false
   },
   "id": "4098c344e6f99a91",
   "execution_count": null
  }
 ],
 "metadata": {
  "kernelspec": {
   "display_name": "Python 3",
   "language": "python",
   "name": "python3"
  },
  "language_info": {
   "codemirror_mode": {
    "name": "ipython",
    "version": 2
   },
   "file_extension": ".py",
   "mimetype": "text/x-python",
   "name": "python",
   "nbconvert_exporter": "python",
   "pygments_lexer": "ipython2",
   "version": "2.7.6"
  }
 },
 "nbformat": 4,
 "nbformat_minor": 5
}
