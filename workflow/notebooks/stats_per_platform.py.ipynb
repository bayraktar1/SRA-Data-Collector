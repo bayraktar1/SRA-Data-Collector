{
 "cells": [
  {
   "cell_type": "code",
   "outputs": [],
   "source": [
    "import pandas as pd"
   ],
   "metadata": {
    "collapsed": false,
    "ExecuteTime": {
     "end_time": "2024-02-21T13:28:34.517736480Z",
     "start_time": "2024-02-21T13:28:34.421525517Z"
    }
   },
   "id": "deda5a6d5c61a1e0",
   "execution_count": 19
  },
  {
   "cell_type": "code",
   "outputs": [],
   "source": [
    "pd.set_option('display.max_rows', None) \n",
    "pd.set_option('display.max_columns', None)"
   ],
   "metadata": {
    "collapsed": false,
    "ExecuteTime": {
     "end_time": "2024-02-21T13:28:34.519655204Z",
     "start_time": "2024-02-21T13:28:34.495440658Z"
    }
   },
   "id": "a5b590d55521ee02",
   "execution_count": 20
  },
  {
   "cell_type": "code",
   "outputs": [],
   "source": [
    "file_path = snakemake.input[0]\n",
    "df = pd.read_csv(file_path)\n",
    "df = df.convert_dtypes()"
   ],
   "metadata": {
    "collapsed": false,
    "ExecuteTime": {
     "end_time": "2024-02-21T13:28:34.620285122Z",
     "start_time": "2024-02-21T13:28:34.524297428Z"
    }
   },
   "id": "39d2c55172975af",
   "execution_count": 21
  },
  {
   "cell_type": "code",
   "outputs": [],
   "source": [
    "grouped = df.groupby('platform')"
   ],
   "metadata": {
    "collapsed": false,
    "ExecuteTime": {
     "end_time": "2024-02-21T13:28:34.666060802Z",
     "start_time": "2024-02-21T13:28:34.596906569Z"
    }
   },
   "id": "6ed48dd6f86fee5b",
   "execution_count": 22
  },
  {
   "cell_type": "code",
   "outputs": [
    {
     "data": {
      "text/plain": "platform         scientific_name\nILLUMINA         Shigella sonnei    323\nOXFORD_NANOPORE  Shigella sonnei      1\nPACBIO_SMRT      Shigella sonnei      2\nName: count, dtype: int64"
     },
     "execution_count": 23,
     "metadata": {},
     "output_type": "execute_result"
    }
   ],
   "source": [
    "grouped['scientific_name'].value_counts()"
   ],
   "metadata": {
    "collapsed": false,
    "ExecuteTime": {
     "end_time": "2024-02-21T13:28:34.734060184Z",
     "start_time": "2024-02-21T13:28:34.667282723Z"
    }
   },
   "id": "17248cb17b9d94a0",
   "execution_count": 23
  },
  {
   "cell_type": "code",
   "outputs": [
    {
     "data": {
      "text/plain": "platform         inferred_collection_year\nILLUMINA         2012                        64\n                 2014                        59\n                 2013                        57\n                 2011                        53\n                 2018                        42\n                 2015                        37\n                 2009                         4\n                 2010                         3\n                 2020                         3\n                 2016                         1\nOXFORD_NANOPORE  2014                         1\nPACBIO_SMRT      2016                         2\nName: count, dtype: Int64"
     },
     "execution_count": 24,
     "metadata": {},
     "output_type": "execute_result"
    }
   ],
   "source": [
    "grouped['inferred_collection_year'].value_counts()"
   ],
   "metadata": {
    "collapsed": false,
    "ExecuteTime": {
     "end_time": "2024-02-21T13:28:34.804981837Z",
     "start_time": "2024-02-21T13:28:34.708014357Z"
    }
   },
   "id": "14d6f8888d4f2252",
   "execution_count": 24
  },
  {
   "cell_type": "code",
   "outputs": [
    {
     "data": {
      "text/plain": "                 count         mean      std     min     25%     50%     75%  \\\nplatform                                                                       \nILLUMINA         323.0  2013.532508  2.28987  2009.0  2012.0  2013.0  2015.0   \nOXFORD_NANOPORE    1.0       2014.0     <NA>  2014.0  2014.0  2014.0  2014.0   \nPACBIO_SMRT        2.0       2016.0      0.0  2016.0  2016.0  2016.0  2016.0   \n\n                    max  \nplatform                 \nILLUMINA         2020.0  \nOXFORD_NANOPORE  2014.0  \nPACBIO_SMRT      2016.0  ",
      "text/html": "<div>\n<style scoped>\n    .dataframe tbody tr th:only-of-type {\n        vertical-align: middle;\n    }\n\n    .dataframe tbody tr th {\n        vertical-align: top;\n    }\n\n    .dataframe thead th {\n        text-align: right;\n    }\n</style>\n<table border=\"1\" class=\"dataframe\">\n  <thead>\n    <tr style=\"text-align: right;\">\n      <th></th>\n      <th>count</th>\n      <th>mean</th>\n      <th>std</th>\n      <th>min</th>\n      <th>25%</th>\n      <th>50%</th>\n      <th>75%</th>\n      <th>max</th>\n    </tr>\n    <tr>\n      <th>platform</th>\n      <th></th>\n      <th></th>\n      <th></th>\n      <th></th>\n      <th></th>\n      <th></th>\n      <th></th>\n      <th></th>\n    </tr>\n  </thead>\n  <tbody>\n    <tr>\n      <th>ILLUMINA</th>\n      <td>323.0</td>\n      <td>2013.532508</td>\n      <td>2.28987</td>\n      <td>2009.0</td>\n      <td>2012.0</td>\n      <td>2013.0</td>\n      <td>2015.0</td>\n      <td>2020.0</td>\n    </tr>\n    <tr>\n      <th>OXFORD_NANOPORE</th>\n      <td>1.0</td>\n      <td>2014.0</td>\n      <td>&lt;NA&gt;</td>\n      <td>2014.0</td>\n      <td>2014.0</td>\n      <td>2014.0</td>\n      <td>2014.0</td>\n      <td>2014.0</td>\n    </tr>\n    <tr>\n      <th>PACBIO_SMRT</th>\n      <td>2.0</td>\n      <td>2016.0</td>\n      <td>0.0</td>\n      <td>2016.0</td>\n      <td>2016.0</td>\n      <td>2016.0</td>\n      <td>2016.0</td>\n      <td>2016.0</td>\n    </tr>\n  </tbody>\n</table>\n</div>"
     },
     "execution_count": 25,
     "metadata": {},
     "output_type": "execute_result"
    }
   ],
   "source": [
    "grouped['inferred_collection_year'].describe()"
   ],
   "metadata": {
    "collapsed": false,
    "ExecuteTime": {
     "end_time": "2024-02-21T13:28:34.895156018Z",
     "start_time": "2024-02-21T13:28:34.729378042Z"
    }
   },
   "id": "97cab57e79909248",
   "execution_count": 25
  },
  {
   "cell_type": "code",
   "outputs": [
    {
     "data": {
      "text/plain": "                 count            mean             std       min       25%  \\\nplatform                                                                     \nILLUMINA         323.0  1477924.173375  1915333.270309  312469.0  505961.5   \nOXFORD_NANOPORE    1.0             0.0            <NA>       0.0       0.0   \nPACBIO_SMRT        2.0        163482.0             0.0  163482.0  163482.0   \n\n                      50%        75%         max  \nplatform                                          \nILLUMINA         601548.0  1155763.5  10263801.0  \nOXFORD_NANOPORE       0.0        0.0         0.0  \nPACBIO_SMRT      163482.0   163482.0    163482.0  ",
      "text/html": "<div>\n<style scoped>\n    .dataframe tbody tr th:only-of-type {\n        vertical-align: middle;\n    }\n\n    .dataframe tbody tr th {\n        vertical-align: top;\n    }\n\n    .dataframe thead th {\n        text-align: right;\n    }\n</style>\n<table border=\"1\" class=\"dataframe\">\n  <thead>\n    <tr style=\"text-align: right;\">\n      <th></th>\n      <th>count</th>\n      <th>mean</th>\n      <th>std</th>\n      <th>min</th>\n      <th>25%</th>\n      <th>50%</th>\n      <th>75%</th>\n      <th>max</th>\n    </tr>\n    <tr>\n      <th>platform</th>\n      <th></th>\n      <th></th>\n      <th></th>\n      <th></th>\n      <th></th>\n      <th></th>\n      <th></th>\n      <th></th>\n    </tr>\n  </thead>\n  <tbody>\n    <tr>\n      <th>ILLUMINA</th>\n      <td>323.0</td>\n      <td>1477924.173375</td>\n      <td>1915333.270309</td>\n      <td>312469.0</td>\n      <td>505961.5</td>\n      <td>601548.0</td>\n      <td>1155763.5</td>\n      <td>10263801.0</td>\n    </tr>\n    <tr>\n      <th>OXFORD_NANOPORE</th>\n      <td>1.0</td>\n      <td>0.0</td>\n      <td>&lt;NA&gt;</td>\n      <td>0.0</td>\n      <td>0.0</td>\n      <td>0.0</td>\n      <td>0.0</td>\n      <td>0.0</td>\n    </tr>\n    <tr>\n      <th>PACBIO_SMRT</th>\n      <td>2.0</td>\n      <td>163482.0</td>\n      <td>0.0</td>\n      <td>163482.0</td>\n      <td>163482.0</td>\n      <td>163482.0</td>\n      <td>163482.0</td>\n      <td>163482.0</td>\n    </tr>\n  </tbody>\n</table>\n</div>"
     },
     "execution_count": 26,
     "metadata": {},
     "output_type": "execute_result"
    }
   ],
   "source": [
    "grouped['spots'].describe()"
   ],
   "metadata": {
    "collapsed": false,
    "ExecuteTime": {
     "end_time": "2024-02-21T13:28:34.966573222Z",
     "start_time": "2024-02-21T13:28:34.820221570Z"
    }
   },
   "id": "9bb665e6093f40b7",
   "execution_count": 26
  },
  {
   "cell_type": "code",
   "outputs": [
    {
     "data": {
      "text/plain": "                 count             mean               std           min  \\\nplatform                                                                  \nILLUMINA         323.0  449789278.19195  575636532.120718    94118748.0   \nOXFORD_NANOPORE    1.0              0.0              <NA>           0.0   \nPACBIO_SMRT        2.0     1478163176.5  278799434.180494  1281022206.0   \n\n                           25%           50%            75%           max  \nplatform                                                                   \nILLUMINA           152520286.0   183083670.0    364199104.5  3099667902.0  \nOXFORD_NANOPORE            0.0           0.0            0.0           0.0  \nPACBIO_SMRT      1379592691.25  1478163176.5  1576733661.75  1675304147.0  ",
      "text/html": "<div>\n<style scoped>\n    .dataframe tbody tr th:only-of-type {\n        vertical-align: middle;\n    }\n\n    .dataframe tbody tr th {\n        vertical-align: top;\n    }\n\n    .dataframe thead th {\n        text-align: right;\n    }\n</style>\n<table border=\"1\" class=\"dataframe\">\n  <thead>\n    <tr style=\"text-align: right;\">\n      <th></th>\n      <th>count</th>\n      <th>mean</th>\n      <th>std</th>\n      <th>min</th>\n      <th>25%</th>\n      <th>50%</th>\n      <th>75%</th>\n      <th>max</th>\n    </tr>\n    <tr>\n      <th>platform</th>\n      <th></th>\n      <th></th>\n      <th></th>\n      <th></th>\n      <th></th>\n      <th></th>\n      <th></th>\n      <th></th>\n    </tr>\n  </thead>\n  <tbody>\n    <tr>\n      <th>ILLUMINA</th>\n      <td>323.0</td>\n      <td>449789278.19195</td>\n      <td>575636532.120718</td>\n      <td>94118748.0</td>\n      <td>152520286.0</td>\n      <td>183083670.0</td>\n      <td>364199104.5</td>\n      <td>3099667902.0</td>\n    </tr>\n    <tr>\n      <th>OXFORD_NANOPORE</th>\n      <td>1.0</td>\n      <td>0.0</td>\n      <td>&lt;NA&gt;</td>\n      <td>0.0</td>\n      <td>0.0</td>\n      <td>0.0</td>\n      <td>0.0</td>\n      <td>0.0</td>\n    </tr>\n    <tr>\n      <th>PACBIO_SMRT</th>\n      <td>2.0</td>\n      <td>1478163176.5</td>\n      <td>278799434.180494</td>\n      <td>1281022206.0</td>\n      <td>1379592691.25</td>\n      <td>1478163176.5</td>\n      <td>1576733661.75</td>\n      <td>1675304147.0</td>\n    </tr>\n  </tbody>\n</table>\n</div>"
     },
     "execution_count": 27,
     "metadata": {},
     "output_type": "execute_result"
    }
   ],
   "source": [
    "grouped['bases'].describe()"
   ],
   "metadata": {
    "collapsed": false,
    "ExecuteTime": {
     "end_time": "2024-02-21T13:28:35.008421926Z",
     "start_time": "2024-02-21T13:28:34.938660385Z"
    }
   },
   "id": "722c3522db9ad978",
   "execution_count": 27
  }
 ],
 "metadata": {
  "kernelspec": {
   "display_name": "Python 3",
   "language": "python",
   "name": "python3"
  },
  "language_info": {
   "codemirror_mode": {
    "name": "ipython",
    "version": 2
   },
   "file_extension": ".py",
   "mimetype": "text/x-python",
   "name": "python",
   "nbconvert_exporter": "python",
   "pygments_lexer": "ipython2",
   "version": "2.7.6"
  }
 },
 "nbformat": 4,
 "nbformat_minor": 5
}
