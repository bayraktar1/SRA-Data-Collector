{
 "cells": [
  {
   "cell_type": "code",
   "source": [
    "import pandas as pd"
   ],
   "metadata": {
    "collapsed": false
   },
   "id": "deda5a6d5c61a1e0",
   "outputs": [],
   "execution_count": null
  },
  {
   "cell_type": "code",
   "source": [
    "pd.set_option('display.max_rows', None) \n",
    "pd.set_option('display.max_columns', None)"
   ],
   "metadata": {
    "collapsed": false
   },
   "id": "a5b590d55521ee02",
   "outputs": [],
   "execution_count": null
  },
  {
   "cell_type": "code",
   "source": [
    "file_path = snakemake.input[0]\n",
    "df = pd.read_csv(file_path, low_memory=False)\n",
    "df = df.convert_dtypes()"
   ],
   "metadata": {
    "collapsed": false
   },
   "id": "39d2c55172975af",
   "outputs": [],
   "execution_count": null
  },
  {
   "cell_type": "code",
   "source": [
    "grouped = df.groupby('platform')"
   ],
   "metadata": {
    "collapsed": false
   },
   "id": "6ed48dd6f86fee5b",
   "outputs": [],
   "execution_count": null
  },
  {
   "cell_type": "code",
   "source": [
    "grouped['scientific_name'].value_counts()"
   ],
   "metadata": {
    "collapsed": false
   },
   "id": "17248cb17b9d94a0",
   "outputs": [],
   "execution_count": null
  },
  {
   "metadata": {},
   "cell_type": "code",
   "source": "grouped['inferred_source'].value_counts()",
   "id": "bab2329d8a70bba3",
   "outputs": [],
   "execution_count": null
  },
  {
   "cell_type": "code",
   "source": [
    "grouped['inferred_collection_year'].value_counts()"
   ],
   "metadata": {
    "collapsed": false
   },
   "id": "14d6f8888d4f2252",
   "outputs": [],
   "execution_count": null
  },
  {
   "cell_type": "code",
   "source": "grouped['inferred_country'].describe()",
   "metadata": {
    "collapsed": false
   },
   "id": "97cab57e79909248",
   "outputs": [],
   "execution_count": null
  },
  {
   "cell_type": "code",
   "source": [
    "grouped['spots'].describe()"
   ],
   "metadata": {
    "collapsed": false
   },
   "id": "9bb665e6093f40b7",
   "outputs": [],
   "execution_count": null
  },
  {
   "cell_type": "code",
   "source": [
    "grouped['bases'].describe()"
   ],
   "metadata": {
    "collapsed": false
   },
   "id": "722c3522db9ad978",
   "outputs": [],
   "execution_count": null
  }
 ],
 "metadata": {
  "kernelspec": {
   "display_name": "Python 3",
   "language": "python",
   "name": "python3"
  },
  "language_info": {
   "codemirror_mode": {
    "name": "ipython",
    "version": 2
   },
   "file_extension": ".py",
   "mimetype": "text/x-python",
   "name": "python",
   "nbconvert_exporter": "python",
   "pygments_lexer": "ipython2",
   "version": "2.7.6"
  }
 },
 "nbformat": 4,
 "nbformat_minor": 5
}
