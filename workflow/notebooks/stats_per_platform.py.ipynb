{
 "cells": [
  {
   "cell_type": "code",
   "outputs": [],
   "source": [
    "import pandas as pd"
   ],
   "metadata": {
    "collapsed": false,
    "ExecuteTime": {
     "end_time": "2024-02-19T12:33:55.247778396Z",
     "start_time": "2024-02-19T12:33:54.651109184Z"
    }
   },
   "id": "deda5a6d5c61a1e0",
   "execution_count": 1
  },
  {
   "cell_type": "code",
   "outputs": [
    {
     "ename": "NameError",
     "evalue": "name 'snakemake' is not defined",
     "output_type": "error",
     "traceback": [
      "\u001B[0;31m---------------------------------------------------------------------------\u001B[0m",
      "\u001B[0;31mNameError\u001B[0m                                 Traceback (most recent call last)",
      "Cell \u001B[0;32mIn[2], line 1\u001B[0m\n\u001B[0;32m----> 1\u001B[0m file_path \u001B[38;5;241m=\u001B[39m \u001B[43msnakemake\u001B[49m\u001B[38;5;241m.\u001B[39minput[\u001B[38;5;241m0\u001B[39m]\n\u001B[1;32m      2\u001B[0m df \u001B[38;5;241m=\u001B[39m pd\u001B[38;5;241m.\u001B[39mread_csv(file_path)\n\u001B[1;32m      3\u001B[0m df \u001B[38;5;241m=\u001B[39m df\u001B[38;5;241m.\u001B[39mconvert_dtypes()\n",
      "\u001B[0;31mNameError\u001B[0m: name 'snakemake' is not defined"
     ]
    }
   ],
   "source": [
    "file_path = snakemake.input[0]\n",
    "df = pd.read_csv(file_path)\n",
    "df = df.convert_dtypes()"
   ],
   "metadata": {
    "collapsed": false,
    "ExecuteTime": {
     "end_time": "2024-02-19T12:33:55.614873114Z",
     "start_time": "2024-02-19T12:33:55.288375164Z"
    }
   },
   "id": "39d2c55172975af",
   "execution_count": 2
  },
  {
   "cell_type": "markdown",
   "source": [
    "### Split data on platform"
   ],
   "metadata": {
    "collapsed": false
   },
   "id": "6358992b7f18a7ff"
  },
  {
   "cell_type": "code",
   "outputs": [],
   "source": [
    "platforms = [platform for _, platform in df.groupby(['platform'])]\n",
    "\n",
    "illumina_df = platforms[0]\n",
    "nanopore_df = platforms[1]\n",
    "pacbio_df = platforms[2]"
   ],
   "metadata": {
    "collapsed": false,
    "ExecuteTime": {
     "start_time": "2024-02-19T12:33:55.617835500Z"
    }
   },
   "id": "576e551f78c64c93",
   "execution_count": null
  },
  {
   "cell_type": "markdown",
   "source": [
    "## ILLUMINA"
   ],
   "metadata": {
    "collapsed": false
   },
   "id": "9650d454d0525e5b"
  },
  {
   "cell_type": "code",
   "outputs": [],
   "source": [
    "print(f'---Number of rows: {illumina_df.shape[0]}, Number of columns: {illumina_df.shape[1]}---')\n",
    "illumina_df.head()"
   ],
   "metadata": {
    "collapsed": false,
    "ExecuteTime": {
     "end_time": "2024-02-19T12:33:55.647997917Z",
     "start_time": "2024-02-19T12:33:55.622348975Z"
    }
   },
   "id": "81f236b9111eba36",
   "execution_count": null
  },
  {
   "cell_type": "code",
   "outputs": [],
   "source": [
    "illumina_df[['spots', 'bases', 'inferred_collection_year']].describe()"
   ],
   "metadata": {
    "collapsed": false,
    "ExecuteTime": {
     "start_time": "2024-02-19T12:33:55.626851165Z"
    }
   },
   "id": "30322a59ee0c7f8",
   "execution_count": null
  },
  {
   "cell_type": "code",
   "outputs": [],
   "source": [
    "illumina_df['scientific_name'].value_counts()"
   ],
   "metadata": {
    "collapsed": false,
    "ExecuteTime": {
     "start_time": "2024-02-19T12:33:55.632502511Z"
    }
   },
   "id": "2679c42716f0dbca",
   "execution_count": null
  },
  {
   "cell_type": "code",
   "outputs": [],
   "source": [
    "illumina_df['inferred_collection_year'].value_counts()"
   ],
   "metadata": {
    "collapsed": false,
    "ExecuteTime": {
     "start_time": "2024-02-19T12:33:55.637240238Z"
    }
   },
   "id": "f982a1bf2e8d2ddf",
   "execution_count": null
  },
  {
   "cell_type": "markdown",
   "source": [
    "## OXFORD_NANOPORE "
   ],
   "metadata": {
    "collapsed": false
   },
   "id": "92b01e1661c7bb1a"
  },
  {
   "cell_type": "code",
   "outputs": [],
   "source": [
    "print(f'---Number of rows: {nanopore_df.shape[0]}, Number of columns: {nanopore_df.shape[1]}---')\n",
    "nanopore_df.head()"
   ],
   "metadata": {
    "collapsed": false,
    "ExecuteTime": {
     "start_time": "2024-02-19T12:33:55.642461174Z"
    }
   },
   "id": "bea45ce4f033cefa",
   "execution_count": null
  },
  {
   "cell_type": "code",
   "outputs": [],
   "source": [
    "nanopore_df[['spots', 'bases', 'inferred_collection_year']].describe()"
   ],
   "metadata": {
    "collapsed": false,
    "ExecuteTime": {
     "start_time": "2024-02-19T12:33:55.646879971Z"
    }
   },
   "id": "dd919d39da62cec",
   "execution_count": null
  },
  {
   "cell_type": "code",
   "outputs": [],
   "source": [
    "nanopore_df['scientific_name'].value_counts()"
   ],
   "metadata": {
    "collapsed": false,
    "ExecuteTime": {
     "end_time": "2024-02-19T12:33:55.753685748Z",
     "start_time": "2024-02-19T12:33:55.692753520Z"
    }
   },
   "id": "55c487866b021341",
   "execution_count": null
  },
  {
   "cell_type": "code",
   "outputs": [],
   "source": [
    "nanopore_df['inferred_collection_year'].value_counts()"
   ],
   "metadata": {
    "collapsed": false,
    "ExecuteTime": {
     "start_time": "2024-02-19T12:33:55.693049264Z"
    }
   },
   "id": "172d5753123c0bd2",
   "execution_count": null
  },
  {
   "cell_type": "markdown",
   "source": [
    "## PACBIO_SMRT"
   ],
   "metadata": {
    "collapsed": false
   },
   "id": "453380e7d1276f29"
  },
  {
   "cell_type": "code",
   "outputs": [],
   "source": [
    "print(f'---Number of rows: {pacbio_df.shape[0]}, Number of columns: {pacbio_df.shape[1]}---')\n",
    "pacbio_df.head()"
   ],
   "metadata": {
    "collapsed": false,
    "ExecuteTime": {
     "start_time": "2024-02-19T12:33:55.693227033Z"
    }
   },
   "id": "ec1f139187abd26f",
   "execution_count": null
  },
  {
   "cell_type": "code",
   "outputs": [],
   "source": [
    "pacbio_df[['spots', 'bases', 'inferred_collection_year']].describe()"
   ],
   "metadata": {
    "collapsed": false,
    "ExecuteTime": {
     "start_time": "2024-02-19T12:33:55.693396228Z"
    }
   },
   "id": "dcd09eb8f7694a84",
   "execution_count": null
  },
  {
   "cell_type": "code",
   "outputs": [],
   "source": [
    "pacbio_df['scientific_name'].value_counts()"
   ],
   "metadata": {
    "collapsed": false,
    "ExecuteTime": {
     "start_time": "2024-02-19T12:33:55.693575018Z"
    }
   },
   "id": "2b2ac194118e9ac5",
   "execution_count": null
  },
  {
   "cell_type": "code",
   "outputs": [],
   "source": [
    "pacbio_df['inferred_collection_year'].value_counts()"
   ],
   "metadata": {
    "collapsed": false,
    "ExecuteTime": {
     "start_time": "2024-02-19T12:33:55.693705477Z"
    }
   },
   "id": "875b56f85ba5734c",
   "execution_count": null
  }
 ],
 "metadata": {
  "kernelspec": {
   "display_name": "Python 3",
   "language": "python",
   "name": "python3"
  },
  "language_info": {
   "codemirror_mode": {
    "name": "ipython",
    "version": 2
   },
   "file_extension": ".py",
   "mimetype": "text/x-python",
   "name": "python",
   "nbconvert_exporter": "python",
   "pygments_lexer": "ipython2",
   "version": "2.7.6"
  }
 },
 "nbformat": 4,
 "nbformat_minor": 5
}
