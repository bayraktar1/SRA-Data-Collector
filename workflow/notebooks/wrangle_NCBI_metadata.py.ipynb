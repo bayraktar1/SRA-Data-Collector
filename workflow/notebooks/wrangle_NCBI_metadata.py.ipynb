{
 "cells": [
  {
   "cell_type": "markdown",
   "id": "39bc4d739aa7cfad",
   "metadata": {},
   "source": [
    "# Introduction\n",
    "To do downstream analysis later in the project we need:\n",
    "1. Geolocation of where the sample was taken\n",
    "2. Source that the sample was isolated from\n",
    "3. Date on which the sample was collected\n",
    "4. Filter out lab strains\n",
    "\n",
    "None of these things have a column in any of the tables from the NCBI database. See this [paper](https://www.ncbi.nlm.nih.gov/pmc/articles/PMC6380228/) that describes how metadata in NCBI sucks.\n",
    " \n",
    "However, there is a column called 'sample_attribute' in the SRA and Sample table where a submitter can add additional information about a sample. As 'sample_attribute' does not require a specific format or specific information. The information found there varies greatly between samples. Some organizations (rivm) that submit data to the NCBI have a consisted format for this column which then also varies per organization, others do not. This makes it very challenging to extrapolate the information mentioned above for all samples. In this notebook we attempt to extract this information."
   ]
  },
  {
   "cell_type": "code",
   "execution_count": 1,
   "id": "73d9d16141f0b738",
   "metadata": {
    "collapsed": false,
    "editable": true,
    "slideshow": {
     "slide_type": ""
    },
    "tags": [],
    "ExecuteTime": {
     "end_time": "2024-02-09T14:38:43.337126336Z",
     "start_time": "2024-02-09T14:38:43.125229642Z"
    }
   },
   "outputs": [],
   "source": [
    "import pandas as pd\n",
    "import re\n",
    "import pyarrow.feather as feather\n",
    "from collections import defaultdict"
   ]
  },
  {
   "cell_type": "markdown",
   "id": "4c20e0d8fb7e6c47",
   "metadata": {
    "collapsed": false
   },
   "source": [
    "Functions written for this notebook are stored in wrangling_funcs.py. Please look there for documentation and tests."
   ]
  },
  {
   "cell_type": "code",
   "execution_count": 2,
   "id": "initial_id",
   "metadata": {
    "ExecuteTime": {
     "end_time": "2024-02-09T14:38:43.337649154Z",
     "start_time": "2024-02-09T14:38:43.337044646Z"
    }
   },
   "outputs": [],
   "source": [
    "import wrangling_funcs"
   ]
  },
  {
   "cell_type": "markdown",
   "id": "5206359fbfd76a73",
   "metadata": {},
   "source": [
    "# Reading in the data\n",
    "---\n",
    "\n",
    "R has a nice package called SRAdb that you can use to query the NCBI database. However, I prefer working in Python. So we are querying the data in R using SRAdb and then exporting it in feather format for use here. There might be a way to directly get a dump of the SRA database and query it without using SRAdb. I will look into this.\n",
    "\n",
    "The default index of a dataframe is not useful to us. Instead, we use the run_accession, these should be unique. This way we can keep track when we split the metadata into a separate dataframe."
   ]
  },
  {
   "cell_type": "code",
   "execution_count": 3,
   "id": "91c8e35744180e75",
   "metadata": {
    "ExecuteTime": {
     "end_time": "2024-02-09T14:38:43.471469103Z",
     "start_time": "2024-02-09T14:38:43.337194677Z"
    }
   },
   "outputs": [
    {
     "name": "stdout",
     "output_type": "stream",
     "text": [
      "---Number of rows: 45124, Number of columns: 52---\n"
     ]
    },
    {
     "data": {
      "text/plain": "               sra_ID  run_ID  run_alias    run_date updated_date    spots  \\\nrun_accession                                                                \nDRR002036        1868    1872  DRR002036  2010-07-13   2023-06-10  2648846   \nDRR002039        1869    1904  DRR002039  2011-07-18   2023-06-16  3448927   \nDRR002034        1870    1896  DRR002034  2011-07-18   2023-06-16  3456264   \nDRR002025        1871    1884  DRR002025  2011-07-18   2023-06-03  4686868   \nDRR002037        1872    1886  DRR002037  2010-07-13   2023-06-02  3039542   \n\n                   bases run_center experiment_name run_attribute  ...  \\\nrun_accession                                                      ...   \nDRR002036      529769200     NANKAI       DRX001488          <NA>  ...   \nDRR002039      689785400     NANKAI       DRX001491          <NA>  ...   \nDRR002034      691252800     NANKAI       DRX001486          <NA>  ...   \nDRR002025      937373600     NANKAI       DRX001477          <NA>  ...   \nDRR002037      607908400     NANKAI       DRX001489          <NA>  ...   \n\n               center_project_name study_description study_url_link  \\\nrun_accession                                                         \nDRR002036         Escherichia coli              <NA>           <NA>   \nDRR002039         Escherichia coli              <NA>           <NA>   \nDRR002034         Escherichia coli              <NA>           <NA>   \nDRR002025         Escherichia coli              <NA>           <NA>   \nDRR002037         Escherichia coli              <NA>           <NA>   \n\n              study_attribute submission_ID submission_accession  \\\nrun_accession                                                      \nDRR002036                <NA>           496            DRA000563   \nDRR002039                <NA>           496            DRA000563   \nDRR002034                <NA>           496            DRA000563   \nDRR002025                <NA>           496            DRA000563   \nDRR002037                <NA>           496            DRA000563   \n\n              submission_center  \\\nrun_accession                     \nDRR002036                NANKAI   \nDRR002039                NANKAI   \nDRR002034                NANKAI   \nDRR002025                NANKAI   \nDRR002037                NANKAI   \n\n                                                  submission_lab  \\\nrun_accession                                                      \nDRR002036      TEDA School of Biological Sciences and Biotech...   \nDRR002039      TEDA School of Biological Sciences and Biotech...   \nDRR002034      TEDA School of Biological Sciences and Biotech...   \nDRR002025      TEDA School of Biological Sciences and Biotech...   \nDRR002037      TEDA School of Biological Sciences and Biotech...   \n\n                     sradb_updated   scientific_name  \nrun_accession                                         \nDRR002036      2023-12-09 17:25:46  Escherichia coli  \nDRR002039      2023-12-09 17:25:46  Escherichia coli  \nDRR002034      2023-12-09 17:25:46  Escherichia coli  \nDRR002025      2023-12-09 17:25:46  Escherichia coli  \nDRR002037      2023-12-09 17:25:46  Escherichia coli  \n\n[5 rows x 52 columns]",
      "text/html": "<div>\n<style scoped>\n    .dataframe tbody tr th:only-of-type {\n        vertical-align: middle;\n    }\n\n    .dataframe tbody tr th {\n        vertical-align: top;\n    }\n\n    .dataframe thead th {\n        text-align: right;\n    }\n</style>\n<table border=\"1\" class=\"dataframe\">\n  <thead>\n    <tr style=\"text-align: right;\">\n      <th></th>\n      <th>sra_ID</th>\n      <th>run_ID</th>\n      <th>run_alias</th>\n      <th>run_date</th>\n      <th>updated_date</th>\n      <th>spots</th>\n      <th>bases</th>\n      <th>run_center</th>\n      <th>experiment_name</th>\n      <th>run_attribute</th>\n      <th>...</th>\n      <th>center_project_name</th>\n      <th>study_description</th>\n      <th>study_url_link</th>\n      <th>study_attribute</th>\n      <th>submission_ID</th>\n      <th>submission_accession</th>\n      <th>submission_center</th>\n      <th>submission_lab</th>\n      <th>sradb_updated</th>\n      <th>scientific_name</th>\n    </tr>\n    <tr>\n      <th>run_accession</th>\n      <th></th>\n      <th></th>\n      <th></th>\n      <th></th>\n      <th></th>\n      <th></th>\n      <th></th>\n      <th></th>\n      <th></th>\n      <th></th>\n      <th></th>\n      <th></th>\n      <th></th>\n      <th></th>\n      <th></th>\n      <th></th>\n      <th></th>\n      <th></th>\n      <th></th>\n      <th></th>\n      <th></th>\n    </tr>\n  </thead>\n  <tbody>\n    <tr>\n      <th>DRR002036</th>\n      <td>1868</td>\n      <td>1872</td>\n      <td>DRR002036</td>\n      <td>2010-07-13</td>\n      <td>2023-06-10</td>\n      <td>2648846</td>\n      <td>529769200</td>\n      <td>NANKAI</td>\n      <td>DRX001488</td>\n      <td>&lt;NA&gt;</td>\n      <td>...</td>\n      <td>Escherichia coli</td>\n      <td>&lt;NA&gt;</td>\n      <td>&lt;NA&gt;</td>\n      <td>&lt;NA&gt;</td>\n      <td>496</td>\n      <td>DRA000563</td>\n      <td>NANKAI</td>\n      <td>TEDA School of Biological Sciences and Biotech...</td>\n      <td>2023-12-09 17:25:46</td>\n      <td>Escherichia coli</td>\n    </tr>\n    <tr>\n      <th>DRR002039</th>\n      <td>1869</td>\n      <td>1904</td>\n      <td>DRR002039</td>\n      <td>2011-07-18</td>\n      <td>2023-06-16</td>\n      <td>3448927</td>\n      <td>689785400</td>\n      <td>NANKAI</td>\n      <td>DRX001491</td>\n      <td>&lt;NA&gt;</td>\n      <td>...</td>\n      <td>Escherichia coli</td>\n      <td>&lt;NA&gt;</td>\n      <td>&lt;NA&gt;</td>\n      <td>&lt;NA&gt;</td>\n      <td>496</td>\n      <td>DRA000563</td>\n      <td>NANKAI</td>\n      <td>TEDA School of Biological Sciences and Biotech...</td>\n      <td>2023-12-09 17:25:46</td>\n      <td>Escherichia coli</td>\n    </tr>\n    <tr>\n      <th>DRR002034</th>\n      <td>1870</td>\n      <td>1896</td>\n      <td>DRR002034</td>\n      <td>2011-07-18</td>\n      <td>2023-06-16</td>\n      <td>3456264</td>\n      <td>691252800</td>\n      <td>NANKAI</td>\n      <td>DRX001486</td>\n      <td>&lt;NA&gt;</td>\n      <td>...</td>\n      <td>Escherichia coli</td>\n      <td>&lt;NA&gt;</td>\n      <td>&lt;NA&gt;</td>\n      <td>&lt;NA&gt;</td>\n      <td>496</td>\n      <td>DRA000563</td>\n      <td>NANKAI</td>\n      <td>TEDA School of Biological Sciences and Biotech...</td>\n      <td>2023-12-09 17:25:46</td>\n      <td>Escherichia coli</td>\n    </tr>\n    <tr>\n      <th>DRR002025</th>\n      <td>1871</td>\n      <td>1884</td>\n      <td>DRR002025</td>\n      <td>2011-07-18</td>\n      <td>2023-06-03</td>\n      <td>4686868</td>\n      <td>937373600</td>\n      <td>NANKAI</td>\n      <td>DRX001477</td>\n      <td>&lt;NA&gt;</td>\n      <td>...</td>\n      <td>Escherichia coli</td>\n      <td>&lt;NA&gt;</td>\n      <td>&lt;NA&gt;</td>\n      <td>&lt;NA&gt;</td>\n      <td>496</td>\n      <td>DRA000563</td>\n      <td>NANKAI</td>\n      <td>TEDA School of Biological Sciences and Biotech...</td>\n      <td>2023-12-09 17:25:46</td>\n      <td>Escherichia coli</td>\n    </tr>\n    <tr>\n      <th>DRR002037</th>\n      <td>1872</td>\n      <td>1886</td>\n      <td>DRR002037</td>\n      <td>2010-07-13</td>\n      <td>2023-06-02</td>\n      <td>3039542</td>\n      <td>607908400</td>\n      <td>NANKAI</td>\n      <td>DRX001489</td>\n      <td>&lt;NA&gt;</td>\n      <td>...</td>\n      <td>Escherichia coli</td>\n      <td>&lt;NA&gt;</td>\n      <td>&lt;NA&gt;</td>\n      <td>&lt;NA&gt;</td>\n      <td>496</td>\n      <td>DRA000563</td>\n      <td>NANKAI</td>\n      <td>TEDA School of Biological Sciences and Biotech...</td>\n      <td>2023-12-09 17:25:46</td>\n      <td>Escherichia coli</td>\n    </tr>\n  </tbody>\n</table>\n<p>5 rows × 52 columns</p>\n</div>"
     },
     "execution_count": 3,
     "metadata": {},
     "output_type": "execute_result"
    }
   ],
   "source": [
    "file_path = '../../results/SRA.feather'\n",
    "data = feather.read_feather(file_path)\n",
    "# data = feather.read_feather(snakemake.input[0])\n",
    "\n",
    "metadata_df = pd.DataFrame(data)\n",
    "metadata_df = metadata_df.convert_dtypes()\n",
    "metadata_df.set_index('run_accession', inplace=True)\n",
    "\n",
    "print(f'---Number of rows: {metadata_df.shape[0]}, Number of columns: {metadata_df.shape[1]}---')\n",
    "metadata_df.head()"
   ]
  },
  {
   "cell_type": "markdown",
   "id": "158c7f6169f29941",
   "metadata": {},
   "source": [
    "# Finding metadata in the sample_attribute\n",
    "---\n",
    "\n",
    "All the metadata we are interested in is contained in the 'sample_attribute' column. From what we could see most of the information in this column is split by '||' characters. The information between these characters is then often split using ':'. We will use this to make key value pairs which we will then turn into a dataframe."
   ]
  },
  {
   "cell_type": "code",
   "execution_count": 4,
   "id": "7a828f293d94d74e",
   "metadata": {
    "ExecuteTime": {
     "end_time": "2024-02-09T14:38:44.879685330Z",
     "start_time": "2024-02-09T14:38:43.481724423Z"
    }
   },
   "outputs": [
    {
     "name": "stdout",
     "output_type": "stream",
     "text": [
      "---Number of rows: 45124, Number of columns: 156---\n"
     ]
    },
    {
     "data": {
      "text/plain": "                sample_name      strain  \\\nrun_accession                             \nDRR002036         DRS001446        5W19   \nDRR002039         DRS001449        8W17   \nDRR002034         DRS001444         5W3   \nDRR002025         DRS001435        3X31   \nDRR002037         DRS001447        5W21   \n...                     ...         ...   \nERR9079443     SAL_IB8517AA  YA00197045   \nERR9079436     SAL_IB8513AA  YA00230774   \nERR9079429     SAL_IB8509AA  YA00230709   \nERR9079439     SAL_IB8519AA  YA00197228   \nERR9079431     SAL_IB8512AA  YA00230720   \n\n                                                  sample_comment  \\\nrun_accession                                                      \nDRR002036      Replicate evolution using glucose-limited chem...   \nDRR002039      Replicate evolution using glucose-limited chem...   \nDRR002034      Replicate evolution using glucose-limited chem...   \nDRR002025      Replicate evolution using glucose-limited chem...   \nDRR002037      Replicate evolution using glucose-limited chem...   \n...                                                          ...   \nERR9079443                                                  <NA>   \nERR9079436                                                  <NA>   \nERR9079429                                                  <NA>   \nERR9079439                                                  <NA>   \nERR9079431                                                  <NA>   \n\n              collection_date env_broad_scale env_local_scale env_medium  \\\nrun_accession                                                              \nDRR002036                <NA>            <NA>            <NA>       <NA>   \nDRR002039                <NA>            <NA>            <NA>       <NA>   \nDRR002034                <NA>            <NA>            <NA>       <NA>   \nDRR002025                <NA>            <NA>            <NA>       <NA>   \nDRR002037                <NA>            <NA>            <NA>       <NA>   \n...                       ...             ...             ...        ...   \nERR9079443         2020-02-07            <NA>            <NA>       <NA>   \nERR9079436         2020-12-23            <NA>            <NA>       <NA>   \nERR9079429         2020-12-15            <NA>            <NA>       <NA>   \nERR9079439         2020-02-16            <NA>            <NA>       <NA>   \nERR9079431         2020-12-16            <NA>            <NA>       <NA>   \n\n              geo_loc_name isol_growth_condt lat_lon  ... protocol  \\\nrun_accession                                         ...            \nDRR002036             <NA>              <NA>    <NA>  ...     <NA>   \nDRR002039             <NA>              <NA>    <NA>  ...     <NA>   \nDRR002034             <NA>              <NA>    <NA>  ...     <NA>   \nDRR002025             <NA>              <NA>    <NA>  ...     <NA>   \nDRR002037             <NA>              <NA>    <NA>  ...     <NA>   \n...                    ...               ...     ...  ...      ...   \nERR9079443            <NA>              <NA>    <NA>  ...     <NA>   \nERR9079436            <NA>              <NA>    <NA>  ...     <NA>   \nERR9079429            <NA>              <NA>    <NA>  ...     <NA>   \nERR9079439            <NA>              <NA>    <NA>  ...     <NA>   \nERR9079431            <NA>              <NA>    <NA>  ...     <NA>   \n\n              arrayexpress_strainorline arrayexpress_phenotype lab_host  \\\nrun_accession                                                             \nDRR002036                          <NA>                    NaN     <NA>   \nDRR002039                          <NA>                    NaN     <NA>   \nDRR002034                          <NA>                    NaN     <NA>   \nDRR002025                          <NA>                    NaN     <NA>   \nDRR002037                          <NA>                    NaN     <NA>   \n...                                 ...                    ...      ...   \nERR9079443                         <NA>                    NaN     <NA>   \nERR9079436                         <NA>                    NaN     <NA>   \nERR9079429                         <NA>                    NaN     <NA>   \nERR9079439                         <NA>                    NaN     <NA>   \nERR9079431                         <NA>                    NaN     <NA>   \n\n              instrument_model identified_by isolation_site  \\\nrun_accession                                                 \nDRR002036                 <NA>           NaN           <NA>   \nDRR002039                 <NA>           NaN           <NA>   \nDRR002034                 <NA>           NaN           <NA>   \nDRR002025                 <NA>           NaN           <NA>   \nDRR002037                 <NA>           NaN           <NA>   \n...                        ...           ...            ...   \nERR9079443                <NA>           NaN           <NA>   \nERR9079436                <NA>           NaN           <NA>   \nERR9079429                <NA>           NaN           <NA>   \nERR9079439                <NA>           NaN           <NA>   \nERR9079431                <NA>           NaN           <NA>   \n\n              isolation_hospital week_year_isolated  \\\nrun_accession                                         \nDRR002036                   <NA>               <NA>   \nDRR002039                   <NA>               <NA>   \nDRR002034                   <NA>               <NA>   \nDRR002025                   <NA>               <NA>   \nDRR002037                   <NA>               <NA>   \n...                          ...                ...   \nERR9079443                  <NA>               <NA>   \nERR9079436                  <NA>               <NA>   \nERR9079429                  <NA>               <NA>   \nERR9079439                  <NA>               <NA>   \nERR9079431                  <NA>               <NA>   \n\n              plant_associated_environmental_package  \nrun_accession                                         \nDRR002036                                       <NA>  \nDRR002039                                       <NA>  \nDRR002034                                       <NA>  \nDRR002025                                       <NA>  \nDRR002037                                       <NA>  \n...                                              ...  \nERR9079443                                      <NA>  \nERR9079436                                      <NA>  \nERR9079429                                      <NA>  \nERR9079439                                      <NA>  \nERR9079431                                      <NA>  \n\n[45124 rows x 156 columns]",
      "text/html": "<div>\n<style scoped>\n    .dataframe tbody tr th:only-of-type {\n        vertical-align: middle;\n    }\n\n    .dataframe tbody tr th {\n        vertical-align: top;\n    }\n\n    .dataframe thead th {\n        text-align: right;\n    }\n</style>\n<table border=\"1\" class=\"dataframe\">\n  <thead>\n    <tr style=\"text-align: right;\">\n      <th></th>\n      <th>sample_name</th>\n      <th>strain</th>\n      <th>sample_comment</th>\n      <th>collection_date</th>\n      <th>env_broad_scale</th>\n      <th>env_local_scale</th>\n      <th>env_medium</th>\n      <th>geo_loc_name</th>\n      <th>isol_growth_condt</th>\n      <th>lat_lon</th>\n      <th>...</th>\n      <th>protocol</th>\n      <th>arrayexpress_strainorline</th>\n      <th>arrayexpress_phenotype</th>\n      <th>lab_host</th>\n      <th>instrument_model</th>\n      <th>identified_by</th>\n      <th>isolation_site</th>\n      <th>isolation_hospital</th>\n      <th>week_year_isolated</th>\n      <th>plant_associated_environmental_package</th>\n    </tr>\n    <tr>\n      <th>run_accession</th>\n      <th></th>\n      <th></th>\n      <th></th>\n      <th></th>\n      <th></th>\n      <th></th>\n      <th></th>\n      <th></th>\n      <th></th>\n      <th></th>\n      <th></th>\n      <th></th>\n      <th></th>\n      <th></th>\n      <th></th>\n      <th></th>\n      <th></th>\n      <th></th>\n      <th></th>\n      <th></th>\n      <th></th>\n    </tr>\n  </thead>\n  <tbody>\n    <tr>\n      <th>DRR002036</th>\n      <td>DRS001446</td>\n      <td>5W19</td>\n      <td>Replicate evolution using glucose-limited chem...</td>\n      <td>&lt;NA&gt;</td>\n      <td>&lt;NA&gt;</td>\n      <td>&lt;NA&gt;</td>\n      <td>&lt;NA&gt;</td>\n      <td>&lt;NA&gt;</td>\n      <td>&lt;NA&gt;</td>\n      <td>&lt;NA&gt;</td>\n      <td>...</td>\n      <td>&lt;NA&gt;</td>\n      <td>&lt;NA&gt;</td>\n      <td>NaN</td>\n      <td>&lt;NA&gt;</td>\n      <td>&lt;NA&gt;</td>\n      <td>NaN</td>\n      <td>&lt;NA&gt;</td>\n      <td>&lt;NA&gt;</td>\n      <td>&lt;NA&gt;</td>\n      <td>&lt;NA&gt;</td>\n    </tr>\n    <tr>\n      <th>DRR002039</th>\n      <td>DRS001449</td>\n      <td>8W17</td>\n      <td>Replicate evolution using glucose-limited chem...</td>\n      <td>&lt;NA&gt;</td>\n      <td>&lt;NA&gt;</td>\n      <td>&lt;NA&gt;</td>\n      <td>&lt;NA&gt;</td>\n      <td>&lt;NA&gt;</td>\n      <td>&lt;NA&gt;</td>\n      <td>&lt;NA&gt;</td>\n      <td>...</td>\n      <td>&lt;NA&gt;</td>\n      <td>&lt;NA&gt;</td>\n      <td>NaN</td>\n      <td>&lt;NA&gt;</td>\n      <td>&lt;NA&gt;</td>\n      <td>NaN</td>\n      <td>&lt;NA&gt;</td>\n      <td>&lt;NA&gt;</td>\n      <td>&lt;NA&gt;</td>\n      <td>&lt;NA&gt;</td>\n    </tr>\n    <tr>\n      <th>DRR002034</th>\n      <td>DRS001444</td>\n      <td>5W3</td>\n      <td>Replicate evolution using glucose-limited chem...</td>\n      <td>&lt;NA&gt;</td>\n      <td>&lt;NA&gt;</td>\n      <td>&lt;NA&gt;</td>\n      <td>&lt;NA&gt;</td>\n      <td>&lt;NA&gt;</td>\n      <td>&lt;NA&gt;</td>\n      <td>&lt;NA&gt;</td>\n      <td>...</td>\n      <td>&lt;NA&gt;</td>\n      <td>&lt;NA&gt;</td>\n      <td>NaN</td>\n      <td>&lt;NA&gt;</td>\n      <td>&lt;NA&gt;</td>\n      <td>NaN</td>\n      <td>&lt;NA&gt;</td>\n      <td>&lt;NA&gt;</td>\n      <td>&lt;NA&gt;</td>\n      <td>&lt;NA&gt;</td>\n    </tr>\n    <tr>\n      <th>DRR002025</th>\n      <td>DRS001435</td>\n      <td>3X31</td>\n      <td>Replicate evolution using glucose-limited chem...</td>\n      <td>&lt;NA&gt;</td>\n      <td>&lt;NA&gt;</td>\n      <td>&lt;NA&gt;</td>\n      <td>&lt;NA&gt;</td>\n      <td>&lt;NA&gt;</td>\n      <td>&lt;NA&gt;</td>\n      <td>&lt;NA&gt;</td>\n      <td>...</td>\n      <td>&lt;NA&gt;</td>\n      <td>&lt;NA&gt;</td>\n      <td>NaN</td>\n      <td>&lt;NA&gt;</td>\n      <td>&lt;NA&gt;</td>\n      <td>NaN</td>\n      <td>&lt;NA&gt;</td>\n      <td>&lt;NA&gt;</td>\n      <td>&lt;NA&gt;</td>\n      <td>&lt;NA&gt;</td>\n    </tr>\n    <tr>\n      <th>DRR002037</th>\n      <td>DRS001447</td>\n      <td>5W21</td>\n      <td>Replicate evolution using glucose-limited chem...</td>\n      <td>&lt;NA&gt;</td>\n      <td>&lt;NA&gt;</td>\n      <td>&lt;NA&gt;</td>\n      <td>&lt;NA&gt;</td>\n      <td>&lt;NA&gt;</td>\n      <td>&lt;NA&gt;</td>\n      <td>&lt;NA&gt;</td>\n      <td>...</td>\n      <td>&lt;NA&gt;</td>\n      <td>&lt;NA&gt;</td>\n      <td>NaN</td>\n      <td>&lt;NA&gt;</td>\n      <td>&lt;NA&gt;</td>\n      <td>NaN</td>\n      <td>&lt;NA&gt;</td>\n      <td>&lt;NA&gt;</td>\n      <td>&lt;NA&gt;</td>\n      <td>&lt;NA&gt;</td>\n    </tr>\n    <tr>\n      <th>...</th>\n      <td>...</td>\n      <td>...</td>\n      <td>...</td>\n      <td>...</td>\n      <td>...</td>\n      <td>...</td>\n      <td>...</td>\n      <td>...</td>\n      <td>...</td>\n      <td>...</td>\n      <td>...</td>\n      <td>...</td>\n      <td>...</td>\n      <td>...</td>\n      <td>...</td>\n      <td>...</td>\n      <td>...</td>\n      <td>...</td>\n      <td>...</td>\n      <td>...</td>\n      <td>...</td>\n    </tr>\n    <tr>\n      <th>ERR9079443</th>\n      <td>SAL_IB8517AA</td>\n      <td>YA00197045</td>\n      <td>&lt;NA&gt;</td>\n      <td>2020-02-07</td>\n      <td>&lt;NA&gt;</td>\n      <td>&lt;NA&gt;</td>\n      <td>&lt;NA&gt;</td>\n      <td>&lt;NA&gt;</td>\n      <td>&lt;NA&gt;</td>\n      <td>&lt;NA&gt;</td>\n      <td>...</td>\n      <td>&lt;NA&gt;</td>\n      <td>&lt;NA&gt;</td>\n      <td>NaN</td>\n      <td>&lt;NA&gt;</td>\n      <td>&lt;NA&gt;</td>\n      <td>NaN</td>\n      <td>&lt;NA&gt;</td>\n      <td>&lt;NA&gt;</td>\n      <td>&lt;NA&gt;</td>\n      <td>&lt;NA&gt;</td>\n    </tr>\n    <tr>\n      <th>ERR9079436</th>\n      <td>SAL_IB8513AA</td>\n      <td>YA00230774</td>\n      <td>&lt;NA&gt;</td>\n      <td>2020-12-23</td>\n      <td>&lt;NA&gt;</td>\n      <td>&lt;NA&gt;</td>\n      <td>&lt;NA&gt;</td>\n      <td>&lt;NA&gt;</td>\n      <td>&lt;NA&gt;</td>\n      <td>&lt;NA&gt;</td>\n      <td>...</td>\n      <td>&lt;NA&gt;</td>\n      <td>&lt;NA&gt;</td>\n      <td>NaN</td>\n      <td>&lt;NA&gt;</td>\n      <td>&lt;NA&gt;</td>\n      <td>NaN</td>\n      <td>&lt;NA&gt;</td>\n      <td>&lt;NA&gt;</td>\n      <td>&lt;NA&gt;</td>\n      <td>&lt;NA&gt;</td>\n    </tr>\n    <tr>\n      <th>ERR9079429</th>\n      <td>SAL_IB8509AA</td>\n      <td>YA00230709</td>\n      <td>&lt;NA&gt;</td>\n      <td>2020-12-15</td>\n      <td>&lt;NA&gt;</td>\n      <td>&lt;NA&gt;</td>\n      <td>&lt;NA&gt;</td>\n      <td>&lt;NA&gt;</td>\n      <td>&lt;NA&gt;</td>\n      <td>&lt;NA&gt;</td>\n      <td>...</td>\n      <td>&lt;NA&gt;</td>\n      <td>&lt;NA&gt;</td>\n      <td>NaN</td>\n      <td>&lt;NA&gt;</td>\n      <td>&lt;NA&gt;</td>\n      <td>NaN</td>\n      <td>&lt;NA&gt;</td>\n      <td>&lt;NA&gt;</td>\n      <td>&lt;NA&gt;</td>\n      <td>&lt;NA&gt;</td>\n    </tr>\n    <tr>\n      <th>ERR9079439</th>\n      <td>SAL_IB8519AA</td>\n      <td>YA00197228</td>\n      <td>&lt;NA&gt;</td>\n      <td>2020-02-16</td>\n      <td>&lt;NA&gt;</td>\n      <td>&lt;NA&gt;</td>\n      <td>&lt;NA&gt;</td>\n      <td>&lt;NA&gt;</td>\n      <td>&lt;NA&gt;</td>\n      <td>&lt;NA&gt;</td>\n      <td>...</td>\n      <td>&lt;NA&gt;</td>\n      <td>&lt;NA&gt;</td>\n      <td>NaN</td>\n      <td>&lt;NA&gt;</td>\n      <td>&lt;NA&gt;</td>\n      <td>NaN</td>\n      <td>&lt;NA&gt;</td>\n      <td>&lt;NA&gt;</td>\n      <td>&lt;NA&gt;</td>\n      <td>&lt;NA&gt;</td>\n    </tr>\n    <tr>\n      <th>ERR9079431</th>\n      <td>SAL_IB8512AA</td>\n      <td>YA00230720</td>\n      <td>&lt;NA&gt;</td>\n      <td>2020-12-16</td>\n      <td>&lt;NA&gt;</td>\n      <td>&lt;NA&gt;</td>\n      <td>&lt;NA&gt;</td>\n      <td>&lt;NA&gt;</td>\n      <td>&lt;NA&gt;</td>\n      <td>&lt;NA&gt;</td>\n      <td>...</td>\n      <td>&lt;NA&gt;</td>\n      <td>&lt;NA&gt;</td>\n      <td>NaN</td>\n      <td>&lt;NA&gt;</td>\n      <td>&lt;NA&gt;</td>\n      <td>NaN</td>\n      <td>&lt;NA&gt;</td>\n      <td>&lt;NA&gt;</td>\n      <td>&lt;NA&gt;</td>\n      <td>&lt;NA&gt;</td>\n    </tr>\n  </tbody>\n</table>\n<p>45124 rows × 156 columns</p>\n</div>"
     },
     "execution_count": 4,
     "metadata": {},
     "output_type": "execute_result"
    }
   ],
   "source": [
    "sample_attribute = metadata_df['sample_attribute']\n",
    "faulty_lines = []\n",
    "correct_lines = []\n",
    "\n",
    "pattern = re.compile(r\"^[mM]is{1,3}ing$|^[nN]ot.*|^[oO]ther$|^[uU]nspecified$|^\\.$|^\\*$|\\?|^[Nn]a[nN]$|^[Nn]a$|^ $|^[Uu]nknown$|^[Nn]o$\")\n",
    "\n",
    "for line, identity in zip(sample_attribute, sample_attribute.index):\n",
    "    line = line.split(\"||\")\n",
    "    line_items = defaultdict(list)\n",
    "    for subitem in line:\n",
    "        try:\n",
    "            key, value = subitem.split(': ', 1)\n",
    "            strip_key = wrangling_funcs.clean_string(key)\n",
    "            strip_value = value.strip()\n",
    "            if pattern.match(strip_value):\n",
    "                strip_value = pd.NA\n",
    "            line_items[strip_key] = strip_value\n",
    "            line_items['run_accession'] = identity\n",
    "        except ValueError:\n",
    "            faulty_lines.append((identity, line))\n",
    "    correct_lines.append(line_items)\n",
    "\n",
    "smpl_att_df = pd.DataFrame(correct_lines)\n",
    "smpl_att_df = smpl_att_df.convert_dtypes()\n",
    "smpl_att_df.set_index('run_accession', inplace=True)\n",
    "\n",
    "print(f'---Number of rows: {smpl_att_df.shape[0]}, Number of columns: {smpl_att_df.shape[1]}---')\n",
    "smpl_att_df"
   ]
  },
  {
   "cell_type": "markdown",
   "id": "df47fa10046a4a4c",
   "metadata": {},
   "source": [
    "### Searching for geographic data\n",
    "\n",
    "There is no consistent column that contains the geolocation. To (hopefully) obtain the geolocation we use regex to find keywords in the column names of the dataframe. The matched columns are then combined in a single column while handling NaN values."
   ]
  },
  {
   "cell_type": "code",
   "execution_count": 5,
   "id": "865003592205b67c",
   "metadata": {
    "ExecuteTime": {
     "end_time": "2024-02-09T14:38:46.787882193Z",
     "start_time": "2024-02-09T14:38:44.882680766Z"
    }
   },
   "outputs": [
    {
     "name": "stdout",
     "output_type": "stream",
     "text": [
      "The following columns matched the keywords: {'isolation_country', 'country', 'geographic_location_altitude', 'continent', 'geographic_location', 'geographic_location_region_and_locality', 'geographic_location_country_and_or_sea', 'geo_loc_name'}\n",
      "ERROR: Country name not recognized by Pycountry. Continent set to NaN!\n",
      "---Number of rows: 45124, Number of columns: 151---\n"
     ]
    },
    {
     "data": {
      "text/plain": "              sample_name strain  \\\nrun_accession                      \nDRR002036       DRS001446   5W19   \nDRR002039       DRS001449   8W17   \nDRR002034       DRS001444    5W3   \nDRR002025       DRS001435   3X31   \nDRR002037       DRS001447   5W21   \n\n                                                  sample_comment  \\\nrun_accession                                                      \nDRR002036      Replicate evolution using glucose-limited chem...   \nDRR002039      Replicate evolution using glucose-limited chem...   \nDRR002034      Replicate evolution using glucose-limited chem...   \nDRR002025      Replicate evolution using glucose-limited chem...   \nDRR002037      Replicate evolution using glucose-limited chem...   \n\n              collection_date env_broad_scale env_local_scale env_medium  \\\nrun_accession                                                              \nDRR002036                <NA>            <NA>            <NA>       <NA>   \nDRR002039                <NA>            <NA>            <NA>       <NA>   \nDRR002034                <NA>            <NA>            <NA>       <NA>   \nDRR002025                <NA>            <NA>            <NA>       <NA>   \nDRR002037                <NA>            <NA>            <NA>       <NA>   \n\n              isol_growth_condt lat_lon num_replicons  ... lab_host  \\\nrun_accession                                          ...            \nDRR002036                  <NA>    <NA>          <NA>  ...     <NA>   \nDRR002039                  <NA>    <NA>          <NA>  ...     <NA>   \nDRR002034                  <NA>    <NA>          <NA>  ...     <NA>   \nDRR002025                  <NA>    <NA>          <NA>  ...     <NA>   \nDRR002037                  <NA>    <NA>          <NA>  ...     <NA>   \n\n              instrument_model identified_by isolation_site  \\\nrun_accession                                                 \nDRR002036                 <NA>           NaN           <NA>   \nDRR002039                 <NA>           NaN           <NA>   \nDRR002034                 <NA>           NaN           <NA>   \nDRR002025                 <NA>           NaN           <NA>   \nDRR002037                 <NA>           NaN           <NA>   \n\n              isolation_hospital week_year_isolated  \\\nrun_accession                                         \nDRR002036                   <NA>               <NA>   \nDRR002039                   <NA>               <NA>   \nDRR002034                   <NA>               <NA>   \nDRR002025                   <NA>               <NA>   \nDRR002037                   <NA>               <NA>   \n\n              plant_associated_environmental_package inferred_continent  \\\nrun_accession                                                             \nDRR002036                                       <NA>               <NA>   \nDRR002039                                       <NA>               <NA>   \nDRR002034                                       <NA>               <NA>   \nDRR002025                                       <NA>               <NA>   \nDRR002037                                       <NA>               <NA>   \n\n              inferred_country inferred_city  \nrun_accession                                 \nDRR002036                 <NA>          <NA>  \nDRR002039                 <NA>          <NA>  \nDRR002034                 <NA>          <NA>  \nDRR002025                 <NA>          <NA>  \nDRR002037                 <NA>          <NA>  \n\n[5 rows x 151 columns]",
      "text/html": "<div>\n<style scoped>\n    .dataframe tbody tr th:only-of-type {\n        vertical-align: middle;\n    }\n\n    .dataframe tbody tr th {\n        vertical-align: top;\n    }\n\n    .dataframe thead th {\n        text-align: right;\n    }\n</style>\n<table border=\"1\" class=\"dataframe\">\n  <thead>\n    <tr style=\"text-align: right;\">\n      <th></th>\n      <th>sample_name</th>\n      <th>strain</th>\n      <th>sample_comment</th>\n      <th>collection_date</th>\n      <th>env_broad_scale</th>\n      <th>env_local_scale</th>\n      <th>env_medium</th>\n      <th>isol_growth_condt</th>\n      <th>lat_lon</th>\n      <th>num_replicons</th>\n      <th>...</th>\n      <th>lab_host</th>\n      <th>instrument_model</th>\n      <th>identified_by</th>\n      <th>isolation_site</th>\n      <th>isolation_hospital</th>\n      <th>week_year_isolated</th>\n      <th>plant_associated_environmental_package</th>\n      <th>inferred_continent</th>\n      <th>inferred_country</th>\n      <th>inferred_city</th>\n    </tr>\n    <tr>\n      <th>run_accession</th>\n      <th></th>\n      <th></th>\n      <th></th>\n      <th></th>\n      <th></th>\n      <th></th>\n      <th></th>\n      <th></th>\n      <th></th>\n      <th></th>\n      <th></th>\n      <th></th>\n      <th></th>\n      <th></th>\n      <th></th>\n      <th></th>\n      <th></th>\n      <th></th>\n      <th></th>\n      <th></th>\n      <th></th>\n    </tr>\n  </thead>\n  <tbody>\n    <tr>\n      <th>DRR002036</th>\n      <td>DRS001446</td>\n      <td>5W19</td>\n      <td>Replicate evolution using glucose-limited chem...</td>\n      <td>&lt;NA&gt;</td>\n      <td>&lt;NA&gt;</td>\n      <td>&lt;NA&gt;</td>\n      <td>&lt;NA&gt;</td>\n      <td>&lt;NA&gt;</td>\n      <td>&lt;NA&gt;</td>\n      <td>&lt;NA&gt;</td>\n      <td>...</td>\n      <td>&lt;NA&gt;</td>\n      <td>&lt;NA&gt;</td>\n      <td>NaN</td>\n      <td>&lt;NA&gt;</td>\n      <td>&lt;NA&gt;</td>\n      <td>&lt;NA&gt;</td>\n      <td>&lt;NA&gt;</td>\n      <td>&lt;NA&gt;</td>\n      <td>&lt;NA&gt;</td>\n      <td>&lt;NA&gt;</td>\n    </tr>\n    <tr>\n      <th>DRR002039</th>\n      <td>DRS001449</td>\n      <td>8W17</td>\n      <td>Replicate evolution using glucose-limited chem...</td>\n      <td>&lt;NA&gt;</td>\n      <td>&lt;NA&gt;</td>\n      <td>&lt;NA&gt;</td>\n      <td>&lt;NA&gt;</td>\n      <td>&lt;NA&gt;</td>\n      <td>&lt;NA&gt;</td>\n      <td>&lt;NA&gt;</td>\n      <td>...</td>\n      <td>&lt;NA&gt;</td>\n      <td>&lt;NA&gt;</td>\n      <td>NaN</td>\n      <td>&lt;NA&gt;</td>\n      <td>&lt;NA&gt;</td>\n      <td>&lt;NA&gt;</td>\n      <td>&lt;NA&gt;</td>\n      <td>&lt;NA&gt;</td>\n      <td>&lt;NA&gt;</td>\n      <td>&lt;NA&gt;</td>\n    </tr>\n    <tr>\n      <th>DRR002034</th>\n      <td>DRS001444</td>\n      <td>5W3</td>\n      <td>Replicate evolution using glucose-limited chem...</td>\n      <td>&lt;NA&gt;</td>\n      <td>&lt;NA&gt;</td>\n      <td>&lt;NA&gt;</td>\n      <td>&lt;NA&gt;</td>\n      <td>&lt;NA&gt;</td>\n      <td>&lt;NA&gt;</td>\n      <td>&lt;NA&gt;</td>\n      <td>...</td>\n      <td>&lt;NA&gt;</td>\n      <td>&lt;NA&gt;</td>\n      <td>NaN</td>\n      <td>&lt;NA&gt;</td>\n      <td>&lt;NA&gt;</td>\n      <td>&lt;NA&gt;</td>\n      <td>&lt;NA&gt;</td>\n      <td>&lt;NA&gt;</td>\n      <td>&lt;NA&gt;</td>\n      <td>&lt;NA&gt;</td>\n    </tr>\n    <tr>\n      <th>DRR002025</th>\n      <td>DRS001435</td>\n      <td>3X31</td>\n      <td>Replicate evolution using glucose-limited chem...</td>\n      <td>&lt;NA&gt;</td>\n      <td>&lt;NA&gt;</td>\n      <td>&lt;NA&gt;</td>\n      <td>&lt;NA&gt;</td>\n      <td>&lt;NA&gt;</td>\n      <td>&lt;NA&gt;</td>\n      <td>&lt;NA&gt;</td>\n      <td>...</td>\n      <td>&lt;NA&gt;</td>\n      <td>&lt;NA&gt;</td>\n      <td>NaN</td>\n      <td>&lt;NA&gt;</td>\n      <td>&lt;NA&gt;</td>\n      <td>&lt;NA&gt;</td>\n      <td>&lt;NA&gt;</td>\n      <td>&lt;NA&gt;</td>\n      <td>&lt;NA&gt;</td>\n      <td>&lt;NA&gt;</td>\n    </tr>\n    <tr>\n      <th>DRR002037</th>\n      <td>DRS001447</td>\n      <td>5W21</td>\n      <td>Replicate evolution using glucose-limited chem...</td>\n      <td>&lt;NA&gt;</td>\n      <td>&lt;NA&gt;</td>\n      <td>&lt;NA&gt;</td>\n      <td>&lt;NA&gt;</td>\n      <td>&lt;NA&gt;</td>\n      <td>&lt;NA&gt;</td>\n      <td>&lt;NA&gt;</td>\n      <td>...</td>\n      <td>&lt;NA&gt;</td>\n      <td>&lt;NA&gt;</td>\n      <td>NaN</td>\n      <td>&lt;NA&gt;</td>\n      <td>&lt;NA&gt;</td>\n      <td>&lt;NA&gt;</td>\n      <td>&lt;NA&gt;</td>\n      <td>&lt;NA&gt;</td>\n      <td>&lt;NA&gt;</td>\n      <td>&lt;NA&gt;</td>\n    </tr>\n  </tbody>\n</table>\n<p>5 rows × 151 columns</p>\n</div>"
     },
     "execution_count": 5,
     "metadata": {},
     "output_type": "execute_result"
    }
   ],
   "source": [
    "geo_col_matches = wrangling_funcs.find_columns(['geo', 'geographic', 'country', 'continent'], smpl_att_df, ['longitude', 'latitude', 'depth'])\n",
    "print(f'The following columns matched the keywords: {geo_col_matches}')\n",
    "\n",
    "smpl_att_df = wrangling_funcs.combine_columns(smpl_att_df, list(geo_col_matches), 'inferred_location')\n",
    "smpl_att_df.drop(geo_col_matches, inplace=True, axis=1)\n",
    "\n",
    "smpl_att_df['inferred_continent'], smpl_att_df['inferred_country'], smpl_att_df['inferred_city'] = zip(*smpl_att_df['inferred_location'].map(wrangling_funcs.clean_geo))\n",
    "smpl_att_df.drop('inferred_location', axis=1, inplace=True)\n",
    "\n",
    "smpl_att_df = smpl_att_df.convert_dtypes()\n",
    "\n",
    "print(f'---Number of rows: {smpl_att_df.shape[0]}, Number of columns: {smpl_att_df.shape[1]}---')\n",
    "smpl_att_df.head()"
   ]
  },
  {
   "cell_type": "markdown",
   "id": "a0d90f0a9eee1b76",
   "metadata": {},
   "source": [
    "### Searching for the sample collection data\n",
    "\n",
    "There is no consistent column that contains the date. To (hopefully) obtain the date we use regex to find keywords in the column names of the dataframe. The matched columns are then combined in a single column while handling NaN values."
   ]
  },
  {
   "cell_type": "code",
   "execution_count": 6,
   "id": "30aec547a3f29fc5",
   "metadata": {
    "ExecuteTime": {
     "end_time": "2024-02-09T14:38:47.721562517Z",
     "start_time": "2024-02-09T14:38:46.791647147Z"
    }
   },
   "outputs": [
    {
     "name": "stdout",
     "output_type": "stream",
     "text": [
      "The following columns matched the keywords: {'year_isolated', 'week_year_isolated', 'isolation_date', 'year', 'collection_date', 'receipt_date'}\n",
      "---Number of rows: 45124, Number of columns: 146---\n"
     ]
    },
    {
     "data": {
      "text/plain": "              sample_name strain  \\\nrun_accession                      \nDRR002036       DRS001446   5W19   \nDRR002039       DRS001449   8W17   \nDRR002034       DRS001444    5W3   \nDRR002025       DRS001435   3X31   \nDRR002037       DRS001447   5W21   \n\n                                                  sample_comment  \\\nrun_accession                                                      \nDRR002036      Replicate evolution using glucose-limited chem...   \nDRR002039      Replicate evolution using glucose-limited chem...   \nDRR002034      Replicate evolution using glucose-limited chem...   \nDRR002025      Replicate evolution using glucose-limited chem...   \nDRR002037      Replicate evolution using glucose-limited chem...   \n\n              env_broad_scale env_local_scale env_medium isol_growth_condt  \\\nrun_accession                                                                \nDRR002036                <NA>            <NA>       <NA>              <NA>   \nDRR002039                <NA>            <NA>       <NA>              <NA>   \nDRR002034                <NA>            <NA>       <NA>              <NA>   \nDRR002025                <NA>            <NA>       <NA>              <NA>   \nDRR002037                <NA>            <NA>       <NA>              <NA>   \n\n              lat_lon num_replicons project_name  ... lab_host  \\\nrun_accession                                     ...            \nDRR002036        <NA>          <NA>         <NA>  ...     <NA>   \nDRR002039        <NA>          <NA>         <NA>  ...     <NA>   \nDRR002034        <NA>          <NA>         <NA>  ...     <NA>   \nDRR002025        <NA>          <NA>         <NA>  ...     <NA>   \nDRR002037        <NA>          <NA>         <NA>  ...     <NA>   \n\n              instrument_model identified_by isolation_site  \\\nrun_accession                                                 \nDRR002036                 <NA>           NaN           <NA>   \nDRR002039                 <NA>           NaN           <NA>   \nDRR002034                 <NA>           NaN           <NA>   \nDRR002025                 <NA>           NaN           <NA>   \nDRR002037                 <NA>           NaN           <NA>   \n\n              isolation_hospital plant_associated_environmental_package  \\\nrun_accession                                                             \nDRR002036                   <NA>                                   <NA>   \nDRR002039                   <NA>                                   <NA>   \nDRR002034                   <NA>                                   <NA>   \nDRR002025                   <NA>                                   <NA>   \nDRR002037                   <NA>                                   <NA>   \n\n              inferred_continent inferred_country inferred_city  \\\nrun_accession                                                     \nDRR002036                   <NA>             <NA>          <NA>   \nDRR002039                   <NA>             <NA>          <NA>   \nDRR002034                   <NA>             <NA>          <NA>   \nDRR002025                   <NA>             <NA>          <NA>   \nDRR002037                   <NA>             <NA>          <NA>   \n\n              inferred_collection_year  \nrun_accession                           \nDRR002036                         <NA>  \nDRR002039                         <NA>  \nDRR002034                         <NA>  \nDRR002025                         <NA>  \nDRR002037                         <NA>  \n\n[5 rows x 146 columns]",
      "text/html": "<div>\n<style scoped>\n    .dataframe tbody tr th:only-of-type {\n        vertical-align: middle;\n    }\n\n    .dataframe tbody tr th {\n        vertical-align: top;\n    }\n\n    .dataframe thead th {\n        text-align: right;\n    }\n</style>\n<table border=\"1\" class=\"dataframe\">\n  <thead>\n    <tr style=\"text-align: right;\">\n      <th></th>\n      <th>sample_name</th>\n      <th>strain</th>\n      <th>sample_comment</th>\n      <th>env_broad_scale</th>\n      <th>env_local_scale</th>\n      <th>env_medium</th>\n      <th>isol_growth_condt</th>\n      <th>lat_lon</th>\n      <th>num_replicons</th>\n      <th>project_name</th>\n      <th>...</th>\n      <th>lab_host</th>\n      <th>instrument_model</th>\n      <th>identified_by</th>\n      <th>isolation_site</th>\n      <th>isolation_hospital</th>\n      <th>plant_associated_environmental_package</th>\n      <th>inferred_continent</th>\n      <th>inferred_country</th>\n      <th>inferred_city</th>\n      <th>inferred_collection_year</th>\n    </tr>\n    <tr>\n      <th>run_accession</th>\n      <th></th>\n      <th></th>\n      <th></th>\n      <th></th>\n      <th></th>\n      <th></th>\n      <th></th>\n      <th></th>\n      <th></th>\n      <th></th>\n      <th></th>\n      <th></th>\n      <th></th>\n      <th></th>\n      <th></th>\n      <th></th>\n      <th></th>\n      <th></th>\n      <th></th>\n      <th></th>\n      <th></th>\n    </tr>\n  </thead>\n  <tbody>\n    <tr>\n      <th>DRR002036</th>\n      <td>DRS001446</td>\n      <td>5W19</td>\n      <td>Replicate evolution using glucose-limited chem...</td>\n      <td>&lt;NA&gt;</td>\n      <td>&lt;NA&gt;</td>\n      <td>&lt;NA&gt;</td>\n      <td>&lt;NA&gt;</td>\n      <td>&lt;NA&gt;</td>\n      <td>&lt;NA&gt;</td>\n      <td>&lt;NA&gt;</td>\n      <td>...</td>\n      <td>&lt;NA&gt;</td>\n      <td>&lt;NA&gt;</td>\n      <td>NaN</td>\n      <td>&lt;NA&gt;</td>\n      <td>&lt;NA&gt;</td>\n      <td>&lt;NA&gt;</td>\n      <td>&lt;NA&gt;</td>\n      <td>&lt;NA&gt;</td>\n      <td>&lt;NA&gt;</td>\n      <td>&lt;NA&gt;</td>\n    </tr>\n    <tr>\n      <th>DRR002039</th>\n      <td>DRS001449</td>\n      <td>8W17</td>\n      <td>Replicate evolution using glucose-limited chem...</td>\n      <td>&lt;NA&gt;</td>\n      <td>&lt;NA&gt;</td>\n      <td>&lt;NA&gt;</td>\n      <td>&lt;NA&gt;</td>\n      <td>&lt;NA&gt;</td>\n      <td>&lt;NA&gt;</td>\n      <td>&lt;NA&gt;</td>\n      <td>...</td>\n      <td>&lt;NA&gt;</td>\n      <td>&lt;NA&gt;</td>\n      <td>NaN</td>\n      <td>&lt;NA&gt;</td>\n      <td>&lt;NA&gt;</td>\n      <td>&lt;NA&gt;</td>\n      <td>&lt;NA&gt;</td>\n      <td>&lt;NA&gt;</td>\n      <td>&lt;NA&gt;</td>\n      <td>&lt;NA&gt;</td>\n    </tr>\n    <tr>\n      <th>DRR002034</th>\n      <td>DRS001444</td>\n      <td>5W3</td>\n      <td>Replicate evolution using glucose-limited chem...</td>\n      <td>&lt;NA&gt;</td>\n      <td>&lt;NA&gt;</td>\n      <td>&lt;NA&gt;</td>\n      <td>&lt;NA&gt;</td>\n      <td>&lt;NA&gt;</td>\n      <td>&lt;NA&gt;</td>\n      <td>&lt;NA&gt;</td>\n      <td>...</td>\n      <td>&lt;NA&gt;</td>\n      <td>&lt;NA&gt;</td>\n      <td>NaN</td>\n      <td>&lt;NA&gt;</td>\n      <td>&lt;NA&gt;</td>\n      <td>&lt;NA&gt;</td>\n      <td>&lt;NA&gt;</td>\n      <td>&lt;NA&gt;</td>\n      <td>&lt;NA&gt;</td>\n      <td>&lt;NA&gt;</td>\n    </tr>\n    <tr>\n      <th>DRR002025</th>\n      <td>DRS001435</td>\n      <td>3X31</td>\n      <td>Replicate evolution using glucose-limited chem...</td>\n      <td>&lt;NA&gt;</td>\n      <td>&lt;NA&gt;</td>\n      <td>&lt;NA&gt;</td>\n      <td>&lt;NA&gt;</td>\n      <td>&lt;NA&gt;</td>\n      <td>&lt;NA&gt;</td>\n      <td>&lt;NA&gt;</td>\n      <td>...</td>\n      <td>&lt;NA&gt;</td>\n      <td>&lt;NA&gt;</td>\n      <td>NaN</td>\n      <td>&lt;NA&gt;</td>\n      <td>&lt;NA&gt;</td>\n      <td>&lt;NA&gt;</td>\n      <td>&lt;NA&gt;</td>\n      <td>&lt;NA&gt;</td>\n      <td>&lt;NA&gt;</td>\n      <td>&lt;NA&gt;</td>\n    </tr>\n    <tr>\n      <th>DRR002037</th>\n      <td>DRS001447</td>\n      <td>5W21</td>\n      <td>Replicate evolution using glucose-limited chem...</td>\n      <td>&lt;NA&gt;</td>\n      <td>&lt;NA&gt;</td>\n      <td>&lt;NA&gt;</td>\n      <td>&lt;NA&gt;</td>\n      <td>&lt;NA&gt;</td>\n      <td>&lt;NA&gt;</td>\n      <td>&lt;NA&gt;</td>\n      <td>...</td>\n      <td>&lt;NA&gt;</td>\n      <td>&lt;NA&gt;</td>\n      <td>NaN</td>\n      <td>&lt;NA&gt;</td>\n      <td>&lt;NA&gt;</td>\n      <td>&lt;NA&gt;</td>\n      <td>&lt;NA&gt;</td>\n      <td>&lt;NA&gt;</td>\n      <td>&lt;NA&gt;</td>\n      <td>&lt;NA&gt;</td>\n    </tr>\n  </tbody>\n</table>\n<p>5 rows × 146 columns</p>\n</div>"
     },
     "execution_count": 6,
     "metadata": {},
     "output_type": "execute_result"
    }
   ],
   "source": [
    "date_col_matches = wrangling_funcs.find_columns(['date', 'year'], smpl_att_df, ['update'])\n",
    "print(f'The following columns matched the keywords: {date_col_matches}')\n",
    "smpl_att_df = wrangling_funcs.combine_columns(smpl_att_df, list(date_col_matches), 'inferred_collection_year')\n",
    "smpl_att_df.drop(date_col_matches, inplace=True, axis=1)\n",
    "\n",
    "\n",
    "date = smpl_att_df['inferred_collection_year'].str.extract(r'^(\\d{4})', expand=False) # Extract the year\n",
    "smpl_att_df['inferred_collection_year'] = pd.to_numeric(date) # cast year to int\n",
    "\n",
    "smpl_att_df = smpl_att_df.convert_dtypes()\n",
    "print(f'---Number of rows: {smpl_att_df.shape[0]}, Number of columns: {smpl_att_df.shape[1]}---')\n",
    "smpl_att_df.head()"
   ]
  },
  {
   "cell_type": "markdown",
   "id": "379520e6ff30f8d4",
   "metadata": {},
   "source": [
    "### Searching for sample isolation source\n",
    "There is no consistent column that contains the isolation source. To (hopefully) obtain the isolation source we use regex to find keywords in the column names of the dataframe. The matched columns are then combined in a single column while handling NaN values.\n"
   ]
  },
  {
   "cell_type": "code",
   "execution_count": 7,
   "id": "79b603a0a61f7aad",
   "metadata": {
    "ExecuteTime": {
     "end_time": "2024-02-09T14:38:49.651447997Z",
     "start_time": "2024-02-09T14:38:47.721646291Z"
    }
   },
   "outputs": [
    {
     "name": "stdout",
     "output_type": "stream",
     "text": [
      "{'miscellaneous_environmental_package', 'isolation_source_non_host_associated', 'plant_associated_environmental_package', 'biosamplemodel', 'environmental_medium', 'sample_type', 'source_subgroup', 'broad_scale_environmental_context', 'sample', 'human_associated_environmental_package', 'source_group', 'env_medium', 'environment_material', 'source', 'env_local_scale', 'environmental_sample_type', 'wastewater_sludge_environmental_package', 'sample_description', 'env_broad_scale', 'host_associated_environmental_package', 'environment_biome', 'water_environmental_package', 'environment_feature', 'isolation_source_host_associated', 'isolation_site', 'environmental_sample', 'isolation_source', 'sample_source', 'source_site', 'local_environmental_context'}\n",
      "---Number of rows: 45124, Number of columns: 117---\n"
     ]
    },
    {
     "data": {
      "text/plain": "              sample_name strain  \\\nrun_accession                      \nDRR002036       DRS001446   5W19   \nDRR002039       DRS001449   8W17   \nDRR002034       DRS001444    5W3   \nDRR002025       DRS001435   3X31   \nDRR002037       DRS001447   5W21   \n\n                                                  sample_comment  \\\nrun_accession                                                      \nDRR002036      Replicate evolution using glucose-limited chem...   \nDRR002039      Replicate evolution using glucose-limited chem...   \nDRR002034      Replicate evolution using glucose-limited chem...   \nDRR002025      Replicate evolution using glucose-limited chem...   \nDRR002037      Replicate evolution using glucose-limited chem...   \n\n              isol_growth_condt lat_lon num_replicons project_name  \\\nrun_accession                                                        \nDRR002036                  <NA>    <NA>          <NA>         <NA>   \nDRR002039                  <NA>    <NA>          <NA>         <NA>   \nDRR002034                  <NA>    <NA>          <NA>         <NA>   \nDRR002025                  <NA>    <NA>          <NA>         <NA>   \nDRR002037                  <NA>    <NA>          <NA>         <NA>   \n\n              ref_biomaterial  host locus_tag_prefix  ...  \\\nrun_accession                                         ...   \nDRR002036                <NA>  <NA>             <NA>  ...   \nDRR002039                <NA>  <NA>             <NA>  ...   \nDRR002034                <NA>  <NA>             <NA>  ...   \nDRR002025                <NA>  <NA>             <NA>  ...   \nDRR002037                <NA>  <NA>             <NA>  ...   \n\n              arrayexpress_phenotype lab_host instrument_model identified_by  \\\nrun_accession                                                                  \nDRR002036                        NaN     <NA>             <NA>           NaN   \nDRR002039                        NaN     <NA>             <NA>           NaN   \nDRR002034                        NaN     <NA>             <NA>           NaN   \nDRR002025                        NaN     <NA>             <NA>           NaN   \nDRR002037                        NaN     <NA>             <NA>           NaN   \n\n              isolation_hospital inferred_continent inferred_country  \\\nrun_accession                                                          \nDRR002036                   <NA>               <NA>             <NA>   \nDRR002039                   <NA>               <NA>             <NA>   \nDRR002034                   <NA>               <NA>             <NA>   \nDRR002025                   <NA>               <NA>             <NA>   \nDRR002037                   <NA>               <NA>             <NA>   \n\n              inferred_city inferred_collection_year inferred_source  \nrun_accession                                                         \nDRR002036              <NA>                     <NA>            <NA>  \nDRR002039              <NA>                     <NA>            <NA>  \nDRR002034              <NA>                     <NA>            <NA>  \nDRR002025              <NA>                     <NA>            <NA>  \nDRR002037              <NA>                     <NA>            <NA>  \n\n[5 rows x 117 columns]",
      "text/html": "<div>\n<style scoped>\n    .dataframe tbody tr th:only-of-type {\n        vertical-align: middle;\n    }\n\n    .dataframe tbody tr th {\n        vertical-align: top;\n    }\n\n    .dataframe thead th {\n        text-align: right;\n    }\n</style>\n<table border=\"1\" class=\"dataframe\">\n  <thead>\n    <tr style=\"text-align: right;\">\n      <th></th>\n      <th>sample_name</th>\n      <th>strain</th>\n      <th>sample_comment</th>\n      <th>isol_growth_condt</th>\n      <th>lat_lon</th>\n      <th>num_replicons</th>\n      <th>project_name</th>\n      <th>ref_biomaterial</th>\n      <th>host</th>\n      <th>locus_tag_prefix</th>\n      <th>...</th>\n      <th>arrayexpress_phenotype</th>\n      <th>lab_host</th>\n      <th>instrument_model</th>\n      <th>identified_by</th>\n      <th>isolation_hospital</th>\n      <th>inferred_continent</th>\n      <th>inferred_country</th>\n      <th>inferred_city</th>\n      <th>inferred_collection_year</th>\n      <th>inferred_source</th>\n    </tr>\n    <tr>\n      <th>run_accession</th>\n      <th></th>\n      <th></th>\n      <th></th>\n      <th></th>\n      <th></th>\n      <th></th>\n      <th></th>\n      <th></th>\n      <th></th>\n      <th></th>\n      <th></th>\n      <th></th>\n      <th></th>\n      <th></th>\n      <th></th>\n      <th></th>\n      <th></th>\n      <th></th>\n      <th></th>\n      <th></th>\n      <th></th>\n    </tr>\n  </thead>\n  <tbody>\n    <tr>\n      <th>DRR002036</th>\n      <td>DRS001446</td>\n      <td>5W19</td>\n      <td>Replicate evolution using glucose-limited chem...</td>\n      <td>&lt;NA&gt;</td>\n      <td>&lt;NA&gt;</td>\n      <td>&lt;NA&gt;</td>\n      <td>&lt;NA&gt;</td>\n      <td>&lt;NA&gt;</td>\n      <td>&lt;NA&gt;</td>\n      <td>&lt;NA&gt;</td>\n      <td>...</td>\n      <td>NaN</td>\n      <td>&lt;NA&gt;</td>\n      <td>&lt;NA&gt;</td>\n      <td>NaN</td>\n      <td>&lt;NA&gt;</td>\n      <td>&lt;NA&gt;</td>\n      <td>&lt;NA&gt;</td>\n      <td>&lt;NA&gt;</td>\n      <td>&lt;NA&gt;</td>\n      <td>&lt;NA&gt;</td>\n    </tr>\n    <tr>\n      <th>DRR002039</th>\n      <td>DRS001449</td>\n      <td>8W17</td>\n      <td>Replicate evolution using glucose-limited chem...</td>\n      <td>&lt;NA&gt;</td>\n      <td>&lt;NA&gt;</td>\n      <td>&lt;NA&gt;</td>\n      <td>&lt;NA&gt;</td>\n      <td>&lt;NA&gt;</td>\n      <td>&lt;NA&gt;</td>\n      <td>&lt;NA&gt;</td>\n      <td>...</td>\n      <td>NaN</td>\n      <td>&lt;NA&gt;</td>\n      <td>&lt;NA&gt;</td>\n      <td>NaN</td>\n      <td>&lt;NA&gt;</td>\n      <td>&lt;NA&gt;</td>\n      <td>&lt;NA&gt;</td>\n      <td>&lt;NA&gt;</td>\n      <td>&lt;NA&gt;</td>\n      <td>&lt;NA&gt;</td>\n    </tr>\n    <tr>\n      <th>DRR002034</th>\n      <td>DRS001444</td>\n      <td>5W3</td>\n      <td>Replicate evolution using glucose-limited chem...</td>\n      <td>&lt;NA&gt;</td>\n      <td>&lt;NA&gt;</td>\n      <td>&lt;NA&gt;</td>\n      <td>&lt;NA&gt;</td>\n      <td>&lt;NA&gt;</td>\n      <td>&lt;NA&gt;</td>\n      <td>&lt;NA&gt;</td>\n      <td>...</td>\n      <td>NaN</td>\n      <td>&lt;NA&gt;</td>\n      <td>&lt;NA&gt;</td>\n      <td>NaN</td>\n      <td>&lt;NA&gt;</td>\n      <td>&lt;NA&gt;</td>\n      <td>&lt;NA&gt;</td>\n      <td>&lt;NA&gt;</td>\n      <td>&lt;NA&gt;</td>\n      <td>&lt;NA&gt;</td>\n    </tr>\n    <tr>\n      <th>DRR002025</th>\n      <td>DRS001435</td>\n      <td>3X31</td>\n      <td>Replicate evolution using glucose-limited chem...</td>\n      <td>&lt;NA&gt;</td>\n      <td>&lt;NA&gt;</td>\n      <td>&lt;NA&gt;</td>\n      <td>&lt;NA&gt;</td>\n      <td>&lt;NA&gt;</td>\n      <td>&lt;NA&gt;</td>\n      <td>&lt;NA&gt;</td>\n      <td>...</td>\n      <td>NaN</td>\n      <td>&lt;NA&gt;</td>\n      <td>&lt;NA&gt;</td>\n      <td>NaN</td>\n      <td>&lt;NA&gt;</td>\n      <td>&lt;NA&gt;</td>\n      <td>&lt;NA&gt;</td>\n      <td>&lt;NA&gt;</td>\n      <td>&lt;NA&gt;</td>\n      <td>&lt;NA&gt;</td>\n    </tr>\n    <tr>\n      <th>DRR002037</th>\n      <td>DRS001447</td>\n      <td>5W21</td>\n      <td>Replicate evolution using glucose-limited chem...</td>\n      <td>&lt;NA&gt;</td>\n      <td>&lt;NA&gt;</td>\n      <td>&lt;NA&gt;</td>\n      <td>&lt;NA&gt;</td>\n      <td>&lt;NA&gt;</td>\n      <td>&lt;NA&gt;</td>\n      <td>&lt;NA&gt;</td>\n      <td>...</td>\n      <td>NaN</td>\n      <td>&lt;NA&gt;</td>\n      <td>&lt;NA&gt;</td>\n      <td>NaN</td>\n      <td>&lt;NA&gt;</td>\n      <td>&lt;NA&gt;</td>\n      <td>&lt;NA&gt;</td>\n      <td>&lt;NA&gt;</td>\n      <td>&lt;NA&gt;</td>\n      <td>&lt;NA&gt;</td>\n    </tr>\n  </tbody>\n</table>\n<p>5 rows × 117 columns</p>\n</div>"
     },
     "execution_count": 7,
     "metadata": {},
     "output_type": "execute_result"
    }
   ],
   "source": [
    "isolate_matches = wrangling_funcs.find_columns(['sample', 'source', 'environment', 'env', 'site'], smpl_att_df, ['name', 'provider', 'comment'])\n",
    "print(isolate_matches)\n",
    "\n",
    "smpl_att_df = wrangling_funcs.combine_columns(smpl_att_df, list(isolate_matches), \"inferred_source\")\n",
    "smpl_att_df.drop(isolate_matches, inplace=True, axis=1)\n",
    "\n",
    "smpl_att_df['inferred_source'] = smpl_att_df['inferred_source'].apply(wrangling_funcs.clean_source)\n",
    "\n",
    "smpl_att_df = smpl_att_df.convert_dtypes()\n",
    "print(f'---Number of rows: {smpl_att_df.shape[0]}, Number of columns: {smpl_att_df.shape[1]}---')\n",
    "smpl_att_df.head()"
   ]
  },
  {
   "cell_type": "markdown",
   "id": "9c1d808c166223c1",
   "metadata": {},
   "source": [
    "### First round removal of lab strains\n",
    "We don't want sample from lab strains, so we filter out rows based on some keywords"
   ]
  },
  {
   "cell_type": "code",
   "execution_count": 8,
   "id": "3ddfb0c613d93512",
   "metadata": {
    "ExecuteTime": {
     "end_time": "2024-02-09T14:38:49.997798968Z",
     "start_time": "2024-02-09T14:38:49.652957380Z"
    }
   },
   "outputs": [
    {
     "name": "stdout",
     "output_type": "stream",
     "text": [
      "---Number of rows: 45078, Number of columns: 117---\n"
     ]
    },
    {
     "data": {
      "text/plain": "              sample_name strain  \\\nrun_accession                      \nDRR015582       DRS013790   <NA>   \nDRR015581       DRS013790   <NA>   \nDRR015585       DRS013792   <NA>   \nDRR015586       DRS013792   <NA>   \nDRR015588       DRS013793   <NA>   \n\n                                                  sample_comment  \\\nrun_accession                                                      \nDRR015582      Genome of Klebsiella oxytoca, GTC_14652, Gifu0...   \nDRR015581      Genome of Klebsiella oxytoca, GTC_14652, Gifu0...   \nDRR015585      Genome of Klebsiella pneumoniae, GTC_11259, Gi...   \nDRR015586      Genome of Klebsiella pneumoniae, GTC_11259, Gi...   \nDRR015588      Genome of Kluyvera intermedia, GTC_01506T, Gif...   \n\n              isol_growth_condt lat_lon num_replicons project_name  \\\nrun_accession                                                        \nDRR015582                  <NA>    <NA>          <NA>         <NA>   \nDRR015581                  <NA>    <NA>          <NA>         <NA>   \nDRR015585                  <NA>    <NA>          <NA>         <NA>   \nDRR015586                  <NA>    <NA>          <NA>         <NA>   \nDRR015588                  <NA>    <NA>          <NA>         <NA>   \n\n              ref_biomaterial  host locus_tag_prefix  ...  \\\nrun_accession                                         ...   \nDRR015582                <NA>  <NA>             <NA>  ...   \nDRR015581                <NA>  <NA>             <NA>  ...   \nDRR015585                <NA>  <NA>             <NA>  ...   \nDRR015586                <NA>  <NA>             <NA>  ...   \nDRR015588                <NA>  <NA>             <NA>  ...   \n\n              arrayexpress_phenotype lab_host instrument_model identified_by  \\\nrun_accession                                                                  \nDRR015582                        NaN     <NA>             <NA>           NaN   \nDRR015581                        NaN     <NA>             <NA>           NaN   \nDRR015585                        NaN     <NA>             <NA>           NaN   \nDRR015586                        NaN     <NA>             <NA>           NaN   \nDRR015588                        NaN     <NA>             <NA>           NaN   \n\n              isolation_hospital inferred_continent inferred_country  \\\nrun_accession                                                          \nDRR015582                   <NA>               <NA>             <NA>   \nDRR015581                   <NA>               <NA>             <NA>   \nDRR015585                   <NA>               <NA>             <NA>   \nDRR015586                   <NA>               <NA>             <NA>   \nDRR015588                   <NA>               <NA>             <NA>   \n\n              inferred_city inferred_collection_year inferred_source  \nrun_accession                                                         \nDRR015582              <NA>                     <NA>            <NA>  \nDRR015581              <NA>                     <NA>            <NA>  \nDRR015585              <NA>                     <NA>            <NA>  \nDRR015586              <NA>                     <NA>            <NA>  \nDRR015588              <NA>                     <NA>            <NA>  \n\n[5 rows x 117 columns]",
      "text/html": "<div>\n<style scoped>\n    .dataframe tbody tr th:only-of-type {\n        vertical-align: middle;\n    }\n\n    .dataframe tbody tr th {\n        vertical-align: top;\n    }\n\n    .dataframe thead th {\n        text-align: right;\n    }\n</style>\n<table border=\"1\" class=\"dataframe\">\n  <thead>\n    <tr style=\"text-align: right;\">\n      <th></th>\n      <th>sample_name</th>\n      <th>strain</th>\n      <th>sample_comment</th>\n      <th>isol_growth_condt</th>\n      <th>lat_lon</th>\n      <th>num_replicons</th>\n      <th>project_name</th>\n      <th>ref_biomaterial</th>\n      <th>host</th>\n      <th>locus_tag_prefix</th>\n      <th>...</th>\n      <th>arrayexpress_phenotype</th>\n      <th>lab_host</th>\n      <th>instrument_model</th>\n      <th>identified_by</th>\n      <th>isolation_hospital</th>\n      <th>inferred_continent</th>\n      <th>inferred_country</th>\n      <th>inferred_city</th>\n      <th>inferred_collection_year</th>\n      <th>inferred_source</th>\n    </tr>\n    <tr>\n      <th>run_accession</th>\n      <th></th>\n      <th></th>\n      <th></th>\n      <th></th>\n      <th></th>\n      <th></th>\n      <th></th>\n      <th></th>\n      <th></th>\n      <th></th>\n      <th></th>\n      <th></th>\n      <th></th>\n      <th></th>\n      <th></th>\n      <th></th>\n      <th></th>\n      <th></th>\n      <th></th>\n      <th></th>\n      <th></th>\n    </tr>\n  </thead>\n  <tbody>\n    <tr>\n      <th>DRR015582</th>\n      <td>DRS013790</td>\n      <td>&lt;NA&gt;</td>\n      <td>Genome of Klebsiella oxytoca, GTC_14652, Gifu0...</td>\n      <td>&lt;NA&gt;</td>\n      <td>&lt;NA&gt;</td>\n      <td>&lt;NA&gt;</td>\n      <td>&lt;NA&gt;</td>\n      <td>&lt;NA&gt;</td>\n      <td>&lt;NA&gt;</td>\n      <td>&lt;NA&gt;</td>\n      <td>...</td>\n      <td>NaN</td>\n      <td>&lt;NA&gt;</td>\n      <td>&lt;NA&gt;</td>\n      <td>NaN</td>\n      <td>&lt;NA&gt;</td>\n      <td>&lt;NA&gt;</td>\n      <td>&lt;NA&gt;</td>\n      <td>&lt;NA&gt;</td>\n      <td>&lt;NA&gt;</td>\n      <td>&lt;NA&gt;</td>\n    </tr>\n    <tr>\n      <th>DRR015581</th>\n      <td>DRS013790</td>\n      <td>&lt;NA&gt;</td>\n      <td>Genome of Klebsiella oxytoca, GTC_14652, Gifu0...</td>\n      <td>&lt;NA&gt;</td>\n      <td>&lt;NA&gt;</td>\n      <td>&lt;NA&gt;</td>\n      <td>&lt;NA&gt;</td>\n      <td>&lt;NA&gt;</td>\n      <td>&lt;NA&gt;</td>\n      <td>&lt;NA&gt;</td>\n      <td>...</td>\n      <td>NaN</td>\n      <td>&lt;NA&gt;</td>\n      <td>&lt;NA&gt;</td>\n      <td>NaN</td>\n      <td>&lt;NA&gt;</td>\n      <td>&lt;NA&gt;</td>\n      <td>&lt;NA&gt;</td>\n      <td>&lt;NA&gt;</td>\n      <td>&lt;NA&gt;</td>\n      <td>&lt;NA&gt;</td>\n    </tr>\n    <tr>\n      <th>DRR015585</th>\n      <td>DRS013792</td>\n      <td>&lt;NA&gt;</td>\n      <td>Genome of Klebsiella pneumoniae, GTC_11259, Gi...</td>\n      <td>&lt;NA&gt;</td>\n      <td>&lt;NA&gt;</td>\n      <td>&lt;NA&gt;</td>\n      <td>&lt;NA&gt;</td>\n      <td>&lt;NA&gt;</td>\n      <td>&lt;NA&gt;</td>\n      <td>&lt;NA&gt;</td>\n      <td>...</td>\n      <td>NaN</td>\n      <td>&lt;NA&gt;</td>\n      <td>&lt;NA&gt;</td>\n      <td>NaN</td>\n      <td>&lt;NA&gt;</td>\n      <td>&lt;NA&gt;</td>\n      <td>&lt;NA&gt;</td>\n      <td>&lt;NA&gt;</td>\n      <td>&lt;NA&gt;</td>\n      <td>&lt;NA&gt;</td>\n    </tr>\n    <tr>\n      <th>DRR015586</th>\n      <td>DRS013792</td>\n      <td>&lt;NA&gt;</td>\n      <td>Genome of Klebsiella pneumoniae, GTC_11259, Gi...</td>\n      <td>&lt;NA&gt;</td>\n      <td>&lt;NA&gt;</td>\n      <td>&lt;NA&gt;</td>\n      <td>&lt;NA&gt;</td>\n      <td>&lt;NA&gt;</td>\n      <td>&lt;NA&gt;</td>\n      <td>&lt;NA&gt;</td>\n      <td>...</td>\n      <td>NaN</td>\n      <td>&lt;NA&gt;</td>\n      <td>&lt;NA&gt;</td>\n      <td>NaN</td>\n      <td>&lt;NA&gt;</td>\n      <td>&lt;NA&gt;</td>\n      <td>&lt;NA&gt;</td>\n      <td>&lt;NA&gt;</td>\n      <td>&lt;NA&gt;</td>\n      <td>&lt;NA&gt;</td>\n    </tr>\n    <tr>\n      <th>DRR015588</th>\n      <td>DRS013793</td>\n      <td>&lt;NA&gt;</td>\n      <td>Genome of Kluyvera intermedia, GTC_01506T, Gif...</td>\n      <td>&lt;NA&gt;</td>\n      <td>&lt;NA&gt;</td>\n      <td>&lt;NA&gt;</td>\n      <td>&lt;NA&gt;</td>\n      <td>&lt;NA&gt;</td>\n      <td>&lt;NA&gt;</td>\n      <td>&lt;NA&gt;</td>\n      <td>...</td>\n      <td>NaN</td>\n      <td>&lt;NA&gt;</td>\n      <td>&lt;NA&gt;</td>\n      <td>NaN</td>\n      <td>&lt;NA&gt;</td>\n      <td>&lt;NA&gt;</td>\n      <td>&lt;NA&gt;</td>\n      <td>&lt;NA&gt;</td>\n      <td>&lt;NA&gt;</td>\n      <td>&lt;NA&gt;</td>\n    </tr>\n  </tbody>\n</table>\n<p>5 rows × 117 columns</p>\n</div>"
     },
     "execution_count": 8,
     "metadata": {},
     "output_type": "execute_result"
    }
   ],
   "source": [
    "keywords_to_exclude = [\"replicate\", \"mutant\"]\n",
    "smpl_att_df = smpl_att_df[~smpl_att_df.sample_comment.str.contains('|'.join(keywords_to_exclude), case=False, na=False)]\n",
    "smpl_att_df = smpl_att_df[~smpl_att_df.genotype.str.contains('|'.join(keywords_to_exclude), case=False, na=False)]\n",
    "smpl_att_df = smpl_att_df[~smpl_att_df.lab_experiment_type.str.contains('|'.join(keywords_to_exclude), case=False, na=False)]\n",
    "\n",
    "print(f'---Number of rows: {smpl_att_df.shape[0]}, Number of columns: {smpl_att_df.shape[1]}---')\n",
    "smpl_att_df.head()"
   ]
  },
  {
   "cell_type": "markdown",
   "id": "40fd0a97f2738fc",
   "metadata": {},
   "source": [
    "### Remove non relevant columns\n",
    "We have a ton of columns and very few of them are actually usefull to us. Let's remove all not relevant columns"
   ]
  },
  {
   "cell_type": "code",
   "execution_count": 9,
   "id": "97b0d35d9e2d79a6",
   "metadata": {
    "ExecuteTime": {
     "end_time": "2024-02-09T14:38:50.010494149Z",
     "start_time": "2024-02-09T14:38:49.998466901Z"
    }
   },
   "outputs": [
    {
     "name": "stdout",
     "output_type": "stream",
     "text": [
      "---Number of rows: 45078, Number of columns: 8---\n"
     ]
    },
    {
     "data": {
      "text/plain": "              strain  inferred_collection_year inferred_source  \\\nrun_accession                                                    \nDRR015582       <NA>                      <NA>            <NA>   \nDRR015581       <NA>                      <NA>            <NA>   \nDRR015585       <NA>                      <NA>            <NA>   \nDRR015586       <NA>                      <NA>            <NA>   \nDRR015588       <NA>                      <NA>            <NA>   \n\n              inferred_continent inferred_country inferred_city  \\\nrun_accession                                                     \nDRR015582                   <NA>             <NA>          <NA>   \nDRR015581                   <NA>             <NA>          <NA>   \nDRR015585                   <NA>             <NA>          <NA>   \nDRR015586                   <NA>             <NA>          <NA>   \nDRR015588                   <NA>             <NA>          <NA>   \n\n              geographic_location_latitude geographic_location_longitude  \nrun_accession                                                             \nDRR015582                             <NA>                          <NA>  \nDRR015581                             <NA>                          <NA>  \nDRR015585                             <NA>                          <NA>  \nDRR015586                             <NA>                          <NA>  \nDRR015588                             <NA>                          <NA>  ",
      "text/html": "<div>\n<style scoped>\n    .dataframe tbody tr th:only-of-type {\n        vertical-align: middle;\n    }\n\n    .dataframe tbody tr th {\n        vertical-align: top;\n    }\n\n    .dataframe thead th {\n        text-align: right;\n    }\n</style>\n<table border=\"1\" class=\"dataframe\">\n  <thead>\n    <tr style=\"text-align: right;\">\n      <th></th>\n      <th>strain</th>\n      <th>inferred_collection_year</th>\n      <th>inferred_source</th>\n      <th>inferred_continent</th>\n      <th>inferred_country</th>\n      <th>inferred_city</th>\n      <th>geographic_location_latitude</th>\n      <th>geographic_location_longitude</th>\n    </tr>\n    <tr>\n      <th>run_accession</th>\n      <th></th>\n      <th></th>\n      <th></th>\n      <th></th>\n      <th></th>\n      <th></th>\n      <th></th>\n      <th></th>\n    </tr>\n  </thead>\n  <tbody>\n    <tr>\n      <th>DRR015582</th>\n      <td>&lt;NA&gt;</td>\n      <td>&lt;NA&gt;</td>\n      <td>&lt;NA&gt;</td>\n      <td>&lt;NA&gt;</td>\n      <td>&lt;NA&gt;</td>\n      <td>&lt;NA&gt;</td>\n      <td>&lt;NA&gt;</td>\n      <td>&lt;NA&gt;</td>\n    </tr>\n    <tr>\n      <th>DRR015581</th>\n      <td>&lt;NA&gt;</td>\n      <td>&lt;NA&gt;</td>\n      <td>&lt;NA&gt;</td>\n      <td>&lt;NA&gt;</td>\n      <td>&lt;NA&gt;</td>\n      <td>&lt;NA&gt;</td>\n      <td>&lt;NA&gt;</td>\n      <td>&lt;NA&gt;</td>\n    </tr>\n    <tr>\n      <th>DRR015585</th>\n      <td>&lt;NA&gt;</td>\n      <td>&lt;NA&gt;</td>\n      <td>&lt;NA&gt;</td>\n      <td>&lt;NA&gt;</td>\n      <td>&lt;NA&gt;</td>\n      <td>&lt;NA&gt;</td>\n      <td>&lt;NA&gt;</td>\n      <td>&lt;NA&gt;</td>\n    </tr>\n    <tr>\n      <th>DRR015586</th>\n      <td>&lt;NA&gt;</td>\n      <td>&lt;NA&gt;</td>\n      <td>&lt;NA&gt;</td>\n      <td>&lt;NA&gt;</td>\n      <td>&lt;NA&gt;</td>\n      <td>&lt;NA&gt;</td>\n      <td>&lt;NA&gt;</td>\n      <td>&lt;NA&gt;</td>\n    </tr>\n    <tr>\n      <th>DRR015588</th>\n      <td>&lt;NA&gt;</td>\n      <td>&lt;NA&gt;</td>\n      <td>&lt;NA&gt;</td>\n      <td>&lt;NA&gt;</td>\n      <td>&lt;NA&gt;</td>\n      <td>&lt;NA&gt;</td>\n      <td>&lt;NA&gt;</td>\n      <td>&lt;NA&gt;</td>\n    </tr>\n  </tbody>\n</table>\n</div>"
     },
     "execution_count": 9,
     "metadata": {},
     "output_type": "execute_result"
    }
   ],
   "source": [
    "smpl_att_df = smpl_att_df[['strain', 'inferred_collection_year', 'inferred_source', 'inferred_continent', 'inferred_country', 'inferred_city', 'geographic_location_latitude', 'geographic_location_longitude']]\n",
    "\n",
    "print(f'---Number of rows: {smpl_att_df.shape[0]}, Number of columns: {smpl_att_df.shape[1]}---')\n",
    "smpl_att_df.head()"
   ]
  },
  {
   "cell_type": "markdown",
   "id": "81a13abd9b64c06b",
   "metadata": {},
   "source": [
    "# Combine sample_attribute metadata with rest of the data\n",
    "---\n",
    "Now that we have extracted the metadata that we wanted we can combine it back to the original dataframe. We only want to keep rows that have values for the collection_year/source/country because we require this downstream."
   ]
  },
  {
   "cell_type": "code",
   "execution_count": 10,
   "id": "a9cbab3a752d8017",
   "metadata": {
    "ExecuteTime": {
     "end_time": "2024-02-09T14:38:50.171900860Z",
     "start_time": "2024-02-09T14:38:50.019135316Z"
    }
   },
   "outputs": [
    {
     "name": "stdout",
     "output_type": "stream",
     "text": [
      "---Number of rows: 24971, Number of columns: 60---\n"
     ]
    },
    {
     "data": {
      "text/plain": "               sra_ID  run_ID  run_alias run_date updated_date   spots  \\\nrun_accession                                                            \nDRR065950       60940   60941  DRR065950     <NA>   2023-06-18  163482   \nDRR065949       60942   60940  DRR065949     <NA>   2023-06-20  163482   \nDRR065951       60944   60943  DRR065951     <NA>   2023-06-21  163482   \nDRR067778       62654   62654  DRR067778     <NA>   2023-06-20   35065   \nDRR070681       65464   65468  DRR070681     <NA>   2023-06-18   69700   \n\n                    bases run_center experiment_name run_attribute  ...  \\\nrun_accession                                                       ...   \nDRR065950      2261498784       <NA>       DRX060093          <NA>  ...   \nDRR065949      1515099158       <NA>       DRX060092          <NA>  ...   \nDRR065951      1398527654       <NA>       DRX060094          <NA>  ...   \nDRR067778       247198598       <NA>       DRX061698          <NA>  ...   \nDRR070681       383913853       <NA>       DRX064631          <NA>  ...   \n\n                     sradb_updated        scientific_name      strain  \\\nrun_accession                                                           \nDRR065950      2023-12-09 17:25:46       Escherichia coli   MRY15-117   \nDRR065949      2023-12-09 17:25:46       Escherichia coli  20Ec-P-124   \nDRR065951      2023-12-09 17:25:46       Escherichia coli   MRY15-131   \nDRR067778      2023-12-09 17:25:46  Klebsiella pneumoniae        KP01   \nDRR070681      2023-12-09 17:25:46       Escherichia coli        M105   \n\n              inferred_collection_year                       inferred_source  \\\nrun_accession                                                                  \nDRR065950                         2012                               MIGS.ba   \nDRR065949                         2008                               MIGS.ba   \nDRR065951                         2013                               MIGS.ba   \nDRR067778                         2014  rectal swab,MIGS.ba.human-associated   \nDRR070681                         2015  MIGS.ba.human-associated,human blood   \n\n              inferred_continent inferred_country inferred_city  \\\nrun_accession                                                     \nDRR065950                   Asia            Japan          <NA>   \nDRR065949                   Asia            Japan          <NA>   \nDRR065951                   Asia            Japan          <NA>   \nDRR067778                   Asia         Thailand       Bangkok   \nDRR070681                   Asia          Myanmar        Yangon   \n\n              geographic_location_latitude geographic_location_longitude  \nrun_accession                                                             \nDRR065950                             <NA>                          <NA>  \nDRR065949                             <NA>                          <NA>  \nDRR065951                             <NA>                          <NA>  \nDRR067778                             <NA>                          <NA>  \nDRR070681                             <NA>                          <NA>  \n\n[5 rows x 60 columns]",
      "text/html": "<div>\n<style scoped>\n    .dataframe tbody tr th:only-of-type {\n        vertical-align: middle;\n    }\n\n    .dataframe tbody tr th {\n        vertical-align: top;\n    }\n\n    .dataframe thead th {\n        text-align: right;\n    }\n</style>\n<table border=\"1\" class=\"dataframe\">\n  <thead>\n    <tr style=\"text-align: right;\">\n      <th></th>\n      <th>sra_ID</th>\n      <th>run_ID</th>\n      <th>run_alias</th>\n      <th>run_date</th>\n      <th>updated_date</th>\n      <th>spots</th>\n      <th>bases</th>\n      <th>run_center</th>\n      <th>experiment_name</th>\n      <th>run_attribute</th>\n      <th>...</th>\n      <th>sradb_updated</th>\n      <th>scientific_name</th>\n      <th>strain</th>\n      <th>inferred_collection_year</th>\n      <th>inferred_source</th>\n      <th>inferred_continent</th>\n      <th>inferred_country</th>\n      <th>inferred_city</th>\n      <th>geographic_location_latitude</th>\n      <th>geographic_location_longitude</th>\n    </tr>\n    <tr>\n      <th>run_accession</th>\n      <th></th>\n      <th></th>\n      <th></th>\n      <th></th>\n      <th></th>\n      <th></th>\n      <th></th>\n      <th></th>\n      <th></th>\n      <th></th>\n      <th></th>\n      <th></th>\n      <th></th>\n      <th></th>\n      <th></th>\n      <th></th>\n      <th></th>\n      <th></th>\n      <th></th>\n      <th></th>\n      <th></th>\n    </tr>\n  </thead>\n  <tbody>\n    <tr>\n      <th>DRR065950</th>\n      <td>60940</td>\n      <td>60941</td>\n      <td>DRR065950</td>\n      <td>&lt;NA&gt;</td>\n      <td>2023-06-18</td>\n      <td>163482</td>\n      <td>2261498784</td>\n      <td>&lt;NA&gt;</td>\n      <td>DRX060093</td>\n      <td>&lt;NA&gt;</td>\n      <td>...</td>\n      <td>2023-12-09 17:25:46</td>\n      <td>Escherichia coli</td>\n      <td>MRY15-117</td>\n      <td>2012</td>\n      <td>MIGS.ba</td>\n      <td>Asia</td>\n      <td>Japan</td>\n      <td>&lt;NA&gt;</td>\n      <td>&lt;NA&gt;</td>\n      <td>&lt;NA&gt;</td>\n    </tr>\n    <tr>\n      <th>DRR065949</th>\n      <td>60942</td>\n      <td>60940</td>\n      <td>DRR065949</td>\n      <td>&lt;NA&gt;</td>\n      <td>2023-06-20</td>\n      <td>163482</td>\n      <td>1515099158</td>\n      <td>&lt;NA&gt;</td>\n      <td>DRX060092</td>\n      <td>&lt;NA&gt;</td>\n      <td>...</td>\n      <td>2023-12-09 17:25:46</td>\n      <td>Escherichia coli</td>\n      <td>20Ec-P-124</td>\n      <td>2008</td>\n      <td>MIGS.ba</td>\n      <td>Asia</td>\n      <td>Japan</td>\n      <td>&lt;NA&gt;</td>\n      <td>&lt;NA&gt;</td>\n      <td>&lt;NA&gt;</td>\n    </tr>\n    <tr>\n      <th>DRR065951</th>\n      <td>60944</td>\n      <td>60943</td>\n      <td>DRR065951</td>\n      <td>&lt;NA&gt;</td>\n      <td>2023-06-21</td>\n      <td>163482</td>\n      <td>1398527654</td>\n      <td>&lt;NA&gt;</td>\n      <td>DRX060094</td>\n      <td>&lt;NA&gt;</td>\n      <td>...</td>\n      <td>2023-12-09 17:25:46</td>\n      <td>Escherichia coli</td>\n      <td>MRY15-131</td>\n      <td>2013</td>\n      <td>MIGS.ba</td>\n      <td>Asia</td>\n      <td>Japan</td>\n      <td>&lt;NA&gt;</td>\n      <td>&lt;NA&gt;</td>\n      <td>&lt;NA&gt;</td>\n    </tr>\n    <tr>\n      <th>DRR067778</th>\n      <td>62654</td>\n      <td>62654</td>\n      <td>DRR067778</td>\n      <td>&lt;NA&gt;</td>\n      <td>2023-06-20</td>\n      <td>35065</td>\n      <td>247198598</td>\n      <td>&lt;NA&gt;</td>\n      <td>DRX061698</td>\n      <td>&lt;NA&gt;</td>\n      <td>...</td>\n      <td>2023-12-09 17:25:46</td>\n      <td>Klebsiella pneumoniae</td>\n      <td>KP01</td>\n      <td>2014</td>\n      <td>rectal swab,MIGS.ba.human-associated</td>\n      <td>Asia</td>\n      <td>Thailand</td>\n      <td>Bangkok</td>\n      <td>&lt;NA&gt;</td>\n      <td>&lt;NA&gt;</td>\n    </tr>\n    <tr>\n      <th>DRR070681</th>\n      <td>65464</td>\n      <td>65468</td>\n      <td>DRR070681</td>\n      <td>&lt;NA&gt;</td>\n      <td>2023-06-18</td>\n      <td>69700</td>\n      <td>383913853</td>\n      <td>&lt;NA&gt;</td>\n      <td>DRX064631</td>\n      <td>&lt;NA&gt;</td>\n      <td>...</td>\n      <td>2023-12-09 17:25:46</td>\n      <td>Escherichia coli</td>\n      <td>M105</td>\n      <td>2015</td>\n      <td>MIGS.ba.human-associated,human blood</td>\n      <td>Asia</td>\n      <td>Myanmar</td>\n      <td>Yangon</td>\n      <td>&lt;NA&gt;</td>\n      <td>&lt;NA&gt;</td>\n    </tr>\n  </tbody>\n</table>\n<p>5 rows × 60 columns</p>\n</div>"
     },
     "execution_count": 10,
     "metadata": {},
     "output_type": "execute_result"
    }
   ],
   "source": [
    "combined_df = metadata_df.join(smpl_att_df)\n",
    "cols = ['inferred_collection_year', 'inferred_source', 'inferred_country']\n",
    "combined_df = combined_df.dropna(subset=cols)\n",
    "\n",
    "combined_df = combined_df.convert_dtypes()\n",
    "print(f'---Number of rows: {combined_df.shape[0]}, Number of columns: {combined_df.shape[1]}---')\n",
    "combined_df.head()"
   ]
  },
  {
   "cell_type": "markdown",
   "id": "55198bd427d5c42e",
   "metadata": {},
   "source": [
    "### Remove lab strain samples from combined dataframe\n",
    "After combining the dataframes we have new columns that might give us more information if a particular run comes from a lab strain, so we filter again.\n"
   ]
  },
  {
   "cell_type": "code",
   "execution_count": 11,
   "id": "2bd9c39ef570dd47",
   "metadata": {
    "ExecuteTime": {
     "end_time": "2024-02-09T14:38:50.496713432Z",
     "start_time": "2024-02-09T14:38:50.176480172Z"
    }
   },
   "outputs": [
    {
     "name": "stdout",
     "output_type": "stream",
     "text": [
      "---Number of rows: 24969, Number of columns: 60---\n"
     ]
    },
    {
     "data": {
      "text/plain": "               sra_ID  run_ID  run_alias run_date updated_date   spots  \\\nrun_accession                                                            \nDRR065950       60940   60941  DRR065950     <NA>   2023-06-18  163482   \nDRR065949       60942   60940  DRR065949     <NA>   2023-06-20  163482   \nDRR065951       60944   60943  DRR065951     <NA>   2023-06-21  163482   \nDRR067778       62654   62654  DRR067778     <NA>   2023-06-20   35065   \nDRR070681       65464   65468  DRR070681     <NA>   2023-06-18   69700   \n\n                    bases run_center experiment_name run_attribute  ...  \\\nrun_accession                                                       ...   \nDRR065950      2261498784       <NA>       DRX060093          <NA>  ...   \nDRR065949      1515099158       <NA>       DRX060092          <NA>  ...   \nDRR065951      1398527654       <NA>       DRX060094          <NA>  ...   \nDRR067778       247198598       <NA>       DRX061698          <NA>  ...   \nDRR070681       383913853       <NA>       DRX064631          <NA>  ...   \n\n                     sradb_updated        scientific_name      strain  \\\nrun_accession                                                           \nDRR065950      2023-12-09 17:25:46       Escherichia coli   MRY15-117   \nDRR065949      2023-12-09 17:25:46       Escherichia coli  20Ec-P-124   \nDRR065951      2023-12-09 17:25:46       Escherichia coli   MRY15-131   \nDRR067778      2023-12-09 17:25:46  Klebsiella pneumoniae        KP01   \nDRR070681      2023-12-09 17:25:46       Escherichia coli        M105   \n\n              inferred_collection_year                       inferred_source  \\\nrun_accession                                                                  \nDRR065950                         2012                               MIGS.ba   \nDRR065949                         2008                               MIGS.ba   \nDRR065951                         2013                               MIGS.ba   \nDRR067778                         2014  rectal swab,MIGS.ba.human-associated   \nDRR070681                         2015  MIGS.ba.human-associated,human blood   \n\n              inferred_continent inferred_country inferred_city  \\\nrun_accession                                                     \nDRR065950                   Asia            Japan          <NA>   \nDRR065949                   Asia            Japan          <NA>   \nDRR065951                   Asia            Japan          <NA>   \nDRR067778                   Asia         Thailand       Bangkok   \nDRR070681                   Asia          Myanmar        Yangon   \n\n              geographic_location_latitude geographic_location_longitude  \nrun_accession                                                             \nDRR065950                             <NA>                          <NA>  \nDRR065949                             <NA>                          <NA>  \nDRR065951                             <NA>                          <NA>  \nDRR067778                             <NA>                          <NA>  \nDRR070681                             <NA>                          <NA>  \n\n[5 rows x 60 columns]",
      "text/html": "<div>\n<style scoped>\n    .dataframe tbody tr th:only-of-type {\n        vertical-align: middle;\n    }\n\n    .dataframe tbody tr th {\n        vertical-align: top;\n    }\n\n    .dataframe thead th {\n        text-align: right;\n    }\n</style>\n<table border=\"1\" class=\"dataframe\">\n  <thead>\n    <tr style=\"text-align: right;\">\n      <th></th>\n      <th>sra_ID</th>\n      <th>run_ID</th>\n      <th>run_alias</th>\n      <th>run_date</th>\n      <th>updated_date</th>\n      <th>spots</th>\n      <th>bases</th>\n      <th>run_center</th>\n      <th>experiment_name</th>\n      <th>run_attribute</th>\n      <th>...</th>\n      <th>sradb_updated</th>\n      <th>scientific_name</th>\n      <th>strain</th>\n      <th>inferred_collection_year</th>\n      <th>inferred_source</th>\n      <th>inferred_continent</th>\n      <th>inferred_country</th>\n      <th>inferred_city</th>\n      <th>geographic_location_latitude</th>\n      <th>geographic_location_longitude</th>\n    </tr>\n    <tr>\n      <th>run_accession</th>\n      <th></th>\n      <th></th>\n      <th></th>\n      <th></th>\n      <th></th>\n      <th></th>\n      <th></th>\n      <th></th>\n      <th></th>\n      <th></th>\n      <th></th>\n      <th></th>\n      <th></th>\n      <th></th>\n      <th></th>\n      <th></th>\n      <th></th>\n      <th></th>\n      <th></th>\n      <th></th>\n      <th></th>\n    </tr>\n  </thead>\n  <tbody>\n    <tr>\n      <th>DRR065950</th>\n      <td>60940</td>\n      <td>60941</td>\n      <td>DRR065950</td>\n      <td>&lt;NA&gt;</td>\n      <td>2023-06-18</td>\n      <td>163482</td>\n      <td>2261498784</td>\n      <td>&lt;NA&gt;</td>\n      <td>DRX060093</td>\n      <td>&lt;NA&gt;</td>\n      <td>...</td>\n      <td>2023-12-09 17:25:46</td>\n      <td>Escherichia coli</td>\n      <td>MRY15-117</td>\n      <td>2012</td>\n      <td>MIGS.ba</td>\n      <td>Asia</td>\n      <td>Japan</td>\n      <td>&lt;NA&gt;</td>\n      <td>&lt;NA&gt;</td>\n      <td>&lt;NA&gt;</td>\n    </tr>\n    <tr>\n      <th>DRR065949</th>\n      <td>60942</td>\n      <td>60940</td>\n      <td>DRR065949</td>\n      <td>&lt;NA&gt;</td>\n      <td>2023-06-20</td>\n      <td>163482</td>\n      <td>1515099158</td>\n      <td>&lt;NA&gt;</td>\n      <td>DRX060092</td>\n      <td>&lt;NA&gt;</td>\n      <td>...</td>\n      <td>2023-12-09 17:25:46</td>\n      <td>Escherichia coli</td>\n      <td>20Ec-P-124</td>\n      <td>2008</td>\n      <td>MIGS.ba</td>\n      <td>Asia</td>\n      <td>Japan</td>\n      <td>&lt;NA&gt;</td>\n      <td>&lt;NA&gt;</td>\n      <td>&lt;NA&gt;</td>\n    </tr>\n    <tr>\n      <th>DRR065951</th>\n      <td>60944</td>\n      <td>60943</td>\n      <td>DRR065951</td>\n      <td>&lt;NA&gt;</td>\n      <td>2023-06-21</td>\n      <td>163482</td>\n      <td>1398527654</td>\n      <td>&lt;NA&gt;</td>\n      <td>DRX060094</td>\n      <td>&lt;NA&gt;</td>\n      <td>...</td>\n      <td>2023-12-09 17:25:46</td>\n      <td>Escherichia coli</td>\n      <td>MRY15-131</td>\n      <td>2013</td>\n      <td>MIGS.ba</td>\n      <td>Asia</td>\n      <td>Japan</td>\n      <td>&lt;NA&gt;</td>\n      <td>&lt;NA&gt;</td>\n      <td>&lt;NA&gt;</td>\n    </tr>\n    <tr>\n      <th>DRR067778</th>\n      <td>62654</td>\n      <td>62654</td>\n      <td>DRR067778</td>\n      <td>&lt;NA&gt;</td>\n      <td>2023-06-20</td>\n      <td>35065</td>\n      <td>247198598</td>\n      <td>&lt;NA&gt;</td>\n      <td>DRX061698</td>\n      <td>&lt;NA&gt;</td>\n      <td>...</td>\n      <td>2023-12-09 17:25:46</td>\n      <td>Klebsiella pneumoniae</td>\n      <td>KP01</td>\n      <td>2014</td>\n      <td>rectal swab,MIGS.ba.human-associated</td>\n      <td>Asia</td>\n      <td>Thailand</td>\n      <td>Bangkok</td>\n      <td>&lt;NA&gt;</td>\n      <td>&lt;NA&gt;</td>\n    </tr>\n    <tr>\n      <th>DRR070681</th>\n      <td>65464</td>\n      <td>65468</td>\n      <td>DRR070681</td>\n      <td>&lt;NA&gt;</td>\n      <td>2023-06-18</td>\n      <td>69700</td>\n      <td>383913853</td>\n      <td>&lt;NA&gt;</td>\n      <td>DRX064631</td>\n      <td>&lt;NA&gt;</td>\n      <td>...</td>\n      <td>2023-12-09 17:25:46</td>\n      <td>Escherichia coli</td>\n      <td>M105</td>\n      <td>2015</td>\n      <td>MIGS.ba.human-associated,human blood</td>\n      <td>Asia</td>\n      <td>Myanmar</td>\n      <td>Yangon</td>\n      <td>&lt;NA&gt;</td>\n      <td>&lt;NA&gt;</td>\n    </tr>\n  </tbody>\n</table>\n<p>5 rows × 60 columns</p>\n</div>"
     },
     "execution_count": 11,
     "metadata": {},
     "output_type": "execute_result"
    }
   ],
   "source": [
    "keywords_to_exclude = [\"replicate\", \"mutant\"]\n",
    "\n",
    "combined_df = combined_df[~combined_df.description.str.contains('|'.join(keywords_to_exclude), case=False, na=False)]\n",
    "combined_df = combined_df[~combined_df.study_title.str.contains('|'.join(keywords_to_exclude), case=False, na=False)]\n",
    "combined_df = combined_df[~combined_df.study_abstract.str.contains('|'.join(keywords_to_exclude), case=False, na=False)]\n",
    "combined_df = combined_df[~combined_df.study_description.str.contains('|'.join(keywords_to_exclude), case=False, na=False)]\n",
    "\n",
    "print(f'---Number of rows: {combined_df.shape[0]}, Number of columns: {combined_df.shape[1]}---')\n",
    "combined_df.head()"
   ]
  },
  {
   "cell_type": "markdown",
   "id": "3cafbfa298db2931",
   "metadata": {},
   "source": [
    "### Remove samples submitted by the RIVM\n",
    "Since we will already have the RIVM samples in the database there is no need to have them here."
   ]
  },
  {
   "cell_type": "code",
   "execution_count": 12,
   "id": "a1c6e624dcc61a76",
   "metadata": {
    "ExecuteTime": {
     "end_time": "2024-02-09T14:38:50.536168674Z",
     "start_time": "2024-02-09T14:38:50.499550084Z"
    }
   },
   "outputs": [
    {
     "name": "stdout",
     "output_type": "stream",
     "text": [
      "---Number of rows: 24343, Number of columns: 60---\n"
     ]
    },
    {
     "data": {
      "text/plain": "               sra_ID  run_ID  run_alias run_date updated_date   spots  \\\nrun_accession                                                            \nDRR065950       60940   60941  DRR065950     <NA>   2023-06-18  163482   \nDRR065949       60942   60940  DRR065949     <NA>   2023-06-20  163482   \nDRR065951       60944   60943  DRR065951     <NA>   2023-06-21  163482   \nDRR067778       62654   62654  DRR067778     <NA>   2023-06-20   35065   \nDRR070681       65464   65468  DRR070681     <NA>   2023-06-18   69700   \n\n                    bases run_center experiment_name run_attribute  ...  \\\nrun_accession                                                       ...   \nDRR065950      2261498784       <NA>       DRX060093          <NA>  ...   \nDRR065949      1515099158       <NA>       DRX060092          <NA>  ...   \nDRR065951      1398527654       <NA>       DRX060094          <NA>  ...   \nDRR067778       247198598       <NA>       DRX061698          <NA>  ...   \nDRR070681       383913853       <NA>       DRX064631          <NA>  ...   \n\n                     sradb_updated        scientific_name      strain  \\\nrun_accession                                                           \nDRR065950      2023-12-09 17:25:46       Escherichia coli   MRY15-117   \nDRR065949      2023-12-09 17:25:46       Escherichia coli  20Ec-P-124   \nDRR065951      2023-12-09 17:25:46       Escherichia coli   MRY15-131   \nDRR067778      2023-12-09 17:25:46  Klebsiella pneumoniae        KP01   \nDRR070681      2023-12-09 17:25:46       Escherichia coli        M105   \n\n              inferred_collection_year                       inferred_source  \\\nrun_accession                                                                  \nDRR065950                         2012                               MIGS.ba   \nDRR065949                         2008                               MIGS.ba   \nDRR065951                         2013                               MIGS.ba   \nDRR067778                         2014  rectal swab,MIGS.ba.human-associated   \nDRR070681                         2015  MIGS.ba.human-associated,human blood   \n\n              inferred_continent inferred_country inferred_city  \\\nrun_accession                                                     \nDRR065950                   Asia            Japan          <NA>   \nDRR065949                   Asia            Japan          <NA>   \nDRR065951                   Asia            Japan          <NA>   \nDRR067778                   Asia         Thailand       Bangkok   \nDRR070681                   Asia          Myanmar        Yangon   \n\n              geographic_location_latitude geographic_location_longitude  \nrun_accession                                                             \nDRR065950                             <NA>                          <NA>  \nDRR065949                             <NA>                          <NA>  \nDRR065951                             <NA>                          <NA>  \nDRR067778                             <NA>                          <NA>  \nDRR070681                             <NA>                          <NA>  \n\n[5 rows x 60 columns]",
      "text/html": "<div>\n<style scoped>\n    .dataframe tbody tr th:only-of-type {\n        vertical-align: middle;\n    }\n\n    .dataframe tbody tr th {\n        vertical-align: top;\n    }\n\n    .dataframe thead th {\n        text-align: right;\n    }\n</style>\n<table border=\"1\" class=\"dataframe\">\n  <thead>\n    <tr style=\"text-align: right;\">\n      <th></th>\n      <th>sra_ID</th>\n      <th>run_ID</th>\n      <th>run_alias</th>\n      <th>run_date</th>\n      <th>updated_date</th>\n      <th>spots</th>\n      <th>bases</th>\n      <th>run_center</th>\n      <th>experiment_name</th>\n      <th>run_attribute</th>\n      <th>...</th>\n      <th>sradb_updated</th>\n      <th>scientific_name</th>\n      <th>strain</th>\n      <th>inferred_collection_year</th>\n      <th>inferred_source</th>\n      <th>inferred_continent</th>\n      <th>inferred_country</th>\n      <th>inferred_city</th>\n      <th>geographic_location_latitude</th>\n      <th>geographic_location_longitude</th>\n    </tr>\n    <tr>\n      <th>run_accession</th>\n      <th></th>\n      <th></th>\n      <th></th>\n      <th></th>\n      <th></th>\n      <th></th>\n      <th></th>\n      <th></th>\n      <th></th>\n      <th></th>\n      <th></th>\n      <th></th>\n      <th></th>\n      <th></th>\n      <th></th>\n      <th></th>\n      <th></th>\n      <th></th>\n      <th></th>\n      <th></th>\n      <th></th>\n    </tr>\n  </thead>\n  <tbody>\n    <tr>\n      <th>DRR065950</th>\n      <td>60940</td>\n      <td>60941</td>\n      <td>DRR065950</td>\n      <td>&lt;NA&gt;</td>\n      <td>2023-06-18</td>\n      <td>163482</td>\n      <td>2261498784</td>\n      <td>&lt;NA&gt;</td>\n      <td>DRX060093</td>\n      <td>&lt;NA&gt;</td>\n      <td>...</td>\n      <td>2023-12-09 17:25:46</td>\n      <td>Escherichia coli</td>\n      <td>MRY15-117</td>\n      <td>2012</td>\n      <td>MIGS.ba</td>\n      <td>Asia</td>\n      <td>Japan</td>\n      <td>&lt;NA&gt;</td>\n      <td>&lt;NA&gt;</td>\n      <td>&lt;NA&gt;</td>\n    </tr>\n    <tr>\n      <th>DRR065949</th>\n      <td>60942</td>\n      <td>60940</td>\n      <td>DRR065949</td>\n      <td>&lt;NA&gt;</td>\n      <td>2023-06-20</td>\n      <td>163482</td>\n      <td>1515099158</td>\n      <td>&lt;NA&gt;</td>\n      <td>DRX060092</td>\n      <td>&lt;NA&gt;</td>\n      <td>...</td>\n      <td>2023-12-09 17:25:46</td>\n      <td>Escherichia coli</td>\n      <td>20Ec-P-124</td>\n      <td>2008</td>\n      <td>MIGS.ba</td>\n      <td>Asia</td>\n      <td>Japan</td>\n      <td>&lt;NA&gt;</td>\n      <td>&lt;NA&gt;</td>\n      <td>&lt;NA&gt;</td>\n    </tr>\n    <tr>\n      <th>DRR065951</th>\n      <td>60944</td>\n      <td>60943</td>\n      <td>DRR065951</td>\n      <td>&lt;NA&gt;</td>\n      <td>2023-06-21</td>\n      <td>163482</td>\n      <td>1398527654</td>\n      <td>&lt;NA&gt;</td>\n      <td>DRX060094</td>\n      <td>&lt;NA&gt;</td>\n      <td>...</td>\n      <td>2023-12-09 17:25:46</td>\n      <td>Escherichia coli</td>\n      <td>MRY15-131</td>\n      <td>2013</td>\n      <td>MIGS.ba</td>\n      <td>Asia</td>\n      <td>Japan</td>\n      <td>&lt;NA&gt;</td>\n      <td>&lt;NA&gt;</td>\n      <td>&lt;NA&gt;</td>\n    </tr>\n    <tr>\n      <th>DRR067778</th>\n      <td>62654</td>\n      <td>62654</td>\n      <td>DRR067778</td>\n      <td>&lt;NA&gt;</td>\n      <td>2023-06-20</td>\n      <td>35065</td>\n      <td>247198598</td>\n      <td>&lt;NA&gt;</td>\n      <td>DRX061698</td>\n      <td>&lt;NA&gt;</td>\n      <td>...</td>\n      <td>2023-12-09 17:25:46</td>\n      <td>Klebsiella pneumoniae</td>\n      <td>KP01</td>\n      <td>2014</td>\n      <td>rectal swab,MIGS.ba.human-associated</td>\n      <td>Asia</td>\n      <td>Thailand</td>\n      <td>Bangkok</td>\n      <td>&lt;NA&gt;</td>\n      <td>&lt;NA&gt;</td>\n    </tr>\n    <tr>\n      <th>DRR070681</th>\n      <td>65464</td>\n      <td>65468</td>\n      <td>DRR070681</td>\n      <td>&lt;NA&gt;</td>\n      <td>2023-06-18</td>\n      <td>69700</td>\n      <td>383913853</td>\n      <td>&lt;NA&gt;</td>\n      <td>DRX064631</td>\n      <td>&lt;NA&gt;</td>\n      <td>...</td>\n      <td>2023-12-09 17:25:46</td>\n      <td>Escherichia coli</td>\n      <td>M105</td>\n      <td>2015</td>\n      <td>MIGS.ba.human-associated,human blood</td>\n      <td>Asia</td>\n      <td>Myanmar</td>\n      <td>Yangon</td>\n      <td>&lt;NA&gt;</td>\n      <td>&lt;NA&gt;</td>\n    </tr>\n  </tbody>\n</table>\n<p>5 rows × 60 columns</p>\n</div>"
     },
     "execution_count": 12,
     "metadata": {},
     "output_type": "execute_result"
    }
   ],
   "source": [
    "combined_df = combined_df[~combined_df.submission_center.str.contains(\"RIVM\", na=False)] # Remove samples submitted by the RIVM\n",
    "\n",
    "print(f'---Number of rows: {combined_df.shape[0]}, Number of columns: {combined_df.shape[1]}---')\n",
    "combined_df.head()"
   ]
  },
  {
   "cell_type": "markdown",
   "id": "c5c2778ca7bef4f1",
   "metadata": {},
   "source": [
    "### Replace missing value synonyms with NA\n",
    "Once again after combining and obtaining new columns there are values in the rows that indicate NaNs"
   ]
  },
  {
   "cell_type": "code",
   "execution_count": 14,
   "id": "c9dbf21e43d9c605",
   "metadata": {
    "ExecuteTime": {
     "end_time": "2024-02-09T14:40:40.876028553Z",
     "start_time": "2024-02-09T14:40:36.157687446Z"
    }
   },
   "outputs": [
    {
     "name": "stdout",
     "output_type": "stream",
     "text": [
      "---Number of rows: 24343, Number of columns: 60---\n"
     ]
    },
    {
     "data": {
      "text/plain": "               sra_ID  run_ID  run_alias run_date updated_date   spots  \\\nrun_accession                                                            \nDRR065950       60940   60941  DRR065950     <NA>   2023-06-18  163482   \nDRR065949       60942   60940  DRR065949     <NA>   2023-06-20  163482   \nDRR065951       60944   60943  DRR065951     <NA>   2023-06-21  163482   \nDRR067778       62654   62654  DRR067778     <NA>   2023-06-20   35065   \nDRR070681       65464   65468  DRR070681     <NA>   2023-06-18   69700   \n\n                    bases run_center experiment_name run_attribute  ...  \\\nrun_accession                                                       ...   \nDRR065950      2261498784       <NA>       DRX060093          <NA>  ...   \nDRR065949      1515099158       <NA>       DRX060092          <NA>  ...   \nDRR065951      1398527654       <NA>       DRX060094          <NA>  ...   \nDRR067778       247198598       <NA>       DRX061698          <NA>  ...   \nDRR070681       383913853       <NA>       DRX064631          <NA>  ...   \n\n                     sradb_updated        scientific_name      strain  \\\nrun_accession                                                           \nDRR065950      2023-12-09 17:25:46       Escherichia coli   MRY15-117   \nDRR065949      2023-12-09 17:25:46       Escherichia coli  20Ec-P-124   \nDRR065951      2023-12-09 17:25:46       Escherichia coli   MRY15-131   \nDRR067778      2023-12-09 17:25:46  Klebsiella pneumoniae        KP01   \nDRR070681      2023-12-09 17:25:46       Escherichia coli        M105   \n\n              inferred_collection_year                       inferred_source  \\\nrun_accession                                                                  \nDRR065950                         2012                               MIGS.ba   \nDRR065949                         2008                               MIGS.ba   \nDRR065951                         2013                               MIGS.ba   \nDRR067778                         2014  rectal swab,MIGS.ba.human-associated   \nDRR070681                         2015  MIGS.ba.human-associated,human blood   \n\n              inferred_continent inferred_country inferred_city  \\\nrun_accession                                                     \nDRR065950                   Asia            Japan          <NA>   \nDRR065949                   Asia            Japan          <NA>   \nDRR065951                   Asia            Japan          <NA>   \nDRR067778                   Asia         Thailand       Bangkok   \nDRR070681                   Asia          Myanmar        Yangon   \n\n              geographic_location_latitude geographic_location_longitude  \nrun_accession                                                             \nDRR065950                             <NA>                          <NA>  \nDRR065949                             <NA>                          <NA>  \nDRR065951                             <NA>                          <NA>  \nDRR067778                             <NA>                          <NA>  \nDRR070681                             <NA>                          <NA>  \n\n[5 rows x 60 columns]",
      "text/html": "<div>\n<style scoped>\n    .dataframe tbody tr th:only-of-type {\n        vertical-align: middle;\n    }\n\n    .dataframe tbody tr th {\n        vertical-align: top;\n    }\n\n    .dataframe thead th {\n        text-align: right;\n    }\n</style>\n<table border=\"1\" class=\"dataframe\">\n  <thead>\n    <tr style=\"text-align: right;\">\n      <th></th>\n      <th>sra_ID</th>\n      <th>run_ID</th>\n      <th>run_alias</th>\n      <th>run_date</th>\n      <th>updated_date</th>\n      <th>spots</th>\n      <th>bases</th>\n      <th>run_center</th>\n      <th>experiment_name</th>\n      <th>run_attribute</th>\n      <th>...</th>\n      <th>sradb_updated</th>\n      <th>scientific_name</th>\n      <th>strain</th>\n      <th>inferred_collection_year</th>\n      <th>inferred_source</th>\n      <th>inferred_continent</th>\n      <th>inferred_country</th>\n      <th>inferred_city</th>\n      <th>geographic_location_latitude</th>\n      <th>geographic_location_longitude</th>\n    </tr>\n    <tr>\n      <th>run_accession</th>\n      <th></th>\n      <th></th>\n      <th></th>\n      <th></th>\n      <th></th>\n      <th></th>\n      <th></th>\n      <th></th>\n      <th></th>\n      <th></th>\n      <th></th>\n      <th></th>\n      <th></th>\n      <th></th>\n      <th></th>\n      <th></th>\n      <th></th>\n      <th></th>\n      <th></th>\n      <th></th>\n      <th></th>\n    </tr>\n  </thead>\n  <tbody>\n    <tr>\n      <th>DRR065950</th>\n      <td>60940</td>\n      <td>60941</td>\n      <td>DRR065950</td>\n      <td>&lt;NA&gt;</td>\n      <td>2023-06-18</td>\n      <td>163482</td>\n      <td>2261498784</td>\n      <td>&lt;NA&gt;</td>\n      <td>DRX060093</td>\n      <td>&lt;NA&gt;</td>\n      <td>...</td>\n      <td>2023-12-09 17:25:46</td>\n      <td>Escherichia coli</td>\n      <td>MRY15-117</td>\n      <td>2012</td>\n      <td>MIGS.ba</td>\n      <td>Asia</td>\n      <td>Japan</td>\n      <td>&lt;NA&gt;</td>\n      <td>&lt;NA&gt;</td>\n      <td>&lt;NA&gt;</td>\n    </tr>\n    <tr>\n      <th>DRR065949</th>\n      <td>60942</td>\n      <td>60940</td>\n      <td>DRR065949</td>\n      <td>&lt;NA&gt;</td>\n      <td>2023-06-20</td>\n      <td>163482</td>\n      <td>1515099158</td>\n      <td>&lt;NA&gt;</td>\n      <td>DRX060092</td>\n      <td>&lt;NA&gt;</td>\n      <td>...</td>\n      <td>2023-12-09 17:25:46</td>\n      <td>Escherichia coli</td>\n      <td>20Ec-P-124</td>\n      <td>2008</td>\n      <td>MIGS.ba</td>\n      <td>Asia</td>\n      <td>Japan</td>\n      <td>&lt;NA&gt;</td>\n      <td>&lt;NA&gt;</td>\n      <td>&lt;NA&gt;</td>\n    </tr>\n    <tr>\n      <th>DRR065951</th>\n      <td>60944</td>\n      <td>60943</td>\n      <td>DRR065951</td>\n      <td>&lt;NA&gt;</td>\n      <td>2023-06-21</td>\n      <td>163482</td>\n      <td>1398527654</td>\n      <td>&lt;NA&gt;</td>\n      <td>DRX060094</td>\n      <td>&lt;NA&gt;</td>\n      <td>...</td>\n      <td>2023-12-09 17:25:46</td>\n      <td>Escherichia coli</td>\n      <td>MRY15-131</td>\n      <td>2013</td>\n      <td>MIGS.ba</td>\n      <td>Asia</td>\n      <td>Japan</td>\n      <td>&lt;NA&gt;</td>\n      <td>&lt;NA&gt;</td>\n      <td>&lt;NA&gt;</td>\n    </tr>\n    <tr>\n      <th>DRR067778</th>\n      <td>62654</td>\n      <td>62654</td>\n      <td>DRR067778</td>\n      <td>&lt;NA&gt;</td>\n      <td>2023-06-20</td>\n      <td>35065</td>\n      <td>247198598</td>\n      <td>&lt;NA&gt;</td>\n      <td>DRX061698</td>\n      <td>&lt;NA&gt;</td>\n      <td>...</td>\n      <td>2023-12-09 17:25:46</td>\n      <td>Klebsiella pneumoniae</td>\n      <td>KP01</td>\n      <td>2014</td>\n      <td>rectal swab,MIGS.ba.human-associated</td>\n      <td>Asia</td>\n      <td>Thailand</td>\n      <td>Bangkok</td>\n      <td>&lt;NA&gt;</td>\n      <td>&lt;NA&gt;</td>\n    </tr>\n    <tr>\n      <th>DRR070681</th>\n      <td>65464</td>\n      <td>65468</td>\n      <td>DRR070681</td>\n      <td>&lt;NA&gt;</td>\n      <td>2023-06-18</td>\n      <td>69700</td>\n      <td>383913853</td>\n      <td>&lt;NA&gt;</td>\n      <td>DRX064631</td>\n      <td>&lt;NA&gt;</td>\n      <td>...</td>\n      <td>2023-12-09 17:25:46</td>\n      <td>Escherichia coli</td>\n      <td>M105</td>\n      <td>2015</td>\n      <td>MIGS.ba.human-associated,human blood</td>\n      <td>Asia</td>\n      <td>Myanmar</td>\n      <td>Yangon</td>\n      <td>&lt;NA&gt;</td>\n      <td>&lt;NA&gt;</td>\n    </tr>\n  </tbody>\n</table>\n<p>5 rows × 60 columns</p>\n</div>"
     },
     "execution_count": 14,
     "metadata": {},
     "output_type": "execute_result"
    }
   ],
   "source": [
    "na_synonyms = {r'^\\*$', r'^-$', r'^\\.$', r'^[Nn]one$', r'^[Nn]an$', r'^[Uu]nknown$', r'(?i)^not[ _-]collected$', r'(?i)^not[ _-]provided', r'^\\?$', r'^ $', r'(?i)^not[ _-]applicable$', r'^[Nn]a$', r'^[Nn]o$', r'^[Oo]ther$', r'^[Mm]is{1,3}ing$', r'^[Uu]nspecified$', r'^[Nn]ot[ ]available$', r'^[Nn]ot[ :]available[:] not collected$', '^[Nn]ot[ :]available[:] to be reported later$'}\n",
    "\n",
    "combined_df = combined_df.replace(to_replace=na_synonyms, value=pd.NA, regex=True)\n",
    "\n",
    "print(f'---Number of rows: {combined_df.shape[0]}, Number of columns: {combined_df.shape[1]}---')\n",
    "combined_df.head()"
   ]
  },
  {
   "cell_type": "markdown",
   "id": "8b81ad3a186933b9",
   "metadata": {},
   "source": [
    "### Throw away empty columns\n",
    "We want to filter out columns that only have NaN values so there is less cluter"
   ]
  },
  {
   "cell_type": "code",
   "execution_count": 16,
   "id": "fe3650674b5c6f7d",
   "metadata": {
    "ExecuteTime": {
     "end_time": "2024-02-09T14:41:42.617671957Z",
     "start_time": "2024-02-09T14:41:42.574111526Z"
    }
   },
   "outputs": [
    {
     "name": "stdout",
     "output_type": "stream",
     "text": [
      "---Number of rows: 24343, Number of columns: 56---\n"
     ]
    },
    {
     "data": {
      "text/plain": "               sra_ID  run_ID  run_alias updated_date   spots       bases  \\\nrun_accession                                                               \nDRR065950       60940   60941  DRR065950   2023-06-18  163482  2261498784   \nDRR065949       60942   60940  DRR065949   2023-06-20  163482  1515099158   \nDRR065951       60944   60943  DRR065951   2023-06-21  163482  1398527654   \nDRR067778       62654   62654  DRR067778   2023-06-20   35065   247198598   \nDRR070681       65464   65468  DRR070681   2023-06-18   69700   383913853   \n\n              run_center experiment_name run_attribute  experiment_ID  ...  \\\nrun_accession                                                          ...   \nDRR065950           <NA>       DRX060093          <NA>          55877  ...   \nDRR065949           <NA>       DRX060092          <NA>          55875  ...   \nDRR065951           <NA>       DRX060094          <NA>          55874  ...   \nDRR067778           <NA>       DRX061698          <NA>          57390  ...   \nDRR070681           <NA>       DRX064631          <NA>          60206  ...   \n\n                     sradb_updated        scientific_name      strain  \\\nrun_accession                                                           \nDRR065950      2023-12-09 17:25:46       Escherichia coli   MRY15-117   \nDRR065949      2023-12-09 17:25:46       Escherichia coli  20Ec-P-124   \nDRR065951      2023-12-09 17:25:46       Escherichia coli   MRY15-131   \nDRR067778      2023-12-09 17:25:46  Klebsiella pneumoniae        KP01   \nDRR070681      2023-12-09 17:25:46       Escherichia coli        M105   \n\n              inferred_collection_year                       inferred_source  \\\nrun_accession                                                                  \nDRR065950                         2012                               MIGS.ba   \nDRR065949                         2008                               MIGS.ba   \nDRR065951                         2013                               MIGS.ba   \nDRR067778                         2014  rectal swab,MIGS.ba.human-associated   \nDRR070681                         2015  MIGS.ba.human-associated,human blood   \n\n              inferred_continent inferred_country inferred_city  \\\nrun_accession                                                     \nDRR065950                   Asia            Japan          <NA>   \nDRR065949                   Asia            Japan          <NA>   \nDRR065951                   Asia            Japan          <NA>   \nDRR067778                   Asia         Thailand       Bangkok   \nDRR070681                   Asia          Myanmar        Yangon   \n\n              geographic_location_latitude geographic_location_longitude  \nrun_accession                                                             \nDRR065950                             <NA>                          <NA>  \nDRR065949                             <NA>                          <NA>  \nDRR065951                             <NA>                          <NA>  \nDRR067778                             <NA>                          <NA>  \nDRR070681                             <NA>                          <NA>  \n\n[5 rows x 56 columns]",
      "text/html": "<div>\n<style scoped>\n    .dataframe tbody tr th:only-of-type {\n        vertical-align: middle;\n    }\n\n    .dataframe tbody tr th {\n        vertical-align: top;\n    }\n\n    .dataframe thead th {\n        text-align: right;\n    }\n</style>\n<table border=\"1\" class=\"dataframe\">\n  <thead>\n    <tr style=\"text-align: right;\">\n      <th></th>\n      <th>sra_ID</th>\n      <th>run_ID</th>\n      <th>run_alias</th>\n      <th>updated_date</th>\n      <th>spots</th>\n      <th>bases</th>\n      <th>run_center</th>\n      <th>experiment_name</th>\n      <th>run_attribute</th>\n      <th>experiment_ID</th>\n      <th>...</th>\n      <th>sradb_updated</th>\n      <th>scientific_name</th>\n      <th>strain</th>\n      <th>inferred_collection_year</th>\n      <th>inferred_source</th>\n      <th>inferred_continent</th>\n      <th>inferred_country</th>\n      <th>inferred_city</th>\n      <th>geographic_location_latitude</th>\n      <th>geographic_location_longitude</th>\n    </tr>\n    <tr>\n      <th>run_accession</th>\n      <th></th>\n      <th></th>\n      <th></th>\n      <th></th>\n      <th></th>\n      <th></th>\n      <th></th>\n      <th></th>\n      <th></th>\n      <th></th>\n      <th></th>\n      <th></th>\n      <th></th>\n      <th></th>\n      <th></th>\n      <th></th>\n      <th></th>\n      <th></th>\n      <th></th>\n      <th></th>\n      <th></th>\n    </tr>\n  </thead>\n  <tbody>\n    <tr>\n      <th>DRR065950</th>\n      <td>60940</td>\n      <td>60941</td>\n      <td>DRR065950</td>\n      <td>2023-06-18</td>\n      <td>163482</td>\n      <td>2261498784</td>\n      <td>&lt;NA&gt;</td>\n      <td>DRX060093</td>\n      <td>&lt;NA&gt;</td>\n      <td>55877</td>\n      <td>...</td>\n      <td>2023-12-09 17:25:46</td>\n      <td>Escherichia coli</td>\n      <td>MRY15-117</td>\n      <td>2012</td>\n      <td>MIGS.ba</td>\n      <td>Asia</td>\n      <td>Japan</td>\n      <td>&lt;NA&gt;</td>\n      <td>&lt;NA&gt;</td>\n      <td>&lt;NA&gt;</td>\n    </tr>\n    <tr>\n      <th>DRR065949</th>\n      <td>60942</td>\n      <td>60940</td>\n      <td>DRR065949</td>\n      <td>2023-06-20</td>\n      <td>163482</td>\n      <td>1515099158</td>\n      <td>&lt;NA&gt;</td>\n      <td>DRX060092</td>\n      <td>&lt;NA&gt;</td>\n      <td>55875</td>\n      <td>...</td>\n      <td>2023-12-09 17:25:46</td>\n      <td>Escherichia coli</td>\n      <td>20Ec-P-124</td>\n      <td>2008</td>\n      <td>MIGS.ba</td>\n      <td>Asia</td>\n      <td>Japan</td>\n      <td>&lt;NA&gt;</td>\n      <td>&lt;NA&gt;</td>\n      <td>&lt;NA&gt;</td>\n    </tr>\n    <tr>\n      <th>DRR065951</th>\n      <td>60944</td>\n      <td>60943</td>\n      <td>DRR065951</td>\n      <td>2023-06-21</td>\n      <td>163482</td>\n      <td>1398527654</td>\n      <td>&lt;NA&gt;</td>\n      <td>DRX060094</td>\n      <td>&lt;NA&gt;</td>\n      <td>55874</td>\n      <td>...</td>\n      <td>2023-12-09 17:25:46</td>\n      <td>Escherichia coli</td>\n      <td>MRY15-131</td>\n      <td>2013</td>\n      <td>MIGS.ba</td>\n      <td>Asia</td>\n      <td>Japan</td>\n      <td>&lt;NA&gt;</td>\n      <td>&lt;NA&gt;</td>\n      <td>&lt;NA&gt;</td>\n    </tr>\n    <tr>\n      <th>DRR067778</th>\n      <td>62654</td>\n      <td>62654</td>\n      <td>DRR067778</td>\n      <td>2023-06-20</td>\n      <td>35065</td>\n      <td>247198598</td>\n      <td>&lt;NA&gt;</td>\n      <td>DRX061698</td>\n      <td>&lt;NA&gt;</td>\n      <td>57390</td>\n      <td>...</td>\n      <td>2023-12-09 17:25:46</td>\n      <td>Klebsiella pneumoniae</td>\n      <td>KP01</td>\n      <td>2014</td>\n      <td>rectal swab,MIGS.ba.human-associated</td>\n      <td>Asia</td>\n      <td>Thailand</td>\n      <td>Bangkok</td>\n      <td>&lt;NA&gt;</td>\n      <td>&lt;NA&gt;</td>\n    </tr>\n    <tr>\n      <th>DRR070681</th>\n      <td>65464</td>\n      <td>65468</td>\n      <td>DRR070681</td>\n      <td>2023-06-18</td>\n      <td>69700</td>\n      <td>383913853</td>\n      <td>&lt;NA&gt;</td>\n      <td>DRX064631</td>\n      <td>&lt;NA&gt;</td>\n      <td>60206</td>\n      <td>...</td>\n      <td>2023-12-09 17:25:46</td>\n      <td>Escherichia coli</td>\n      <td>M105</td>\n      <td>2015</td>\n      <td>MIGS.ba.human-associated,human blood</td>\n      <td>Asia</td>\n      <td>Myanmar</td>\n      <td>Yangon</td>\n      <td>&lt;NA&gt;</td>\n      <td>&lt;NA&gt;</td>\n    </tr>\n  </tbody>\n</table>\n<p>5 rows × 56 columns</p>\n</div>"
     },
     "execution_count": 16,
     "metadata": {},
     "output_type": "execute_result"
    }
   ],
   "source": [
    "combined_df = combined_df.dropna(axis=1, how='all')\n",
    "\n",
    "print(f'---Number of rows: {combined_df.shape[0]}, Number of columns: {combined_df.shape[1]}---')\n",
    "combined_df.head()"
   ]
  },
  {
   "cell_type": "markdown",
   "source": [
    "## Make a clean TSV using a selection of columns for parsing with bash when downloading through SRAtools"
   ],
   "metadata": {
    "collapsed": false
   },
   "id": "4f57f8c66896408a"
  },
  {
   "cell_type": "code",
   "outputs": [
    {
     "data": {
      "text/plain": "run_accession\nDRR065950     PACBIO_SMRT\nDRR065949     PACBIO_SMRT\nDRR065951     PACBIO_SMRT\nDRR067778     PACBIO_SMRT\nDRR070681     PACBIO_SMRT\n                 ...     \nERR9079443       ILLUMINA\nERR9079436       ILLUMINA\nERR9079429       ILLUMINA\nERR9079439       ILLUMINA\nERR9079431       ILLUMINA\nName: platform, Length: 24343, dtype: string"
     },
     "execution_count": 21,
     "metadata": {},
     "output_type": "execute_result"
    }
   ],
   "source": [
    "clean_tsv = combined_df['platform']\n",
    "clean_tsv.head()"
   ],
   "metadata": {
    "collapsed": false,
    "ExecuteTime": {
     "end_time": "2024-02-09T14:45:37.941159038Z",
     "start_time": "2024-02-09T14:45:37.897831800Z"
    }
   },
   "id": "ee3c175cfa2d2856",
   "execution_count": 21
  },
  {
   "cell_type": "markdown",
   "source": [
    "## Write out files"
   ],
   "metadata": {
    "collapsed": false
   },
   "id": "397d6f39e9180158"
  },
  {
   "cell_type": "code",
   "outputs": [],
   "source": [
    "clean_tsv.to_csv(snakemake.output[1])\n",
    "combined_df.to_csv(snakemake.output[0], na_rep='NaN')"
   ],
   "metadata": {
    "collapsed": false
   },
   "id": "d4f390e5a77f5c29",
   "execution_count": null
  }
 ],
 "metadata": {
  "kernelspec": {
   "display_name": "Python 3 (ipykernel)",
   "language": "python",
   "name": "python3"
  },
  "language_info": {
   "codemirror_mode": {
    "name": "ipython",
    "version": 3
   },
   "file_extension": ".py",
   "mimetype": "text/x-python",
   "name": "python",
   "nbconvert_exporter": "python",
   "pygments_lexer": "ipython3",
   "version": "3.10.13"
  }
 },
 "nbformat": 4,
 "nbformat_minor": 5
}
