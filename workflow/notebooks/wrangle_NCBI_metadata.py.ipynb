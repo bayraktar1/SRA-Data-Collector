{
 "cells": [
  {
   "cell_type": "markdown",
   "id": "39bc4d739aa7cfad",
   "metadata": {},
   "source": [
    "# Introduction\n",
    "To do downstream analysis later in the project we need:\n",
    "1. Geolocation of where the sample was taken\n",
    "2. Source that the sample was isolated from\n",
    "3. Date on which the sample was collected\n",
    "4. Filter out lab strains\n",
    "\n",
    "None of these things have a column in any of the tables from the NCBI database. See this [paper](https://www.ncbi.nlm.nih.gov/pmc/articles/PMC6380228/) that describes how metadata in NCBI sucks.\n",
    " \n",
    "However, there is a column called 'sample_attribute' in the SRA and Sample table where a submitter can add additional information about a sample. As 'sample_attribute' does not require a specific format or specific information. The information found there varies greatly between samples. Some organizations (rivm) that submit data to the NCBI have a consisted format for this column which then also varies per organization, others do not. This makes it very challenging to extrapolate the information mentioned above for all samples. In this notebook we attempt to extract this information."
   ]
  },
  {
   "cell_type": "code",
   "execution_count": null,
   "id": "73d9d16141f0b738",
   "metadata": {
    "collapsed": false,
    "editable": true,
    "slideshow": {
     "slide_type": ""
    },
    "tags": []
   },
   "outputs": [],
   "source": [
    "import pandas as pd\n",
    "import pyarrow.feather as feather\n",
    "from collections import defaultdict"
   ]
  },
  {
   "cell_type": "markdown",
   "id": "4c20e0d8fb7e6c47",
   "metadata": {
    "collapsed": false
   },
   "source": [
    "Functions written for this notebook are stored in wrangling_funcs.py. Please look there for documentation and tests."
   ]
  },
  {
   "cell_type": "code",
   "execution_count": null,
   "id": "initial_id",
   "metadata": {},
   "outputs": [],
   "source": [
    "import wrangling_funcs"
   ]
  },
  {
   "cell_type": "markdown",
   "id": "5206359fbfd76a73",
   "metadata": {},
   "source": [
    "# Reading in the data\n",
    "---\n",
    "\n",
    "R has a nice package called SRAdb that you can use to query the NCBI database. However, I prefer working in Python. So we are querying the data in R using SRAdb and then exporting it in feather format for use here. There might be a way to directly get a dump of the SRA database and query it without using SRAdb. I will look into this.\n",
    "\n",
    "The default index of a dataframe is not useful to us. Instead, we use the run_accession, these should be unique. This way we can keep track when we split the metadata into a separate dataframe."
   ]
  },
  {
   "cell_type": "code",
   "execution_count": null,
   "id": "91c8e35744180e75",
   "metadata": {},
   "outputs": [],
   "source": [
    "file_path = '../../results/SRA.feather'\n",
    "data = feather.read_feather(file_path)\n",
    "# data = feather.read_feather(snakemake.input[0])\n",
    "\n",
    "metadata_df = pd.DataFrame(data)\n",
    "metadata_df = metadata_df.convert_dtypes()\n",
    "metadata_df.set_index('run_accession', inplace=True)\n",
    "\n",
    "print(f'---Number of rows: {metadata_df.shape[0]}, Number of columns: {metadata_df.shape[1]}---')\n",
    "metadata_df.head()"
   ]
  },
  {
   "cell_type": "markdown",
   "id": "158c7f6169f29941",
   "metadata": {},
   "source": [
    "# Finding metadata in the sample_attribute\n",
    "---\n",
    "\n",
    "All the metadata we are interested in is contained in the 'sample_attribute' column. From what we could see most of the information in this column is split by '||' characters. The information between these characters is then often split using ':'. We will use this to make key value pairs which we will then turn into a dataframe."
   ]
  },
  {
   "cell_type": "code",
   "execution_count": null,
   "id": "7a828f293d94d74e",
   "metadata": {},
   "outputs": [],
   "source": [
    "sample_attribute = metadata_df['sample_attribute']\n",
    "faulty_lines = []\n",
    "correct_lines = []\n",
    "\n",
    "for line, identity in zip(sample_attribute, sample_attribute.index):\n",
    "    line = line.split(\"||\")\n",
    "    line_items = defaultdict(list)\n",
    "    for subitem in line:\n",
    "        try:\n",
    "            key, value = subitem.split(': ', 1)\n",
    "            strip_key = wrangling_funcs.clean_string(key)\n",
    "            strip_value = value.strip()\n",
    "            line_items[strip_key] = strip_value\n",
    "            line_items['run_accession'] = identity\n",
    "        except ValueError:\n",
    "            faulty_lines.append((identity, line))\n",
    "    correct_lines.append(line_items)\n",
    "\n",
    "smpl_att_df = pd.DataFrame(correct_lines)\n",
    "smpl_att_df = smpl_att_df.convert_dtypes()\n",
    "smpl_att_df.set_index('run_accession', inplace=True)\n",
    "\n",
    "print(f'---Number of rows: {smpl_att_df.shape[0]}, Number of columns: {smpl_att_df.shape[1]}---')\n",
    "smpl_att_df.head()"
   ]
  },
  {
   "cell_type": "code",
   "outputs": [],
   "source": [
    "smpl_att_df"
   ],
   "metadata": {
    "collapsed": false
   },
   "id": "cd5264a1a549d2e1",
   "execution_count": null
  },
  {
   "cell_type": "markdown",
   "id": "dbe6e48754571b49",
   "metadata": {},
   "source": [
    "### Replacing missing value synonyms with NA\n",
    "Many of the entries in the database contain words such as 'missing', 'not available', 'not applicable' instead of NaN values. Here we replace those values by NaN's. Key word selection was done based on what we saw when looking through the dataframe."
   ]
  },
  {
   "cell_type": "code",
   "execution_count": null,
   "id": "572c4b4dfc49b223",
   "metadata": {},
   "outputs": [],
   "source": [
    "na_synonyms = {r'^\\*$', '^-$', r'^\\.$', '^[Nn]one$', '^[Nn]an$', '^[Uu]nknown$', '(?i)^not[ _-]collected$', '(?i)^not[ _-]provided', r'^\\?$', '^ $', '(?i)^not[ _-]applicable$', '^[Nn]a$',\n",
    "         '^[Nn]o$', '^[Oo]ther$','^[Mm]is{1,3}ing$', '^[Uu]nspecified$', '^[Nn]ot[ ]available$', '^[Nn]ot[ :]available[:] not collected$', '^[Nn]ot[ :]available[:] to be reported later$'}\n",
    "\n",
    "smpl_att_df_test = smpl_att_df.replace(to_replace=na_synonyms, value=pd.NA, regex=True)\n",
    "\n",
    "print(f'---Number of rows: {smpl_att_df.shape[0]}, Number of columns: {smpl_att_df.shape[1]}---')\n",
    "smpl_att_df.head()"
   ]
  },
  {
   "cell_type": "markdown",
   "id": "df47fa10046a4a4c",
   "metadata": {},
   "source": [
    "### Searching for geographic data\n",
    "\n",
    "There is no consistent column that contains the geolocation. To (hopefully) obtain the geolocation we use regex to find keywords in the column names of the dataframe. The matched columns are then combined in a single column while handling NaN values."
   ]
  },
  {
   "cell_type": "code",
   "execution_count": null,
   "id": "865003592205b67c",
   "metadata": {},
   "outputs": [],
   "source": [
    "geo_col_matches = wrangling_funcs.find_columns(['geo', 'geographic', 'country', 'continent'], smpl_att_df, ['longitude', 'latitude', 'depth'])\n",
    "print(f'The following columns matched the keywords: {geo_col_matches}')\n",
    "smpl_att_df = wrangling_funcs.combine_columns(smpl_att_df, list(geo_col_matches), 'inferred_location')\n",
    "# meta_df.drop(geo_col_matches, inplace=True, axis=1)\n",
    "\n",
    "smpl_att_df['inferred_continent'], smpl_att_df['inferred_country'], smpl_att_df['inferred_city'] = zip(*smpl_att_df['inferred_location'].map(wrangling_funcs.clean_geo))\n",
    "smpl_att_df.drop('inferred_location', axis=1, inplace=True)\n",
    "\n",
    "print(f'---Number of rows: {smpl_att_df.shape[0]}, Number of columns: {smpl_att_df.shape[1]}---')\n",
    "smpl_att_df.head()"
   ]
  },
  {
   "cell_type": "markdown",
   "id": "a0d90f0a9eee1b76",
   "metadata": {},
   "source": [
    "### Searching for the sample collection data\n",
    "\n",
    "There is no consistent column that contains the date. To (hopefully) obtain the date we use regex to find keywords in the column names of the dataframe. The matched columns are then combined in a single column while handling NaN values."
   ]
  },
  {
   "cell_type": "code",
   "execution_count": null,
   "id": "30aec547a3f29fc5",
   "metadata": {},
   "outputs": [],
   "source": [
    "date_col_matches = wrangling_funcs.find_columns(['date', 'year'], smpl_att_df, ['update'])\n",
    "print(f'The following columns matched the keywords: {date_col_matches}')\n",
    "smpl_att_df = wrangling_funcs.combine_columns(smpl_att_df, list(date_col_matches), 'inferred_collection_year')\n",
    "# meta_df.drop(date_col_matches, inplace=True, axis=1)\n",
    "\n",
    "\n",
    "date = smpl_att_df['inferred_collection_year'].str.extract(r'^(\\d{4})', expand=False) # Extract the year\n",
    "smpl_att_df['inferred_collection_year'] = pd.to_numeric(date) # cast year to int\n",
    "# meta_df['inferred_collection_year']\n",
    "\n",
    "print(f'---Number of rows: {smpl_att_df.shape[0]}, Number of columns: {smpl_att_df.shape[1]}---')\n",
    "smpl_att_df.head()"
   ]
  },
  {
   "cell_type": "markdown",
   "id": "379520e6ff30f8d4",
   "metadata": {},
   "source": [
    "### Searching for sample isolation source\n",
    "There is no consistent column that contains the isolation source. To (hopefully) obtain the isolation source we use regex to find keywords in the column names of the dataframe. The matched columns are then combined in a single column while handling NaN values.\n"
   ]
  },
  {
   "cell_type": "code",
   "execution_count": null,
   "id": "79b603a0a61f7aad",
   "metadata": {},
   "outputs": [],
   "source": [
    "isolate_matches = wrangling_funcs.find_columns(['sample', 'source', 'environment', 'env', 'site'], smpl_att_df, ['name', 'provider', 'comment'])\n",
    "print(isolate_matches)\n",
    "\n",
    "smpl_att_df = wrangling_funcs.combine_columns(smpl_att_df, list(isolate_matches), \"inferred_source\")\n",
    "# meta_df.drop(isolate_matches, inplace=True, axis=1)\n",
    "\n",
    "smpl_att_df['inferred_source'] = smpl_att_df['inferred_source'].apply(wrangling_funcs.clean_source)\n",
    "\n",
    "print(f'---Number of rows: {smpl_att_df.shape[0]}, Number of columns: {smpl_att_df.shape[1]}---')\n",
    "smpl_att_df.head()"
   ]
  },
  {
   "cell_type": "markdown",
   "id": "9c1d808c166223c1",
   "metadata": {},
   "source": [
    "### First round removal of lab strains\n",
    "We don't want sample from lab strains, so we filter out rows based on some keywords"
   ]
  },
  {
   "cell_type": "code",
   "execution_count": null,
   "id": "3ddfb0c613d93512",
   "metadata": {},
   "outputs": [],
   "source": [
    "keywords_to_exclude = [\"replicate\", \"mutant\"]\n",
    "smpl_att_df = smpl_att_df[~smpl_att_df.sample_comment.str.contains('|'.join(keywords_to_exclude), case=False, na=False)]\n",
    "smpl_att_df = smpl_att_df[~smpl_att_df.genotype.str.contains('|'.join(keywords_to_exclude), case=False, na=False)]\n",
    "smpl_att_df = smpl_att_df[~smpl_att_df.lab_experiment_type.str.contains('|'.join(keywords_to_exclude), case=False, na=False)]\n",
    "\n",
    "print(f'---Number of rows: {smpl_att_df.shape[0]}, Number of columns: {smpl_att_df.shape[1]}---')\n",
    "smpl_att_df.head()"
   ]
  },
  {
   "cell_type": "markdown",
   "id": "40fd0a97f2738fc",
   "metadata": {},
   "source": [
    "### Remove non relevant columns\n",
    "We have a ton of columns and very few of them are actually usefull to us. Let's remove all not relevant columns"
   ]
  },
  {
   "cell_type": "code",
   "execution_count": null,
   "id": "97b0d35d9e2d79a6",
   "metadata": {},
   "outputs": [],
   "source": [
    "smpl_att_df = smpl_att_df[['strain', 'inferred_collection_year', 'inferred_source', 'inferred_continent', 'inferred_country', 'inferred_city', 'geographic_location_latitude', 'geographic_location_longitude']]\n",
    "\n",
    "print(f'---Number of rows: {smpl_att_df.shape[0]}, Number of columns: {smpl_att_df.shape[1]}---')\n",
    "smpl_att_df.head()"
   ]
  },
  {
   "cell_type": "markdown",
   "id": "81a13abd9b64c06b",
   "metadata": {},
   "source": [
    "# Combine sample_attribute metadata with rest of the data\n",
    "---\n",
    "Now that we have extracted the metadata that we wanted we can combine it back to the original dataframe. We only want to keep rows that have values for the collection_year/source/country because we require this downstream."
   ]
  },
  {
   "cell_type": "code",
   "execution_count": null,
   "id": "a9cbab3a752d8017",
   "metadata": {},
   "outputs": [],
   "source": [
    "combined_df = metadata_df.join(smpl_att_df)\n",
    "cols = ['inferred_collection_year', 'inferred_source', 'inferred_country']\n",
    "combined_df = combined_df.dropna(subset=cols)\n",
    "\n",
    "print(f'---Number of rows: {combined_df.shape[0]}, Number of columns: {combined_df.shape[1]}---')\n",
    "combined_df.head()"
   ]
  },
  {
   "cell_type": "markdown",
   "id": "55198bd427d5c42e",
   "metadata": {},
   "source": [
    "### Remove lab strain samples from combined dataframe\n",
    "After combining the dataframes we have new columns that might give us more information if a particular run comes from a lab strain, so we filter again.\n"
   ]
  },
  {
   "cell_type": "code",
   "execution_count": null,
   "id": "2bd9c39ef570dd47",
   "metadata": {},
   "outputs": [],
   "source": [
    "keywords_to_exclude = [\"replicate\", \"mutant\"]\n",
    "\n",
    "combined_df = combined_df[~combined_df.description.str.contains('|'.join(keywords_to_exclude), case=False, na=False)]\n",
    "combined_df = combined_df[~combined_df.study_title.str.contains('|'.join(keywords_to_exclude), case=False, na=False)]\n",
    "combined_df = combined_df[~combined_df.study_abstract.str.contains('|'.join(keywords_to_exclude), case=False, na=False)]\n",
    "combined_df = combined_df[~combined_df.study_description.str.contains('|'.join(keywords_to_exclude), case=False, na=False)]\n",
    "\n",
    "print(f'---Number of rows: {combined_df.shape[0]}, Number of columns: {combined_df.shape[1]}---')\n",
    "combined_df.head()"
   ]
  },
  {
   "cell_type": "markdown",
   "id": "3cafbfa298db2931",
   "metadata": {},
   "source": [
    "### Remove samples submitted by the RIVM\n",
    "Since we will already have the RIVM samples in the database there is no need to have them here."
   ]
  },
  {
   "cell_type": "code",
   "execution_count": null,
   "id": "a1c6e624dcc61a76",
   "metadata": {},
   "outputs": [],
   "source": [
    "combined_df = combined_df[~combined_df.submission_center.str.contains(\"RIVM\", na=False)] # Remove samples submitted by the RIVM\n",
    "\n",
    "print(f'---Number of rows: {combined_df.shape[0]}, Number of columns: {combined_df.shape[1]}---')\n",
    "combined_df.head()"
   ]
  },
  {
   "cell_type": "markdown",
   "id": "c5c2778ca7bef4f1",
   "metadata": {},
   "source": [
    "### Replace missing value synonyms with NA\n",
    "Once again after combining and obtaining new columns there are values in the rows that indicate NaNs"
   ]
  },
  {
   "cell_type": "code",
   "execution_count": null,
   "id": "c9dbf21e43d9c605",
   "metadata": {},
   "outputs": [],
   "source": [
    "na_synonyms = {r'^\\*$', '^-$', r'^\\.$', '^[Nn]one$', '^[Nn]an$', '^[Uu]nknown$', '(?i)^not[ _-]collected$', '(?i)^not[ _-]provided', r'^\\?$', '^ $', '(?i)^not[ _-]applicable$', '^[Nn]a$',\n",
    "               '^[Nn]o$', '^[Oo]ther$','^[Mm]is{1,3}ing$', '^[Uu]nspecified$', '^[Nn]ot[ ]available$', '^[Nn]ot[ :]available[:] not collected$', '^[Nn]ot[ :]available[:] to be reported later$'}\n",
    "combined_df = combined_df.replace(to_replace=na_synonyms, value=pd.NA, regex=True)\n",
    "\n",
    "print(f'---Number of rows: {combined_df.shape[0]}, Number of columns: {combined_df.shape[1]}---')\n",
    "combined_df.head()"
   ]
  },
  {
   "cell_type": "markdown",
   "id": "8b81ad3a186933b9",
   "metadata": {},
   "source": [
    "### Throw away empty columns\n",
    "We want to filter out columns that only have NaN values so there is less cluter"
   ]
  },
  {
   "cell_type": "code",
   "execution_count": 16,
   "id": "fe3650674b5c6f7d",
   "metadata": {
    "ExecuteTime": {
     "end_time": "2024-02-08T15:00:34.358540749Z",
     "start_time": "2024-02-08T15:00:34.195822223Z"
    }
   },
   "outputs": [
    {
     "name": "stdout",
     "output_type": "stream",
     "text": [
      "---Number of rows: 26104, Number of columns: 56---\n"
     ]
    },
    {
     "data": {
      "text/plain": "               sra_ID  run_ID  run_alias updated_date   spots       bases  \\\nrun_accession                                                               \nDRR065950       60940   60941  DRR065950   2023-06-18  163482  2261498784   \nDRR065949       60942   60940  DRR065949   2023-06-20  163482  1515099158   \nDRR065951       60944   60943  DRR065951   2023-06-21  163482  1398527654   \nDRR067778       62654   62654  DRR067778   2023-06-20   35065   247198598   \nDRR070681       65464   65468  DRR070681   2023-06-18   69700   383913853   \n\n              run_center experiment_name run_attribute  experiment_ID  ...  \\\nrun_accession                                                          ...   \nDRR065950           <NA>       DRX060093          <NA>          55877  ...   \nDRR065949           <NA>       DRX060092          <NA>          55875  ...   \nDRR065951           <NA>       DRX060094          <NA>          55874  ...   \nDRR067778           <NA>       DRX061698          <NA>          57390  ...   \nDRR070681           <NA>       DRX064631          <NA>          60206  ...   \n\n                     sradb_updated        scientific_name      strain  \\\nrun_accession                                                           \nDRR065950      2023-12-09 17:25:46       Escherichia coli   MRY15-117   \nDRR065949      2023-12-09 17:25:46       Escherichia coli  20Ec-P-124   \nDRR065951      2023-12-09 17:25:46       Escherichia coli   MRY15-131   \nDRR067778      2023-12-09 17:25:46  Klebsiella pneumoniae        KP01   \nDRR070681      2023-12-09 17:25:46       Escherichia coli        M105   \n\n              inferred_collection_year  \\\nrun_accession                            \nDRR065950                       2012.0   \nDRR065949                       2008.0   \nDRR065951                       2013.0   \nDRR067778                       2014.0   \nDRR070681                       2015.0   \n\n                                                 inferred_source  \\\nrun_accession                                                      \nDRR065950                                        MIGS.ba,missing   \nDRR065949                                        MIGS.ba,missing   \nDRR065951                                        MIGS.ba,missing   \nDRR067778      rectal swab,missing,not applicable,MIGS.ba.hum...   \nDRR070681      human blood,not applicable,MIGS.ba.human-assoc...   \n\n              inferred_continent inferred_country inferred_city  \\\nrun_accession                                                     \nDRR065950                   Asia            Japan           NaN   \nDRR065949                   Asia            Japan           NaN   \nDRR065951                   Asia            Japan           NaN   \nDRR067778                   Asia         Thailand       Bangkok   \nDRR070681                   Asia          Myanmar        Yangon   \n\n              geographic_location_latitude geographic_location_longitude  \nrun_accession                                                             \nDRR065950                             <NA>                          <NA>  \nDRR065949                             <NA>                          <NA>  \nDRR065951                             <NA>                          <NA>  \nDRR067778                             <NA>                          <NA>  \nDRR070681                             <NA>                          <NA>  \n\n[5 rows x 56 columns]",
      "text/html": "<div>\n<style scoped>\n    .dataframe tbody tr th:only-of-type {\n        vertical-align: middle;\n    }\n\n    .dataframe tbody tr th {\n        vertical-align: top;\n    }\n\n    .dataframe thead th {\n        text-align: right;\n    }\n</style>\n<table border=\"1\" class=\"dataframe\">\n  <thead>\n    <tr style=\"text-align: right;\">\n      <th></th>\n      <th>sra_ID</th>\n      <th>run_ID</th>\n      <th>run_alias</th>\n      <th>updated_date</th>\n      <th>spots</th>\n      <th>bases</th>\n      <th>run_center</th>\n      <th>experiment_name</th>\n      <th>run_attribute</th>\n      <th>experiment_ID</th>\n      <th>...</th>\n      <th>sradb_updated</th>\n      <th>scientific_name</th>\n      <th>strain</th>\n      <th>inferred_collection_year</th>\n      <th>inferred_source</th>\n      <th>inferred_continent</th>\n      <th>inferred_country</th>\n      <th>inferred_city</th>\n      <th>geographic_location_latitude</th>\n      <th>geographic_location_longitude</th>\n    </tr>\n    <tr>\n      <th>run_accession</th>\n      <th></th>\n      <th></th>\n      <th></th>\n      <th></th>\n      <th></th>\n      <th></th>\n      <th></th>\n      <th></th>\n      <th></th>\n      <th></th>\n      <th></th>\n      <th></th>\n      <th></th>\n      <th></th>\n      <th></th>\n      <th></th>\n      <th></th>\n      <th></th>\n      <th></th>\n      <th></th>\n      <th></th>\n    </tr>\n  </thead>\n  <tbody>\n    <tr>\n      <th>DRR065950</th>\n      <td>60940</td>\n      <td>60941</td>\n      <td>DRR065950</td>\n      <td>2023-06-18</td>\n      <td>163482</td>\n      <td>2261498784</td>\n      <td>&lt;NA&gt;</td>\n      <td>DRX060093</td>\n      <td>&lt;NA&gt;</td>\n      <td>55877</td>\n      <td>...</td>\n      <td>2023-12-09 17:25:46</td>\n      <td>Escherichia coli</td>\n      <td>MRY15-117</td>\n      <td>2012.0</td>\n      <td>MIGS.ba,missing</td>\n      <td>Asia</td>\n      <td>Japan</td>\n      <td>NaN</td>\n      <td>&lt;NA&gt;</td>\n      <td>&lt;NA&gt;</td>\n    </tr>\n    <tr>\n      <th>DRR065949</th>\n      <td>60942</td>\n      <td>60940</td>\n      <td>DRR065949</td>\n      <td>2023-06-20</td>\n      <td>163482</td>\n      <td>1515099158</td>\n      <td>&lt;NA&gt;</td>\n      <td>DRX060092</td>\n      <td>&lt;NA&gt;</td>\n      <td>55875</td>\n      <td>...</td>\n      <td>2023-12-09 17:25:46</td>\n      <td>Escherichia coli</td>\n      <td>20Ec-P-124</td>\n      <td>2008.0</td>\n      <td>MIGS.ba,missing</td>\n      <td>Asia</td>\n      <td>Japan</td>\n      <td>NaN</td>\n      <td>&lt;NA&gt;</td>\n      <td>&lt;NA&gt;</td>\n    </tr>\n    <tr>\n      <th>DRR065951</th>\n      <td>60944</td>\n      <td>60943</td>\n      <td>DRR065951</td>\n      <td>2023-06-21</td>\n      <td>163482</td>\n      <td>1398527654</td>\n      <td>&lt;NA&gt;</td>\n      <td>DRX060094</td>\n      <td>&lt;NA&gt;</td>\n      <td>55874</td>\n      <td>...</td>\n      <td>2023-12-09 17:25:46</td>\n      <td>Escherichia coli</td>\n      <td>MRY15-131</td>\n      <td>2013.0</td>\n      <td>MIGS.ba,missing</td>\n      <td>Asia</td>\n      <td>Japan</td>\n      <td>NaN</td>\n      <td>&lt;NA&gt;</td>\n      <td>&lt;NA&gt;</td>\n    </tr>\n    <tr>\n      <th>DRR067778</th>\n      <td>62654</td>\n      <td>62654</td>\n      <td>DRR067778</td>\n      <td>2023-06-20</td>\n      <td>35065</td>\n      <td>247198598</td>\n      <td>&lt;NA&gt;</td>\n      <td>DRX061698</td>\n      <td>&lt;NA&gt;</td>\n      <td>57390</td>\n      <td>...</td>\n      <td>2023-12-09 17:25:46</td>\n      <td>Klebsiella pneumoniae</td>\n      <td>KP01</td>\n      <td>2014.0</td>\n      <td>rectal swab,missing,not applicable,MIGS.ba.hum...</td>\n      <td>Asia</td>\n      <td>Thailand</td>\n      <td>Bangkok</td>\n      <td>&lt;NA&gt;</td>\n      <td>&lt;NA&gt;</td>\n    </tr>\n    <tr>\n      <th>DRR070681</th>\n      <td>65464</td>\n      <td>65468</td>\n      <td>DRR070681</td>\n      <td>2023-06-18</td>\n      <td>69700</td>\n      <td>383913853</td>\n      <td>&lt;NA&gt;</td>\n      <td>DRX064631</td>\n      <td>&lt;NA&gt;</td>\n      <td>60206</td>\n      <td>...</td>\n      <td>2023-12-09 17:25:46</td>\n      <td>Escherichia coli</td>\n      <td>M105</td>\n      <td>2015.0</td>\n      <td>human blood,not applicable,MIGS.ba.human-assoc...</td>\n      <td>Asia</td>\n      <td>Myanmar</td>\n      <td>Yangon</td>\n      <td>&lt;NA&gt;</td>\n      <td>&lt;NA&gt;</td>\n    </tr>\n  </tbody>\n</table>\n<p>5 rows × 56 columns</p>\n</div>"
     },
     "execution_count": 16,
     "metadata": {},
     "output_type": "execute_result"
    }
   ],
   "source": [
    "combined_df = combined_df.dropna(axis=1, how='all')\n",
    "\n",
    "print(f'---Number of rows: {combined_df.shape[0]}, Number of columns: {combined_df.shape[1]}---')\n",
    "combined_df.head()"
   ]
  },
  {
   "cell_type": "code",
   "outputs": [
    {
     "data": {
      "text/plain": "                sra_ID   run_ID        run_alias updated_date    spots  \\\nrun_accession                                                            \nDRR065950        60940    60941        DRR065950   2023-06-18   163482   \nDRR065949        60942    60940        DRR065949   2023-06-20   163482   \nDRR065951        60944    60943        DRR065951   2023-06-21   163482   \nDRR067778        62654    62654        DRR067778   2023-06-20    35065   \nDRR070681        65464    65468        DRR070681   2023-06-18    69700   \n...                ...      ...              ...          ...      ...   \nERR9079443     7990656  7990127  SAL_LB9488AA_TR   2023-05-21  2301518   \nERR9079436     7990669  7990120  SAL_LB9480AA_TR   2023-05-18  1776669   \nERR9079429     7990698  7990113  SAL_LB9471AA_TR   2023-06-26  1991641   \nERR9079439     7990711  7990123  SAL_LB9484AA_TR   2023-05-18  1694505   \nERR9079431     7990724  7990115  SAL_LB9473AA_TR   2023-05-18  1790716   \n\n                    bases           run_center experiment_name  \\\nrun_accession                                                    \nDRR065950      2261498784                 <NA>       DRX060093   \nDRR065949      1515099158                 <NA>       DRX060092   \nDRR065951      1398527654                 <NA>       DRX060094   \nDRR067778       247198598                 <NA>       DRX061698   \nDRR070681       383913853                 <NA>       DRX064631   \n...                   ...                  ...             ...   \nERR9079443      685852364  Anthony Smith, NICD            <NA>   \nERR9079436      529447362  Anthony Smith, NICD            <NA>   \nERR9079429      593509018  Anthony Smith, NICD            <NA>   \nERR9079439      504962490  Anthony Smith, NICD            <NA>   \nERR9079431      533633368  Anthony Smith, NICD            <NA>   \n\n                                                   run_attribute  \\\nrun_accession                                                      \nDRR065950                                                   <NA>   \nDRR065949                                                   <NA>   \nDRR065951                                                   <NA>   \nDRR067778                                                   <NA>   \nDRR070681                                                   <NA>   \n...                                                          ...   \nERR9079443     ENA-FIRST-PUBLIC: 2022-03-05 || ENA-LAST-UPDAT...   \nERR9079436     ENA-FIRST-PUBLIC: 2022-03-05 || ENA-LAST-UPDAT...   \nERR9079429     ENA-FIRST-PUBLIC: 2022-03-05 || ENA-LAST-UPDAT...   \nERR9079439     ENA-FIRST-PUBLIC: 2022-03-05 || ENA-LAST-UPDAT...   \nERR9079431     ENA-FIRST-PUBLIC: 2022-03-05 || ENA-LAST-UPDAT...   \n\n               experiment_ID  ...        sradb_updated        scientific_name  \\\nrun_accession                 ...                                               \nDRR065950              55877  ...  2023-12-09 17:25:46       Escherichia coli   \nDRR065949              55875  ...  2023-12-09 17:25:46       Escherichia coli   \nDRR065951              55874  ...  2023-12-09 17:25:46       Escherichia coli   \nDRR067778              57390  ...  2023-12-09 17:25:46  Klebsiella pneumoniae   \nDRR070681              60206  ...  2023-12-09 17:25:46       Escherichia coli   \n...                      ...  ...                  ...                    ...   \nERR9079443           7622780  ...  2023-12-09 17:25:46    Salmonella enterica   \nERR9079436           7622773  ...  2023-12-09 17:25:46    Salmonella enterica   \nERR9079429           7622766  ...  2023-12-09 17:25:46    Salmonella enterica   \nERR9079439           7622776  ...  2023-12-09 17:25:46    Salmonella enterica   \nERR9079431           7622768  ...  2023-12-09 17:25:46    Salmonella enterica   \n\n                   strain inferred_collection_year  \\\nrun_accession                                        \nDRR065950       MRY15-117                   2012.0   \nDRR065949      20Ec-P-124                   2008.0   \nDRR065951       MRY15-131                   2013.0   \nDRR067778            KP01                   2014.0   \nDRR070681            M105                   2015.0   \n...                   ...                      ...   \nERR9079443     YA00197045                   2020.0   \nERR9079436     YA00230774                   2020.0   \nERR9079429     YA00230709                   2020.0   \nERR9079439     YA00197228                   2020.0   \nERR9079431     YA00230720                   2020.0   \n\n                                                 inferred_source  \\\nrun_accession                                                      \nDRR065950                                        MIGS.ba,missing   \nDRR065949                                        MIGS.ba,missing   \nDRR065951                                        MIGS.ba,missing   \nDRR067778      rectal swab,missing,not applicable,MIGS.ba.hum...   \nDRR070681      human blood,not applicable,MIGS.ba.human-assoc...   \n...                                                          ...   \nERR9079443                                           Stool,Human   \nERR9079436                                   Blood culture,Human   \nERR9079429                                           Stool,Human   \nERR9079439                                           Stool,Human   \nERR9079431                                           Stool,Human   \n\n              inferred_continent inferred_country  inferred_city  \\\nrun_accession                                                      \nDRR065950                   Asia            Japan            NaN   \nDRR065949                   Asia            Japan            NaN   \nDRR065951                   Asia            Japan            NaN   \nDRR067778                   Asia         Thailand        Bangkok   \nDRR070681                   Asia          Myanmar         Yangon   \n...                          ...              ...            ...   \nERR9079443                Africa     South Africa   Western Cape   \nERR9079436                Africa     South Africa   Eastern Cape   \nERR9079429                Africa     South Africa  KwaZulu-Natal   \nERR9079439                Africa     South Africa  KwaZulu-Natal   \nERR9079431                Africa     South Africa  KwaZulu-Natal   \n\n              geographic_location_latitude geographic_location_longitude  \nrun_accession                                                             \nDRR065950                             <NA>                          <NA>  \nDRR065949                             <NA>                          <NA>  \nDRR065951                             <NA>                          <NA>  \nDRR067778                             <NA>                          <NA>  \nDRR070681                             <NA>                          <NA>  \n...                                    ...                           ...  \nERR9079443                            <NA>                          <NA>  \nERR9079436                            <NA>                          <NA>  \nERR9079429                            <NA>                          <NA>  \nERR9079439                            <NA>                          <NA>  \nERR9079431                            <NA>                          <NA>  \n\n[26104 rows x 56 columns]",
      "text/html": "<div>\n<style scoped>\n    .dataframe tbody tr th:only-of-type {\n        vertical-align: middle;\n    }\n\n    .dataframe tbody tr th {\n        vertical-align: top;\n    }\n\n    .dataframe thead th {\n        text-align: right;\n    }\n</style>\n<table border=\"1\" class=\"dataframe\">\n  <thead>\n    <tr style=\"text-align: right;\">\n      <th></th>\n      <th>sra_ID</th>\n      <th>run_ID</th>\n      <th>run_alias</th>\n      <th>updated_date</th>\n      <th>spots</th>\n      <th>bases</th>\n      <th>run_center</th>\n      <th>experiment_name</th>\n      <th>run_attribute</th>\n      <th>experiment_ID</th>\n      <th>...</th>\n      <th>sradb_updated</th>\n      <th>scientific_name</th>\n      <th>strain</th>\n      <th>inferred_collection_year</th>\n      <th>inferred_source</th>\n      <th>inferred_continent</th>\n      <th>inferred_country</th>\n      <th>inferred_city</th>\n      <th>geographic_location_latitude</th>\n      <th>geographic_location_longitude</th>\n    </tr>\n    <tr>\n      <th>run_accession</th>\n      <th></th>\n      <th></th>\n      <th></th>\n      <th></th>\n      <th></th>\n      <th></th>\n      <th></th>\n      <th></th>\n      <th></th>\n      <th></th>\n      <th></th>\n      <th></th>\n      <th></th>\n      <th></th>\n      <th></th>\n      <th></th>\n      <th></th>\n      <th></th>\n      <th></th>\n      <th></th>\n      <th></th>\n    </tr>\n  </thead>\n  <tbody>\n    <tr>\n      <th>DRR065950</th>\n      <td>60940</td>\n      <td>60941</td>\n      <td>DRR065950</td>\n      <td>2023-06-18</td>\n      <td>163482</td>\n      <td>2261498784</td>\n      <td>&lt;NA&gt;</td>\n      <td>DRX060093</td>\n      <td>&lt;NA&gt;</td>\n      <td>55877</td>\n      <td>...</td>\n      <td>2023-12-09 17:25:46</td>\n      <td>Escherichia coli</td>\n      <td>MRY15-117</td>\n      <td>2012.0</td>\n      <td>MIGS.ba,missing</td>\n      <td>Asia</td>\n      <td>Japan</td>\n      <td>NaN</td>\n      <td>&lt;NA&gt;</td>\n      <td>&lt;NA&gt;</td>\n    </tr>\n    <tr>\n      <th>DRR065949</th>\n      <td>60942</td>\n      <td>60940</td>\n      <td>DRR065949</td>\n      <td>2023-06-20</td>\n      <td>163482</td>\n      <td>1515099158</td>\n      <td>&lt;NA&gt;</td>\n      <td>DRX060092</td>\n      <td>&lt;NA&gt;</td>\n      <td>55875</td>\n      <td>...</td>\n      <td>2023-12-09 17:25:46</td>\n      <td>Escherichia coli</td>\n      <td>20Ec-P-124</td>\n      <td>2008.0</td>\n      <td>MIGS.ba,missing</td>\n      <td>Asia</td>\n      <td>Japan</td>\n      <td>NaN</td>\n      <td>&lt;NA&gt;</td>\n      <td>&lt;NA&gt;</td>\n    </tr>\n    <tr>\n      <th>DRR065951</th>\n      <td>60944</td>\n      <td>60943</td>\n      <td>DRR065951</td>\n      <td>2023-06-21</td>\n      <td>163482</td>\n      <td>1398527654</td>\n      <td>&lt;NA&gt;</td>\n      <td>DRX060094</td>\n      <td>&lt;NA&gt;</td>\n      <td>55874</td>\n      <td>...</td>\n      <td>2023-12-09 17:25:46</td>\n      <td>Escherichia coli</td>\n      <td>MRY15-131</td>\n      <td>2013.0</td>\n      <td>MIGS.ba,missing</td>\n      <td>Asia</td>\n      <td>Japan</td>\n      <td>NaN</td>\n      <td>&lt;NA&gt;</td>\n      <td>&lt;NA&gt;</td>\n    </tr>\n    <tr>\n      <th>DRR067778</th>\n      <td>62654</td>\n      <td>62654</td>\n      <td>DRR067778</td>\n      <td>2023-06-20</td>\n      <td>35065</td>\n      <td>247198598</td>\n      <td>&lt;NA&gt;</td>\n      <td>DRX061698</td>\n      <td>&lt;NA&gt;</td>\n      <td>57390</td>\n      <td>...</td>\n      <td>2023-12-09 17:25:46</td>\n      <td>Klebsiella pneumoniae</td>\n      <td>KP01</td>\n      <td>2014.0</td>\n      <td>rectal swab,missing,not applicable,MIGS.ba.hum...</td>\n      <td>Asia</td>\n      <td>Thailand</td>\n      <td>Bangkok</td>\n      <td>&lt;NA&gt;</td>\n      <td>&lt;NA&gt;</td>\n    </tr>\n    <tr>\n      <th>DRR070681</th>\n      <td>65464</td>\n      <td>65468</td>\n      <td>DRR070681</td>\n      <td>2023-06-18</td>\n      <td>69700</td>\n      <td>383913853</td>\n      <td>&lt;NA&gt;</td>\n      <td>DRX064631</td>\n      <td>&lt;NA&gt;</td>\n      <td>60206</td>\n      <td>...</td>\n      <td>2023-12-09 17:25:46</td>\n      <td>Escherichia coli</td>\n      <td>M105</td>\n      <td>2015.0</td>\n      <td>human blood,not applicable,MIGS.ba.human-assoc...</td>\n      <td>Asia</td>\n      <td>Myanmar</td>\n      <td>Yangon</td>\n      <td>&lt;NA&gt;</td>\n      <td>&lt;NA&gt;</td>\n    </tr>\n    <tr>\n      <th>...</th>\n      <td>...</td>\n      <td>...</td>\n      <td>...</td>\n      <td>...</td>\n      <td>...</td>\n      <td>...</td>\n      <td>...</td>\n      <td>...</td>\n      <td>...</td>\n      <td>...</td>\n      <td>...</td>\n      <td>...</td>\n      <td>...</td>\n      <td>...</td>\n      <td>...</td>\n      <td>...</td>\n      <td>...</td>\n      <td>...</td>\n      <td>...</td>\n      <td>...</td>\n      <td>...</td>\n    </tr>\n    <tr>\n      <th>ERR9079443</th>\n      <td>7990656</td>\n      <td>7990127</td>\n      <td>SAL_LB9488AA_TR</td>\n      <td>2023-05-21</td>\n      <td>2301518</td>\n      <td>685852364</td>\n      <td>Anthony Smith, NICD</td>\n      <td>&lt;NA&gt;</td>\n      <td>ENA-FIRST-PUBLIC: 2022-03-05 || ENA-LAST-UPDAT...</td>\n      <td>7622780</td>\n      <td>...</td>\n      <td>2023-12-09 17:25:46</td>\n      <td>Salmonella enterica</td>\n      <td>YA00197045</td>\n      <td>2020.0</td>\n      <td>Stool,Human</td>\n      <td>Africa</td>\n      <td>South Africa</td>\n      <td>Western Cape</td>\n      <td>&lt;NA&gt;</td>\n      <td>&lt;NA&gt;</td>\n    </tr>\n    <tr>\n      <th>ERR9079436</th>\n      <td>7990669</td>\n      <td>7990120</td>\n      <td>SAL_LB9480AA_TR</td>\n      <td>2023-05-18</td>\n      <td>1776669</td>\n      <td>529447362</td>\n      <td>Anthony Smith, NICD</td>\n      <td>&lt;NA&gt;</td>\n      <td>ENA-FIRST-PUBLIC: 2022-03-05 || ENA-LAST-UPDAT...</td>\n      <td>7622773</td>\n      <td>...</td>\n      <td>2023-12-09 17:25:46</td>\n      <td>Salmonella enterica</td>\n      <td>YA00230774</td>\n      <td>2020.0</td>\n      <td>Blood culture,Human</td>\n      <td>Africa</td>\n      <td>South Africa</td>\n      <td>Eastern Cape</td>\n      <td>&lt;NA&gt;</td>\n      <td>&lt;NA&gt;</td>\n    </tr>\n    <tr>\n      <th>ERR9079429</th>\n      <td>7990698</td>\n      <td>7990113</td>\n      <td>SAL_LB9471AA_TR</td>\n      <td>2023-06-26</td>\n      <td>1991641</td>\n      <td>593509018</td>\n      <td>Anthony Smith, NICD</td>\n      <td>&lt;NA&gt;</td>\n      <td>ENA-FIRST-PUBLIC: 2022-03-05 || ENA-LAST-UPDAT...</td>\n      <td>7622766</td>\n      <td>...</td>\n      <td>2023-12-09 17:25:46</td>\n      <td>Salmonella enterica</td>\n      <td>YA00230709</td>\n      <td>2020.0</td>\n      <td>Stool,Human</td>\n      <td>Africa</td>\n      <td>South Africa</td>\n      <td>KwaZulu-Natal</td>\n      <td>&lt;NA&gt;</td>\n      <td>&lt;NA&gt;</td>\n    </tr>\n    <tr>\n      <th>ERR9079439</th>\n      <td>7990711</td>\n      <td>7990123</td>\n      <td>SAL_LB9484AA_TR</td>\n      <td>2023-05-18</td>\n      <td>1694505</td>\n      <td>504962490</td>\n      <td>Anthony Smith, NICD</td>\n      <td>&lt;NA&gt;</td>\n      <td>ENA-FIRST-PUBLIC: 2022-03-05 || ENA-LAST-UPDAT...</td>\n      <td>7622776</td>\n      <td>...</td>\n      <td>2023-12-09 17:25:46</td>\n      <td>Salmonella enterica</td>\n      <td>YA00197228</td>\n      <td>2020.0</td>\n      <td>Stool,Human</td>\n      <td>Africa</td>\n      <td>South Africa</td>\n      <td>KwaZulu-Natal</td>\n      <td>&lt;NA&gt;</td>\n      <td>&lt;NA&gt;</td>\n    </tr>\n    <tr>\n      <th>ERR9079431</th>\n      <td>7990724</td>\n      <td>7990115</td>\n      <td>SAL_LB9473AA_TR</td>\n      <td>2023-05-18</td>\n      <td>1790716</td>\n      <td>533633368</td>\n      <td>Anthony Smith, NICD</td>\n      <td>&lt;NA&gt;</td>\n      <td>ENA-FIRST-PUBLIC: 2022-03-05 || ENA-LAST-UPDAT...</td>\n      <td>7622768</td>\n      <td>...</td>\n      <td>2023-12-09 17:25:46</td>\n      <td>Salmonella enterica</td>\n      <td>YA00230720</td>\n      <td>2020.0</td>\n      <td>Stool,Human</td>\n      <td>Africa</td>\n      <td>South Africa</td>\n      <td>KwaZulu-Natal</td>\n      <td>&lt;NA&gt;</td>\n      <td>&lt;NA&gt;</td>\n    </tr>\n  </tbody>\n</table>\n<p>26104 rows × 56 columns</p>\n</div>"
     },
     "execution_count": 17,
     "metadata": {},
     "output_type": "execute_result"
    }
   ],
   "source": [
    "combined_df"
   ],
   "metadata": {
    "collapsed": false,
    "ExecuteTime": {
     "end_time": "2024-02-08T15:07:55.281696417Z",
     "start_time": "2024-02-08T15:07:55.162813877Z"
    }
   },
   "id": "ccff0888e8a8d433",
   "execution_count": 17
  },
  {
   "cell_type": "code",
   "outputs": [],
   "source": [],
   "metadata": {
    "collapsed": false
   },
   "id": "61cf0f43e30c7a21"
  },
  {
   "cell_type": "markdown",
   "source": [
    "## Write out files"
   ],
   "metadata": {
    "collapsed": false
   },
   "id": "397d6f39e9180158"
  },
  {
   "cell_type": "code",
   "outputs": [],
   "source": [
    "combined_df.to_csv(snakemake.output[0], na_rep='NaN')"
   ],
   "metadata": {
    "collapsed": false
   },
   "id": "d4f390e5a77f5c29",
   "execution_count": 0
  }
 ],
 "metadata": {
  "kernelspec": {
   "display_name": "Python 3 (ipykernel)",
   "language": "python",
   "name": "python3"
  },
  "language_info": {
   "codemirror_mode": {
    "name": "ipython",
    "version": 3
   },
   "file_extension": ".py",
   "mimetype": "text/x-python",
   "name": "python",
   "nbconvert_exporter": "python",
   "pygments_lexer": "ipython3",
   "version": "3.10.13"
  }
 },
 "nbformat": 4,
 "nbformat_minor": 5
}
