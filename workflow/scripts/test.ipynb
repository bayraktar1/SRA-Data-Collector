{
 "cells": [
  {
   "cell_type": "code",
   "execution_count": 6,
   "id": "initial_id",
   "metadata": {
    "collapsed": true,
    "ExecuteTime": {
     "end_time": "2024-02-13T10:43:49.708612698Z",
     "start_time": "2024-02-13T10:43:49.707593758Z"
    }
   },
   "outputs": [],
   "source": [
    "import pandas as pd"
   ]
  },
  {
   "cell_type": "code",
   "outputs": [],
   "source": [
    "file = \"/home/bayraktar/PycharmProjects/reconstruct_plasmids_snakemake/results/clean_tsv.tsv\"\n",
    "platform = \"ILLUMINA, OXFORD_NANOPORE\"\n",
    "# platform = \"PACBIO_SMRT\""
   ],
   "metadata": {
    "collapsed": false,
    "ExecuteTime": {
     "end_time": "2024-02-13T10:44:33.137669934Z",
     "start_time": "2024-02-13T10:44:33.094552995Z"
    }
   },
   "id": "327fe70a558f1eb",
   "execution_count": 10
  },
  {
   "cell_type": "code",
   "outputs": [],
   "source": [
    "df = pd.read_csv(file, sep=\"\\t\")"
   ],
   "metadata": {
    "collapsed": false,
    "ExecuteTime": {
     "end_time": "2024-02-13T10:43:49.757295104Z",
     "start_time": "2024-02-13T10:43:49.756709926Z"
    }
   },
   "id": "db7abc6bfb1b587",
   "execution_count": 8
  },
  {
   "cell_type": "code",
   "outputs": [
    {
     "data": {
      "text/plain": "      run_accession     platform        scientific_name\n0         DRR065950  PACBIO_SMRT       Escherichia coli\n1         DRR065949  PACBIO_SMRT       Escherichia coli\n2         DRR065951  PACBIO_SMRT       Escherichia coli\n3         DRR067778  PACBIO_SMRT  Klebsiella pneumoniae\n4         DRR070681  PACBIO_SMRT       Escherichia coli\n...             ...          ...                    ...\n24338    ERR9079443     ILLUMINA    Salmonella enterica\n24339    ERR9079436     ILLUMINA    Salmonella enterica\n24340    ERR9079429     ILLUMINA    Salmonella enterica\n24341    ERR9079439     ILLUMINA    Salmonella enterica\n24342    ERR9079431     ILLUMINA    Salmonella enterica\n\n[24343 rows x 3 columns]",
      "text/html": "<div>\n<style scoped>\n    .dataframe tbody tr th:only-of-type {\n        vertical-align: middle;\n    }\n\n    .dataframe tbody tr th {\n        vertical-align: top;\n    }\n\n    .dataframe thead th {\n        text-align: right;\n    }\n</style>\n<table border=\"1\" class=\"dataframe\">\n  <thead>\n    <tr style=\"text-align: right;\">\n      <th></th>\n      <th>run_accession</th>\n      <th>platform</th>\n      <th>scientific_name</th>\n    </tr>\n  </thead>\n  <tbody>\n    <tr>\n      <th>0</th>\n      <td>DRR065950</td>\n      <td>PACBIO_SMRT</td>\n      <td>Escherichia coli</td>\n    </tr>\n    <tr>\n      <th>1</th>\n      <td>DRR065949</td>\n      <td>PACBIO_SMRT</td>\n      <td>Escherichia coli</td>\n    </tr>\n    <tr>\n      <th>2</th>\n      <td>DRR065951</td>\n      <td>PACBIO_SMRT</td>\n      <td>Escherichia coli</td>\n    </tr>\n    <tr>\n      <th>3</th>\n      <td>DRR067778</td>\n      <td>PACBIO_SMRT</td>\n      <td>Klebsiella pneumoniae</td>\n    </tr>\n    <tr>\n      <th>4</th>\n      <td>DRR070681</td>\n      <td>PACBIO_SMRT</td>\n      <td>Escherichia coli</td>\n    </tr>\n    <tr>\n      <th>...</th>\n      <td>...</td>\n      <td>...</td>\n      <td>...</td>\n    </tr>\n    <tr>\n      <th>24338</th>\n      <td>ERR9079443</td>\n      <td>ILLUMINA</td>\n      <td>Salmonella enterica</td>\n    </tr>\n    <tr>\n      <th>24339</th>\n      <td>ERR9079436</td>\n      <td>ILLUMINA</td>\n      <td>Salmonella enterica</td>\n    </tr>\n    <tr>\n      <th>24340</th>\n      <td>ERR9079429</td>\n      <td>ILLUMINA</td>\n      <td>Salmonella enterica</td>\n    </tr>\n    <tr>\n      <th>24341</th>\n      <td>ERR9079439</td>\n      <td>ILLUMINA</td>\n      <td>Salmonella enterica</td>\n    </tr>\n    <tr>\n      <th>24342</th>\n      <td>ERR9079431</td>\n      <td>ILLUMINA</td>\n      <td>Salmonella enterica</td>\n    </tr>\n  </tbody>\n</table>\n<p>24343 rows × 3 columns</p>\n</div>"
     },
     "execution_count": 9,
     "metadata": {},
     "output_type": "execute_result"
    }
   ],
   "source": [
    "df"
   ],
   "metadata": {
    "collapsed": false,
    "ExecuteTime": {
     "end_time": "2024-02-13T10:43:49.758616118Z",
     "start_time": "2024-02-13T10:43:49.756855374Z"
    }
   },
   "id": "a9ee91464bd1d5a4",
   "execution_count": 9
  },
  {
   "cell_type": "code",
   "outputs": [],
   "source": [],
   "metadata": {
    "collapsed": false
   },
   "id": "4f5b9faa725b4983"
  }
 ],
 "metadata": {
  "kernelspec": {
   "display_name": "Python 3",
   "language": "python",
   "name": "python3"
  },
  "language_info": {
   "codemirror_mode": {
    "name": "ipython",
    "version": 2
   },
   "file_extension": ".py",
   "mimetype": "text/x-python",
   "name": "python",
   "nbconvert_exporter": "python",
   "pygments_lexer": "ipython2",
   "version": "2.7.6"
  }
 },
 "nbformat": 4,
 "nbformat_minor": 5
}
